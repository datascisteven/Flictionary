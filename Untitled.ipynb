{
 "cells": [
  {
   "cell_type": "code",
   "execution_count": 9,
   "id": "ab97413b",
   "metadata": {},
   "outputs": [],
   "source": [
    "lst = [1, 7, 3, 4, 12, 6, 8, 15, 20, 10]"
   ]
  },
  {
   "cell_type": "code",
   "execution_count": 12,
   "id": "3e785a3d",
   "metadata": {},
   "outputs": [],
   "source": [
    "lst.reverse()"
   ]
  },
  {
   "cell_type": "code",
   "execution_count": 11,
   "id": "65dea9b6",
   "metadata": {},
   "outputs": [
    {
     "name": "stdout",
     "output_type": "stream",
     "text": [
      "None\n"
     ]
    }
   ],
   "source": [
    "print(sorted_list)"
   ]
  },
  {
   "cell_type": "code",
   "execution_count": 24,
   "id": "875ac5c4",
   "metadata": {},
   "outputs": [],
   "source": [
    "x = 2\n",
    "y = 3\n",
    "z = 4\n",
    "n = 2"
   ]
  },
  {
   "cell_type": "code",
   "execution_count": 28,
   "id": "dbb986bb",
   "metadata": {},
   "outputs": [
    {
     "name": "stdout",
     "output_type": "stream",
     "text": [
      "[[0, 0, 0], [0, 0, 1], [0, 1, 0], [1, 0, 0]]\n"
     ]
    }
   ],
   "source": [
    "lst = []\n",
    "for ix in range(x+1):\n",
    "    for iy in range(y+1):\n",
    "        for iz in range(z+1):\n",
    "            if ix + iy + iz < n:\n",
    "                lst.append([ix, iy, iz])\n",
    "print(lst)"
   ]
  },
  {
   "cell_type": "code",
   "execution_count": 29,
   "id": "b617da33",
   "metadata": {},
   "outputs": [
    {
     "data": {
      "text/plain": [
       "[0, 1, 2]"
      ]
     },
     "execution_count": 29,
     "metadata": {},
     "output_type": "execute_result"
    }
   ],
   "source": [
    "x = 2\n",
    "[ix for ix in range(x+1)]"
   ]
  },
  {
   "cell_type": "code",
   "execution_count": 30,
   "id": "995a2b3c",
   "metadata": {},
   "outputs": [
    {
     "data": {
      "text/plain": [
       "[[0, 0],\n",
       " [0, 1],\n",
       " [0, 2],\n",
       " [0, 3],\n",
       " [1, 0],\n",
       " [1, 1],\n",
       " [1, 2],\n",
       " [1, 3],\n",
       " [2, 0],\n",
       " [2, 1],\n",
       " [2, 2],\n",
       " [2, 3]]"
      ]
     },
     "execution_count": 30,
     "metadata": {},
     "output_type": "execute_result"
    }
   ],
   "source": [
    "[[ix, iy] for ix in range(x+1) for iy in range(y+1)]"
   ]
  },
  {
   "cell_type": "code",
   "execution_count": 33,
   "id": "c7fe7f51",
   "metadata": {},
   "outputs": [
    {
     "data": {
      "text/plain": [
       "[[0, 0, 0],\n",
       " [0, 0, 1],\n",
       " [0, 0, 3],\n",
       " [0, 0, 4],\n",
       " [0, 1, 0],\n",
       " [0, 1, 2],\n",
       " [0, 1, 3],\n",
       " [0, 1, 4],\n",
       " [0, 2, 1],\n",
       " [0, 2, 2],\n",
       " [0, 2, 3],\n",
       " [0, 2, 4],\n",
       " [0, 3, 0],\n",
       " [0, 3, 1],\n",
       " [0, 3, 2],\n",
       " [0, 3, 3],\n",
       " [0, 3, 4],\n",
       " [1, 0, 0],\n",
       " [1, 0, 2],\n",
       " [1, 0, 3],\n",
       " [1, 0, 4],\n",
       " [1, 1, 1],\n",
       " [1, 1, 2],\n",
       " [1, 1, 3],\n",
       " [1, 1, 4],\n",
       " [1, 2, 0],\n",
       " [1, 2, 1],\n",
       " [1, 2, 2],\n",
       " [1, 2, 3],\n",
       " [1, 2, 4],\n",
       " [1, 3, 0],\n",
       " [1, 3, 1],\n",
       " [1, 3, 2],\n",
       " [1, 3, 3],\n",
       " [1, 3, 4],\n",
       " [2, 0, 1],\n",
       " [2, 0, 2],\n",
       " [2, 0, 3],\n",
       " [2, 0, 4],\n",
       " [2, 1, 0],\n",
       " [2, 1, 1],\n",
       " [2, 1, 2],\n",
       " [2, 1, 3],\n",
       " [2, 1, 4],\n",
       " [2, 2, 0],\n",
       " [2, 2, 1],\n",
       " [2, 2, 2],\n",
       " [2, 2, 3],\n",
       " [2, 2, 4],\n",
       " [2, 3, 0],\n",
       " [2, 3, 1],\n",
       " [2, 3, 2],\n",
       " [2, 3, 3],\n",
       " [2, 3, 4]]"
      ]
     },
     "execution_count": 33,
     "metadata": {},
     "output_type": "execute_result"
    }
   ],
   "source": [
    "[[ix, iy, iz] for ix in range(x+1) for iy in range(y+1) for iz in range(z+1) if ix+iy+iz!=n]"
   ]
  },
  {
   "cell_type": "code",
   "execution_count": 34,
   "id": "0c4f995d",
   "metadata": {},
   "outputs": [],
   "source": [
    "n = 7\n",
    "lst = [2, 4, 9, 9, -2, 20, 20]"
   ]
  },
  {
   "cell_type": "code",
   "execution_count": 35,
   "id": "76e0d2ba",
   "metadata": {},
   "outputs": [],
   "source": [
    "lst.sort()"
   ]
  },
  {
   "cell_type": "code",
   "execution_count": 36,
   "id": "1ec8d3e8",
   "metadata": {},
   "outputs": [
    {
     "data": {
      "text/plain": [
       "[-2, 2, 4, 9, 9, 20, 20]"
      ]
     },
     "execution_count": 36,
     "metadata": {},
     "output_type": "execute_result"
    }
   ],
   "source": [
    "lst"
   ]
  },
  {
   "cell_type": "code",
   "execution_count": 37,
   "id": "9cc537ef",
   "metadata": {},
   "outputs": [],
   "source": [
    "no_repeats = set(lst)"
   ]
  },
  {
   "cell_type": "code",
   "execution_count": 38,
   "id": "a86c8cca",
   "metadata": {},
   "outputs": [
    {
     "data": {
      "text/plain": [
       "{-2, 2, 4, 9, 20}"
      ]
     },
     "execution_count": 38,
     "metadata": {},
     "output_type": "execute_result"
    }
   ],
   "source": [
    "no_repeats"
   ]
  },
  {
   "cell_type": "code",
   "execution_count": 39,
   "id": "0468cf44",
   "metadata": {},
   "outputs": [
    {
     "ename": "TypeError",
     "evalue": "'set' object is not subscriptable",
     "output_type": "error",
     "traceback": [
      "\u001b[0;31m---------------------------------------------------------------------------\u001b[0m",
      "\u001b[0;31mTypeError\u001b[0m                                 Traceback (most recent call last)",
      "\u001b[0;32m<ipython-input-39-765771bd51cb>\u001b[0m in \u001b[0;36m<module>\u001b[0;34m\u001b[0m\n\u001b[0;32m----> 1\u001b[0;31m \u001b[0mno_repeats\u001b[0m\u001b[0;34m[\u001b[0m\u001b[0;34m-\u001b[0m\u001b[0;36m2\u001b[0m\u001b[0;34m]\u001b[0m\u001b[0;34m\u001b[0m\u001b[0;34m\u001b[0m\u001b[0m\n\u001b[0m",
      "\u001b[0;31mTypeError\u001b[0m: 'set' object is not subscriptable"
     ]
    }
   ],
   "source": [
    "no_repeats[-2]"
   ]
  },
  {
   "cell_type": "code",
   "execution_count": 41,
   "id": "5d681b59",
   "metadata": {},
   "outputs": [
    {
     "data": {
      "text/plain": [
       "[2, 4, 9, 20, -2]"
      ]
     },
     "execution_count": 41,
     "metadata": {},
     "output_type": "execute_result"
    }
   ],
   "source": [
    "lst = list(no_repeats)\n",
    "lst"
   ]
  },
  {
   "cell_type": "code",
   "execution_count": 44,
   "id": "2316c7fb",
   "metadata": {},
   "outputs": [],
   "source": [
    "palin = \"Eva, can I see bees in a cave?\""
   ]
  },
  {
   "cell_type": "code",
   "execution_count": 45,
   "id": "03ebc021",
   "metadata": {},
   "outputs": [
    {
     "data": {
      "text/plain": [
       "'eva, can i see bees in a cave?'"
      ]
     },
     "execution_count": 45,
     "metadata": {},
     "output_type": "execute_result"
    }
   ],
   "source": [
    "palin_lower = palin.lower()\n",
    "palin_lower"
   ]
  },
  {
   "cell_type": "code",
   "execution_count": 46,
   "id": "826f2cda",
   "metadata": {},
   "outputs": [
    {
     "data": {
      "text/plain": [
       "['eva', 'can', 'i', 'see', 'bees', 'in', 'a', 'cave']"
      ]
     },
     "execution_count": 46,
     "metadata": {},
     "output_type": "execute_result"
    }
   ],
   "source": [
    "import re\n",
    "palin_letters = re.findall(r'[a-z]+', palin_lower)\n",
    "palin_letters"
   ]
  },
  {
   "cell_type": "code",
   "execution_count": 47,
   "id": "b9180967",
   "metadata": {},
   "outputs": [
    {
     "data": {
      "text/plain": [
       "'evacaniseebeesinacave'"
      ]
     },
     "execution_count": 47,
     "metadata": {},
     "output_type": "execute_result"
    }
   ],
   "source": [
    "palin_words = ''.join(palin_letters)\n",
    "palin_words"
   ]
  },
  {
   "cell_type": "code",
   "execution_count": 48,
   "id": "9b693499",
   "metadata": {},
   "outputs": [
    {
     "data": {
      "text/plain": [
       "1"
      ]
     },
     "execution_count": 48,
     "metadata": {},
     "output_type": "execute_result"
    }
   ],
   "source": [
    "nested_list = [[0, 1, 2], 2, [[2, 1], [1, 2, 1]]]\n",
    "nested_list.index(2)"
   ]
  },
  {
   "cell_type": "code",
   "execution_count": 57,
   "id": "ae944ac2",
   "metadata": {},
   "outputs": [
    {
     "ename": "NameError",
     "evalue": "name 'count2' is not defined",
     "output_type": "error",
     "traceback": [
      "\u001b[0;31m---------------------------------------------------------------------------\u001b[0m",
      "\u001b[0;31mNameError\u001b[0m                                 Traceback (most recent call last)",
      "\u001b[0;32m<ipython-input-57-792d995c8041>\u001b[0m in \u001b[0;36m<module>\u001b[0;34m\u001b[0m\n\u001b[1;32m      9\u001b[0m         \u001b[0;32mfor\u001b[0m \u001b[0mj\u001b[0m \u001b[0;32min\u001b[0m \u001b[0mi\u001b[0m\u001b[0;34m:\u001b[0m\u001b[0;34m\u001b[0m\u001b[0;34m\u001b[0m\u001b[0m\n\u001b[1;32m     10\u001b[0m             \u001b[0;32mif\u001b[0m \u001b[0mj\u001b[0m \u001b[0;34m==\u001b[0m \u001b[0mn\u001b[0m\u001b[0;34m:\u001b[0m\u001b[0;34m\u001b[0m\u001b[0;34m\u001b[0m\u001b[0m\n\u001b[0;32m---> 11\u001b[0;31m                 \u001b[0mlst\u001b[0m\u001b[0;34m.\u001b[0m\u001b[0mappend\u001b[0m\u001b[0;34m(\u001b[0m\u001b[0;34m[\u001b[0m\u001b[0mcount\u001b[0m\u001b[0;34m,\u001b[0m \u001b[0mcount2\u001b[0m\u001b[0;34m]\u001b[0m\u001b[0;34m)\u001b[0m\u001b[0;34m\u001b[0m\u001b[0;34m\u001b[0m\u001b[0m\n\u001b[0m\u001b[1;32m     12\u001b[0m             \u001b[0mcount_2\u001b[0m \u001b[0;34m+=\u001b[0m \u001b[0;36m1\u001b[0m\u001b[0;34m\u001b[0m\u001b[0;34m\u001b[0m\u001b[0m\n\u001b[1;32m     13\u001b[0m     \u001b[0mcount\u001b[0m \u001b[0;34m+=\u001b[0m \u001b[0;36m1\u001b[0m\u001b[0;34m\u001b[0m\u001b[0;34m\u001b[0m\u001b[0m\n",
      "\u001b[0;31mNameError\u001b[0m: name 'count2' is not defined"
     ]
    }
   ],
   "source": [
    "n = 2\n",
    "lst = []\n",
    "def index_all(search_list, item):\n",
    "for index in range(nested_list):\n",
    "    if index == n:\n",
    "        lst.append([i])\n",
    "    elif isinstance(i, list) == True:\n",
    "        for j in i:\n",
    "                lst.append([count, count2])\n",
    "            count_2 += 1\n",
    "    count += 1\n",
    "print(lst)"
   ]
  },
  {
   "cell_type": "code",
   "execution_count": 66,
   "id": "ee360c88",
   "metadata": {},
   "outputs": [],
   "source": [
    "import time \n",
    "import random\n",
    "\n",
    "def waiting_game():\n",
    "    goal = random.randint(2, 4)\n",
    "    print('\\nTarget time is {} seconds'.format(goal))\n",
    "    \n",
    "    input(' ---Press Enter to begin--- ')\n",
    "    start = time.perf_counter()\n",
    "    \n",
    "    input('\\n...Press any key again after {} seconds...'.format(goal))\n",
    "    elapsed = time.perf_counter() - start\n",
    "    \n",
    "    print('\\nElapsed time: {0:.3f} seconds'.format(elapsed))\n",
    "    if elapsed == goal:\n",
    "        print('Awesome job! Perfect timing!')\n",
    "    elif elapsed < goal:\n",
    "        print('{0:.3f} seconds too fast'.format(goal - elapsed))\n",
    "    else:\n",
    "        print('{0:.3f} seconds too slow'.format(elapsed - goal))"
   ]
  },
  {
   "cell_type": "code",
   "execution_count": 67,
   "id": "26e678a1",
   "metadata": {},
   "outputs": [
    {
     "name": "stdout",
     "output_type": "stream",
     "text": [
      "\n",
      "Target time is 3 seconds\n",
      " ---Press Enter to begin--- \n",
      "\n",
      "...Press any key again after 3 seconds...\n",
      "\n",
      "Elapsed time: 1.592 seconds\n",
      "1.408 seconds too fast\n"
     ]
    }
   ],
   "source": [
    "waiting_game()"
   ]
  },
  {
   "cell_type": "code",
   "execution_count": 68,
   "id": "34881925",
   "metadata": {},
   "outputs": [
    {
     "name": "stdout",
     "output_type": "stream",
     "text": [
      "\n",
      "Target time is 3 seconds\n",
      " ---Press Enter to begin--- \n",
      "\n",
      "...Press any key again after 3 seconds...\n",
      "\n",
      "Elapsed time: 3.268 seconds\n",
      "0.268 seconds too slow\n"
     ]
    }
   ],
   "source": [
    "waiting_game()"
   ]
  },
  {
   "cell_type": "code",
   "execution_count": null,
   "id": "624cab67",
   "metadata": {},
   "outputs": [],
   "source": []
  }
 ],
 "metadata": {
  "kernelspec": {
   "display_name": "learn-env",
   "language": "python",
   "name": "learn-env"
  },
  "language_info": {
   "codemirror_mode": {
    "name": "ipython",
    "version": 3
   },
   "file_extension": ".py",
   "mimetype": "text/x-python",
   "name": "python",
   "nbconvert_exporter": "python",
   "pygments_lexer": "ipython3",
   "version": "3.9.4"
  }
 },
 "nbformat": 4,
 "nbformat_minor": 5
}
