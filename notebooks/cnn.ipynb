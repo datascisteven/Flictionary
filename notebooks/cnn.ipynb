{
  "nbformat": 4,
  "nbformat_minor": 2,
  "metadata": {
    "kernelspec": {
      "name": "python3",
      "display_name": "Python 3.7.10 64-bit ('dl-env': conda)"
    },
    "language_info": {
      "name": "python",
      "version": "3.7.10",
      "mimetype": "text/x-python",
      "codemirror_mode": {
        "name": "ipython",
        "version": 3
      },
      "pygments_lexer": "ipython3",
      "nbconvert_exporter": "python",
      "file_extension": ".py"
    },
    "interpreter": {
      "hash": "2aac1d2b359798efc30b59d804167ffd538e3092f84ffa86abb6645ab952d97e"
    },
    "colab": {
      "name": "cnn.ipynb",
      "provenance": []
    },
    "accelerator": "GPU"
  },
  "cells": [
    {
      "cell_type": "markdown",
      "source": [
        "# Convolutional Neural Network Notebook\n",
        "\n",
        "This note book"
      ],
      "metadata": {}
    },
    {
      "cell_type": "code",
      "execution_count": 1,
      "source": [
        "# from google.colab import drive\n",
        "# drive.mount('/content/drive')"
      ],
      "outputs": [
        {
          "output_type": "stream",
          "name": "stdout",
          "text": [
            "Mounted at /content/drive\n"
          ]
        }
      ],
      "metadata": {
        "colab": {
          "base_uri": "https://localhost:8080/"
        },
        "id": "bt8y3KSAGpZ5",
        "outputId": "83652fc6-2dd0-464f-e992-663f326c9dc2"
      }
    },
    {
      "cell_type": "code",
      "execution_count": 2,
      "source": [
        "# base_dir = '/content/drive/MyDrive/Colab Notebooks/Flictionary'"
      ],
      "outputs": [],
      "metadata": {
        "id": "LevwfH-8G6h8"
      }
    },
    {
      "cell_type": "code",
      "execution_count": 2,
      "source": [
        "from glob import glob\n",
        "import ast\n",
        "import cv2\n",
        "import time\n",
        "import ast\n",
        "from tqdm import tqdm\n",
        "import numpy as np\n",
        "import pandas as pd \n",
        "import tensorflow as tf\n",
        "import matplotlib.pyplot as plt\n",
        "import os\n",
        "import datetime\n",
        "\n",
        "from tensorflow.keras.layers import Dense, Dropout, Flatten, Activation\n",
        "from tensorflow.keras.metrics import categorical_accuracy, top_k_categorical_accuracy, categorical_crossentropy\n",
        "from tensorflow.keras.callbacks import ModelCheckpoint, EarlyStopping, TensorBoard, CSVLogger, ReduceLROnPlateau\n",
        "from tensorflow.keras.optimizers import Adam\n",
        "from tensorflow.keras.models import Model\n",
        "from tensorflow.keras.layers import Dense\n",
        "from tensorflow.keras import backend as K\n",
        "from tensorflow.keras.applications import MobileNet\n",
        "\n",
        "BASE_SIZE = 256\n",
        "# DP_DIR = os.path.join(base_dir, \"shuffle_csv/\")\n",
        "# INPUT_DIR = os.path.join(base_dir, 'kaggle/')\n",
        "DP_DIR = \"../animals/shuffle_csv/\"\n",
        "INPUT_DIR = '../animals/'\n",
        "NCSVS = 100\n",
        "NCATS = 47"
      ],
      "outputs": [],
      "metadata": {
        "_uuid": "8f2839f25d086af736a60e9eeb907d3b93b6e0e5",
        "_cell_guid": "b1076dfc-b9ad-4769-8c92-a6c4dae69d19",
        "trusted": true,
        "id": "rbe37dAwDUxm"
      }
    },
    {
      "cell_type": "code",
      "execution_count": 2,
      "source": [
        "startTime = time.time()"
      ],
      "outputs": [],
      "metadata": {
        "trusted": true,
        "_uuid": "95cca8690a82b00d26f4e63a635e746e1f55389c",
        "id": "qnQgd1r-DUxo"
      }
    },
    {
      "cell_type": "code",
      "execution_count": 3,
      "source": [
        "#clean spaces in name\n",
        "classes_path = os.listdir(INPUT_DIR + 'train_simplified/')\n",
        "classes_path = sorted(classes_path, key=lambda s: s.lower())\n",
        "class_dict = {x[:-4].replace(\" \", \"_\"):i for i, x in enumerate(classes_path)}\n",
        "labels = {x[:-4].replace(\" \", \"_\") for i, x in enumerate(classes_path)}\n",
        "\n",
        "n_labels = len(labels)\n",
        "print(\"Number of labels: {}\".format(n_labels))\n",
        "\n",
        "# fileList = glob(INPUT_DIR + \"train_simplified/*.csv\")     \n",
        "\n",
        "# n_files = n_labels \n",
        "# size = 80\n"
      ],
      "outputs": [
        {
          "output_type": "stream",
          "name": "stdout",
          "text": [
            "Number of labels: 48\n"
          ]
        }
      ],
      "metadata": {
        "_cell_guid": "79c7e3d0-c299-4dcb-8224-4455121ee9b0",
        "_uuid": "d629ff2d2480ee46fbb7e2d37f6b5fab8052498a",
        "trusted": true,
        "colab": {
          "base_uri": "https://localhost:8080/"
        },
        "id": "IFNGs0BIDUxp",
        "outputId": "2498dc3b-0f18-4aa9-ce56-f6e5cafc815f"
      }
    },
    {
      "cell_type": "code",
      "execution_count": 7,
      "source": [
        "def top_3_accuracy(y_true, y_pred):\n",
        "    return top_k_categorical_accuracy(y_true, y_pred, k=3)\n",
        "\n",
        "def draw_cv2(raw_strokes, size=256, lw=6):\n",
        "    img = np.zeros((BASE_SIZE, BASE_SIZE), np.uint8)\n",
        "    for stroke in raw_strokes:\n",
        "        for i in range(len(stroke[0]) - 1):\n",
        "            _ = cv2.line(img, (stroke[0][i], stroke[1][i]), (stroke[0][i + 1], stroke[1][i + 1]), 255, lw)\n",
        "    if size != BASE_SIZE:\n",
        "        return cv2.resize(img, (size, size))\n",
        "    else:\n",
        "        return img\n",
        "\n",
        "#ADD DATA AUGMENTATION TO BOOST\n",
        "def image_generator(size, batchsize, ks, lw=6):\n",
        "    while True:\n",
        "        for k in np.random.permutation(ks):\n",
        "            filename = os.path.join(DP_DIR, 'train_k{}.csv.gz'.format(k))\n",
        "            for df in pd.read_csv(filename, chunksize=batchsize):\n",
        "                df['drawing'] = df['drawing'].apply(ast.literal_eval)\n",
        "                x = np.zeros((len(df), size, size))\n",
        "                for i, raw_strokes in enumerate(df.drawing.values):\n",
        "                    x[i] = draw_cv2(raw_strokes, size=size, lw=lw)\n",
        "                x = x / 255.\n",
        "                x = x.reshape((len(df), size, size, 1)).astype(np.float32)\n",
        "                y = tf.keras.utils.to_categorical(df.y, num_classes=NCATS)\n",
        "                yield x, y\n",
        "\n",
        "def df_to_image_array(df, size=size, lw=6):\n",
        "    df['drawing'] = df['drawing'].apply(ast.literal_eval)\n",
        "    x = np.zeros((len(df), size, size))\n",
        "    for i, raw_strokes in enumerate(df.drawing.values):\n",
        "        x[i] = draw_cv2(raw_strokes, size=size, lw=lw)\n",
        "    x = x / 255.\n",
        "    x = x.reshape((len(df), size, size, 1)).astype(np.float32)\n",
        "    return x\n",
        "\n",
        "\n",
        "def draw_cv2_reshape_normalized(raw_strokes, size=size, lw=6):\n",
        "    img = np.zeros((BASE_SIZE, BASE_SIZE), np.uint8)\n",
        "    for stroke in raw_strokes:\n",
        "        for i in range(len(stroke[0]) - 1):\n",
        "            _ = cv2.line(img, (stroke[0][i], stroke[1][i]), (stroke[0][i + 1], stroke[1][i + 1]), 255, lw)\n",
        "\n",
        "    img = cv2.resize(img, (size, size))\n",
        "    img = img / 255.\n",
        "    img = img[:, :, np.newaxis]\n",
        "    return img\n"
      ],
      "outputs": [],
      "metadata": {
        "trusted": true,
        "_uuid": "97522d9de29d9ff35c5086f55f2c8eef64d84f90",
        "id": "Dk1vCO-JDUxr"
      }
    },
    {
      "cell_type": "code",
      "execution_count": 5,
      "source": [
        "data = pd.read_csv('../animals/shuffle_csv/train_k99.csv.gz', nrows=100, compression='gzip',\n",
        "                   error_bad_lines=False)\n",
        "data.head()"
      ],
      "outputs": [
        {
          "output_type": "stream",
          "name": "stderr",
          "text": [
            "/Users/examsherpa/opt/anaconda3/envs/dl-env/lib/python3.7/site-packages/IPython/core/interactiveshell.py:3441: FutureWarning: The error_bad_lines argument has been deprecated and will be removed in a future version.\n",
            "\n",
            "\n",
            "  exec(code_obj, self.user_global_ns, self.user_ns)\n"
          ]
        },
        {
          "output_type": "execute_result",
          "data": {
            "text/plain": [
              "  countrycode                                            drawing  recognized  \\\n",
              "0          US  [[[67, 51, 35, 12, 4], [29, 12, 9, 63, 121]], ...        True   \n",
              "1          DE  [[[85, 82, 76, 45, 25, 22, 20, 10, 11, 17, 26,...        True   \n",
              "2          US  [[[59, 27, 0, 1, 14, 39, 55, 72, 88, 98, 102],...        True   \n",
              "3          FR  [[[16, 23, 35, 41, 48, 61, 75, 86, 99, 121, 13...        True   \n",
              "4          US  [[[124, 112, 97, 54, 44, 39, 36, 36, 42, 75, 9...        True   \n",
              "\n",
              "                    timestamp      word   y  cv  \n",
              "0  2017-03-20 21:26:55.171300       dog  10  99  \n",
              "1  2017-03-26 20:52:19.315680     mouse  24  99  \n",
              "2  2017-03-14 23:23:42.875140   giraffe  17  99  \n",
              "3  2017-01-02 12:26:28.429200  squirrel  41  99  \n",
              "4  2017-04-01 03:46:14.556100       pig  30  99  "
            ],
            "text/html": [
              "<div>\n",
              "<style scoped>\n",
              "    .dataframe tbody tr th:only-of-type {\n",
              "        vertical-align: middle;\n",
              "    }\n",
              "\n",
              "    .dataframe tbody tr th {\n",
              "        vertical-align: top;\n",
              "    }\n",
              "\n",
              "    .dataframe thead th {\n",
              "        text-align: right;\n",
              "    }\n",
              "</style>\n",
              "<table border=\"1\" class=\"dataframe\">\n",
              "  <thead>\n",
              "    <tr style=\"text-align: right;\">\n",
              "      <th></th>\n",
              "      <th>countrycode</th>\n",
              "      <th>drawing</th>\n",
              "      <th>recognized</th>\n",
              "      <th>timestamp</th>\n",
              "      <th>word</th>\n",
              "      <th>y</th>\n",
              "      <th>cv</th>\n",
              "    </tr>\n",
              "  </thead>\n",
              "  <tbody>\n",
              "    <tr>\n",
              "      <th>0</th>\n",
              "      <td>US</td>\n",
              "      <td>[[[67, 51, 35, 12, 4], [29, 12, 9, 63, 121]], ...</td>\n",
              "      <td>True</td>\n",
              "      <td>2017-03-20 21:26:55.171300</td>\n",
              "      <td>dog</td>\n",
              "      <td>10</td>\n",
              "      <td>99</td>\n",
              "    </tr>\n",
              "    <tr>\n",
              "      <th>1</th>\n",
              "      <td>DE</td>\n",
              "      <td>[[[85, 82, 76, 45, 25, 22, 20, 10, 11, 17, 26,...</td>\n",
              "      <td>True</td>\n",
              "      <td>2017-03-26 20:52:19.315680</td>\n",
              "      <td>mouse</td>\n",
              "      <td>24</td>\n",
              "      <td>99</td>\n",
              "    </tr>\n",
              "    <tr>\n",
              "      <th>2</th>\n",
              "      <td>US</td>\n",
              "      <td>[[[59, 27, 0, 1, 14, 39, 55, 72, 88, 98, 102],...</td>\n",
              "      <td>True</td>\n",
              "      <td>2017-03-14 23:23:42.875140</td>\n",
              "      <td>giraffe</td>\n",
              "      <td>17</td>\n",
              "      <td>99</td>\n",
              "    </tr>\n",
              "    <tr>\n",
              "      <th>3</th>\n",
              "      <td>FR</td>\n",
              "      <td>[[[16, 23, 35, 41, 48, 61, 75, 86, 99, 121, 13...</td>\n",
              "      <td>True</td>\n",
              "      <td>2017-01-02 12:26:28.429200</td>\n",
              "      <td>squirrel</td>\n",
              "      <td>41</td>\n",
              "      <td>99</td>\n",
              "    </tr>\n",
              "    <tr>\n",
              "      <th>4</th>\n",
              "      <td>US</td>\n",
              "      <td>[[[124, 112, 97, 54, 44, 39, 36, 36, 42, 75, 9...</td>\n",
              "      <td>True</td>\n",
              "      <td>2017-04-01 03:46:14.556100</td>\n",
              "      <td>pig</td>\n",
              "      <td>30</td>\n",
              "      <td>99</td>\n",
              "    </tr>\n",
              "  </tbody>\n",
              "</table>\n",
              "</div>"
            ]
          },
          "metadata": {},
          "execution_count": 5
        }
      ],
      "metadata": {}
    },
    {
      "cell_type": "code",
      "execution_count": 8,
      "source": [
        "STEPS = 1000\n",
        "batchsize = 512\n",
        "epochs = 20"
      ],
      "outputs": [],
      "metadata": {
        "trusted": true,
        "_uuid": "a6b041e1365a69cc0576e081e1e7db9c5928742e",
        "id": "q9pOPuqFDUxs"
      }
    },
    {
      "cell_type": "code",
      "execution_count": 9,
      "source": [
        "valid_df = pd.read_csv(os.path.join(DP_DIR, 'train_k{}.csv.gz'.format(NCSVS - 1)), nrows=30000)\n",
        "x_valid = df_to_image_array(valid, size)\n",
        "y_valid = tf.keras.utils.to_categorical(valid., num_classes=NCATS)\n",
        "print(x_valid.shape, y_valid.shape)\n",
        "print('Validation array memory {:.2f} GB'.format(x_valid.nbytes / 1024.**3 ))"
      ],
      "outputs": [
        {
          "output_type": "stream",
          "name": "stdout",
          "text": [
            "(14085, 80, 80, 1) (14085, 47)\n",
            "Validation array memory 0.34 GB\n"
          ]
        }
      ],
      "metadata": {
        "trusted": true,
        "_uuid": "18162bacd65b3b8d25107d58a738a92edd415f30",
        "colab": {
          "base_uri": "https://localhost:8080/"
        },
        "id": "1BR_XthVDUxs",
        "outputId": "ce80b443-aaa4-4fc7-9e3d-502176271477"
      }
    },
    {
      "cell_type": "code",
      "execution_count": 10,
      "source": [
        "train_datagen = image_generator(size=size, batchsize=batchsize, ks=range(NCSVS - 1))"
      ],
      "outputs": [],
      "metadata": {
        "trusted": true,
        "_uuid": "10ddcecba462b047aa8dc74008615cde7452ad63",
        "id": "HDtEDd5BDUxt"
      }
    },
    {
      "cell_type": "code",
      "execution_count": 13,
      "source": [
        "base_model = MobileNet(input_shape=(size, size, 1), include_top=False, weights=None, classes=n_labels)\n",
        "\n",
        "# add a global spatial average pooling layer\n",
        "x = base_model.output\n",
        "x = Flatten()(x)\n",
        "# let's add a fully-connected layer\n",
        "x = Dense(1024, activation='relu')(x)\n",
        "predictions = Dense(n_labels, activation='softmax')(x)\n",
        "# this is the model we will train\n",
        "model = Model(inputs=base_model.input, outputs=predictions)"
      ],
      "outputs": [],
      "metadata": {
        "trusted": true,
        "_uuid": "5b11507f5b2d5e3f33462c59db06fd79282ef96e",
        "id": "Mp0VB6IyDUxt"
      }
    },
    {
      "cell_type": "code",
      "execution_count": 14,
      "source": [
        "model.compile(optimizer=Adam(learning_rate=1e-4), \n",
        "              loss='categorical_crossentropy',\n",
        "              metrics=[categorical_crossentropy, categorical_accuracy, top_3_accuracy]\n",
        "              )"
      ],
      "outputs": [],
      "metadata": {
        "trusted": true,
        "_uuid": "cca5f88517c8d7c935c68b36082d4959828718b8",
        "id": "6iGOoAV9DUxt"
      }
    },
    {
      "cell_type": "code",
      "execution_count": 15,
      "source": [
        "lr_reduction = ReduceLROnPlateau(monitor='val_categorical_accuracy', \n",
        "                                 factor=0.5, \n",
        "                                 patience=5,\n",
        "                                 min_delta=0.005, \n",
        "                                 mode='max', \n",
        "                                 cooldown=3, \n",
        "                                 verbose=1)\n",
        "filepath = '/content/drive/MyDrive/Colab Notebooks/Flictionary/logs/log_cnn_2/model.{epoch:02d}-{val_loss:.2f}.hdf5'\n",
        "mcp_save = ModelCheckpoint(filepath, \n",
        "                           verbose = 1, \n",
        "                           monitor = 'val_categorical_accuracy', \n",
        "                           mode = 'min')\n",
        "log_dir = \"/content/drive/MyDrive/Colab Notebooks/Flictionary/logs/log_cnn_2/fit/\" + datetime.datetime.now().strftime(\"%Y%m%d-%H%M%S\")\n",
        "tensorboard_cb = TensorBoard(log_dir=log_dir,\n",
        "                             histogram_freq = 1,\n",
        "                             update_freq = 'batch')\n",
        "csv_logger = CSVLogger('/content/drive/MyDrive/Colab Notebooks/Flictionary/logs/log_cnn_2/log.csv')\n"
      ],
      "outputs": [],
      "metadata": {
        "id": "fBTwrRXIEtQS"
      }
    },
    {
      "cell_type": "code",
      "execution_count": 16,
      "source": [
        "model.summary()"
      ],
      "outputs": [
        {
          "output_type": "stream",
          "name": "stdout",
          "text": [
            "Model: \"model\"\n",
            "_________________________________________________________________\n",
            "Layer (type)                 Output Shape              Param #   \n",
            "=================================================================\n",
            "input_1 (InputLayer)         [(None, 80, 80, 1)]       0         \n",
            "_________________________________________________________________\n",
            "conv1 (Conv2D)               (None, 40, 40, 32)        288       \n",
            "_________________________________________________________________\n",
            "conv1_bn (BatchNormalization (None, 40, 40, 32)        128       \n",
            "_________________________________________________________________\n",
            "conv1_relu (ReLU)            (None, 40, 40, 32)        0         \n",
            "_________________________________________________________________\n",
            "conv_dw_1 (DepthwiseConv2D)  (None, 40, 40, 32)        288       \n",
            "_________________________________________________________________\n",
            "conv_dw_1_bn (BatchNormaliza (None, 40, 40, 32)        128       \n",
            "_________________________________________________________________\n",
            "conv_dw_1_relu (ReLU)        (None, 40, 40, 32)        0         \n",
            "_________________________________________________________________\n",
            "conv_pw_1 (Conv2D)           (None, 40, 40, 64)        2048      \n",
            "_________________________________________________________________\n",
            "conv_pw_1_bn (BatchNormaliza (None, 40, 40, 64)        256       \n",
            "_________________________________________________________________\n",
            "conv_pw_1_relu (ReLU)        (None, 40, 40, 64)        0         \n",
            "_________________________________________________________________\n",
            "conv_pad_2 (ZeroPadding2D)   (None, 41, 41, 64)        0         \n",
            "_________________________________________________________________\n",
            "conv_dw_2 (DepthwiseConv2D)  (None, 20, 20, 64)        576       \n",
            "_________________________________________________________________\n",
            "conv_dw_2_bn (BatchNormaliza (None, 20, 20, 64)        256       \n",
            "_________________________________________________________________\n",
            "conv_dw_2_relu (ReLU)        (None, 20, 20, 64)        0         \n",
            "_________________________________________________________________\n",
            "conv_pw_2 (Conv2D)           (None, 20, 20, 128)       8192      \n",
            "_________________________________________________________________\n",
            "conv_pw_2_bn (BatchNormaliza (None, 20, 20, 128)       512       \n",
            "_________________________________________________________________\n",
            "conv_pw_2_relu (ReLU)        (None, 20, 20, 128)       0         \n",
            "_________________________________________________________________\n",
            "conv_dw_3 (DepthwiseConv2D)  (None, 20, 20, 128)       1152      \n",
            "_________________________________________________________________\n",
            "conv_dw_3_bn (BatchNormaliza (None, 20, 20, 128)       512       \n",
            "_________________________________________________________________\n",
            "conv_dw_3_relu (ReLU)        (None, 20, 20, 128)       0         \n",
            "_________________________________________________________________\n",
            "conv_pw_3 (Conv2D)           (None, 20, 20, 128)       16384     \n",
            "_________________________________________________________________\n",
            "conv_pw_3_bn (BatchNormaliza (None, 20, 20, 128)       512       \n",
            "_________________________________________________________________\n",
            "conv_pw_3_relu (ReLU)        (None, 20, 20, 128)       0         \n",
            "_________________________________________________________________\n",
            "conv_pad_4 (ZeroPadding2D)   (None, 21, 21, 128)       0         \n",
            "_________________________________________________________________\n",
            "conv_dw_4 (DepthwiseConv2D)  (None, 10, 10, 128)       1152      \n",
            "_________________________________________________________________\n",
            "conv_dw_4_bn (BatchNormaliza (None, 10, 10, 128)       512       \n",
            "_________________________________________________________________\n",
            "conv_dw_4_relu (ReLU)        (None, 10, 10, 128)       0         \n",
            "_________________________________________________________________\n",
            "conv_pw_4 (Conv2D)           (None, 10, 10, 256)       32768     \n",
            "_________________________________________________________________\n",
            "conv_pw_4_bn (BatchNormaliza (None, 10, 10, 256)       1024      \n",
            "_________________________________________________________________\n",
            "conv_pw_4_relu (ReLU)        (None, 10, 10, 256)       0         \n",
            "_________________________________________________________________\n",
            "conv_dw_5 (DepthwiseConv2D)  (None, 10, 10, 256)       2304      \n",
            "_________________________________________________________________\n",
            "conv_dw_5_bn (BatchNormaliza (None, 10, 10, 256)       1024      \n",
            "_________________________________________________________________\n",
            "conv_dw_5_relu (ReLU)        (None, 10, 10, 256)       0         \n",
            "_________________________________________________________________\n",
            "conv_pw_5 (Conv2D)           (None, 10, 10, 256)       65536     \n",
            "_________________________________________________________________\n",
            "conv_pw_5_bn (BatchNormaliza (None, 10, 10, 256)       1024      \n",
            "_________________________________________________________________\n",
            "conv_pw_5_relu (ReLU)        (None, 10, 10, 256)       0         \n",
            "_________________________________________________________________\n",
            "conv_pad_6 (ZeroPadding2D)   (None, 11, 11, 256)       0         \n",
            "_________________________________________________________________\n",
            "conv_dw_6 (DepthwiseConv2D)  (None, 5, 5, 256)         2304      \n",
            "_________________________________________________________________\n",
            "conv_dw_6_bn (BatchNormaliza (None, 5, 5, 256)         1024      \n",
            "_________________________________________________________________\n",
            "conv_dw_6_relu (ReLU)        (None, 5, 5, 256)         0         \n",
            "_________________________________________________________________\n",
            "conv_pw_6 (Conv2D)           (None, 5, 5, 512)         131072    \n",
            "_________________________________________________________________\n",
            "conv_pw_6_bn (BatchNormaliza (None, 5, 5, 512)         2048      \n",
            "_________________________________________________________________\n",
            "conv_pw_6_relu (ReLU)        (None, 5, 5, 512)         0         \n",
            "_________________________________________________________________\n",
            "conv_dw_7 (DepthwiseConv2D)  (None, 5, 5, 512)         4608      \n",
            "_________________________________________________________________\n",
            "conv_dw_7_bn (BatchNormaliza (None, 5, 5, 512)         2048      \n",
            "_________________________________________________________________\n",
            "conv_dw_7_relu (ReLU)        (None, 5, 5, 512)         0         \n",
            "_________________________________________________________________\n",
            "conv_pw_7 (Conv2D)           (None, 5, 5, 512)         262144    \n",
            "_________________________________________________________________\n",
            "conv_pw_7_bn (BatchNormaliza (None, 5, 5, 512)         2048      \n",
            "_________________________________________________________________\n",
            "conv_pw_7_relu (ReLU)        (None, 5, 5, 512)         0         \n",
            "_________________________________________________________________\n",
            "conv_dw_8 (DepthwiseConv2D)  (None, 5, 5, 512)         4608      \n",
            "_________________________________________________________________\n",
            "conv_dw_8_bn (BatchNormaliza (None, 5, 5, 512)         2048      \n",
            "_________________________________________________________________\n",
            "conv_dw_8_relu (ReLU)        (None, 5, 5, 512)         0         \n",
            "_________________________________________________________________\n",
            "conv_pw_8 (Conv2D)           (None, 5, 5, 512)         262144    \n",
            "_________________________________________________________________\n",
            "conv_pw_8_bn (BatchNormaliza (None, 5, 5, 512)         2048      \n",
            "_________________________________________________________________\n",
            "conv_pw_8_relu (ReLU)        (None, 5, 5, 512)         0         \n",
            "_________________________________________________________________\n",
            "conv_dw_9 (DepthwiseConv2D)  (None, 5, 5, 512)         4608      \n",
            "_________________________________________________________________\n",
            "conv_dw_9_bn (BatchNormaliza (None, 5, 5, 512)         2048      \n",
            "_________________________________________________________________\n",
            "conv_dw_9_relu (ReLU)        (None, 5, 5, 512)         0         \n",
            "_________________________________________________________________\n",
            "conv_pw_9 (Conv2D)           (None, 5, 5, 512)         262144    \n",
            "_________________________________________________________________\n",
            "conv_pw_9_bn (BatchNormaliza (None, 5, 5, 512)         2048      \n",
            "_________________________________________________________________\n",
            "conv_pw_9_relu (ReLU)        (None, 5, 5, 512)         0         \n",
            "_________________________________________________________________\n",
            "conv_dw_10 (DepthwiseConv2D) (None, 5, 5, 512)         4608      \n",
            "_________________________________________________________________\n",
            "conv_dw_10_bn (BatchNormaliz (None, 5, 5, 512)         2048      \n",
            "_________________________________________________________________\n",
            "conv_dw_10_relu (ReLU)       (None, 5, 5, 512)         0         \n",
            "_________________________________________________________________\n",
            "conv_pw_10 (Conv2D)          (None, 5, 5, 512)         262144    \n",
            "_________________________________________________________________\n",
            "conv_pw_10_bn (BatchNormaliz (None, 5, 5, 512)         2048      \n",
            "_________________________________________________________________\n",
            "conv_pw_10_relu (ReLU)       (None, 5, 5, 512)         0         \n",
            "_________________________________________________________________\n",
            "conv_dw_11 (DepthwiseConv2D) (None, 5, 5, 512)         4608      \n",
            "_________________________________________________________________\n",
            "conv_dw_11_bn (BatchNormaliz (None, 5, 5, 512)         2048      \n",
            "_________________________________________________________________\n",
            "conv_dw_11_relu (ReLU)       (None, 5, 5, 512)         0         \n",
            "_________________________________________________________________\n",
            "conv_pw_11 (Conv2D)          (None, 5, 5, 512)         262144    \n",
            "_________________________________________________________________\n",
            "conv_pw_11_bn (BatchNormaliz (None, 5, 5, 512)         2048      \n",
            "_________________________________________________________________\n",
            "conv_pw_11_relu (ReLU)       (None, 5, 5, 512)         0         \n",
            "_________________________________________________________________\n",
            "conv_pad_12 (ZeroPadding2D)  (None, 6, 6, 512)         0         \n",
            "_________________________________________________________________\n",
            "conv_dw_12 (DepthwiseConv2D) (None, 2, 2, 512)         4608      \n",
            "_________________________________________________________________\n",
            "conv_dw_12_bn (BatchNormaliz (None, 2, 2, 512)         2048      \n",
            "_________________________________________________________________\n",
            "conv_dw_12_relu (ReLU)       (None, 2, 2, 512)         0         \n",
            "_________________________________________________________________\n",
            "conv_pw_12 (Conv2D)          (None, 2, 2, 1024)        524288    \n",
            "_________________________________________________________________\n",
            "conv_pw_12_bn (BatchNormaliz (None, 2, 2, 1024)        4096      \n",
            "_________________________________________________________________\n",
            "conv_pw_12_relu (ReLU)       (None, 2, 2, 1024)        0         \n",
            "_________________________________________________________________\n",
            "conv_dw_13 (DepthwiseConv2D) (None, 2, 2, 1024)        9216      \n",
            "_________________________________________________________________\n",
            "conv_dw_13_bn (BatchNormaliz (None, 2, 2, 1024)        4096      \n",
            "_________________________________________________________________\n",
            "conv_dw_13_relu (ReLU)       (None, 2, 2, 1024)        0         \n",
            "_________________________________________________________________\n",
            "conv_pw_13 (Conv2D)          (None, 2, 2, 1024)        1048576   \n",
            "_________________________________________________________________\n",
            "conv_pw_13_bn (BatchNormaliz (None, 2, 2, 1024)        4096      \n",
            "_________________________________________________________________\n",
            "conv_pw_13_relu (ReLU)       (None, 2, 2, 1024)        0         \n",
            "_________________________________________________________________\n",
            "flatten (Flatten)            (None, 4096)              0         \n",
            "_________________________________________________________________\n",
            "dense (Dense)                (None, 1024)              4195328   \n",
            "_________________________________________________________________\n",
            "dense_1 (Dense)              (None, 47)                48175     \n",
            "=================================================================\n",
            "Total params: 7,471,791\n",
            "Trainable params: 7,449,903\n",
            "Non-trainable params: 21,888\n",
            "_________________________________________________________________\n"
          ]
        }
      ],
      "metadata": {
        "trusted": true,
        "_uuid": "f997c27a6f3ac201e35f0947bc4db60d9dc44124",
        "colab": {
          "base_uri": "https://localhost:8080/"
        },
        "id": "XO53_hlNDUxt",
        "outputId": "d2d80680-44ce-435e-e5ce-8584bf638841"
      }
    },
    {
      "cell_type": "code",
      "execution_count": 17,
      "source": [
        "history = model.fit_generator(\n",
        "    train_datagen, steps_per_epoch=STEPS, epochs=epochs, verbose=1,\n",
        "    validation_data=(x_valid, y_valid),\n",
        "    callbacks = [lr_reduction, mcp_save, tensorboard_cb, csv_logger]\n",
        ")"
      ],
      "outputs": [
        {
          "output_type": "stream",
          "name": "stderr",
          "text": [
            "/usr/local/lib/python3.7/dist-packages/keras/engine/training.py:1972: UserWarning: `Model.fit_generator` is deprecated and will be removed in a future version. Please use `Model.fit`, which supports generators.\n",
            "  warnings.warn('`Model.fit_generator` is deprecated and '\n"
          ]
        },
        {
          "output_type": "stream",
          "name": "stdout",
          "text": [
            "Epoch 1/20\n",
            "1000/1000 [==============================] - 380s 363ms/step - loss: 3.2820 - categorical_crossentropy: 3.2820 - categorical_accuracy: 0.1342 - top_3_accuracy: 0.2908 - val_loss: 2.9017 - val_categorical_crossentropy: 2.9017 - val_categorical_accuracy: 0.2215 - val_top_3_accuracy: 0.4333\n",
            "\n",
            "Epoch 00001: saving model to /content/drive/MyDrive/Colab Notebooks/Flictionary/logs/log_cnn_2/model.01-2.90.hdf5\n",
            "Epoch 2/20\n",
            "1000/1000 [==============================] - 364s 364ms/step - loss: 2.3306 - categorical_crossentropy: 2.3306 - categorical_accuracy: 0.3651 - top_3_accuracy: 0.5917 - val_loss: 2.0310 - val_categorical_crossentropy: 2.0310 - val_categorical_accuracy: 0.4447 - val_top_3_accuracy: 0.6766\n",
            "\n",
            "Epoch 00002: saving model to /content/drive/MyDrive/Colab Notebooks/Flictionary/logs/log_cnn_2/model.02-2.03.hdf5\n",
            "Epoch 3/20\n",
            "1000/1000 [==============================] - 356s 356ms/step - loss: 1.7221 - categorical_crossentropy: 1.7221 - categorical_accuracy: 0.5237 - top_3_accuracy: 0.7408 - val_loss: 1.5560 - val_categorical_crossentropy: 1.5560 - val_categorical_accuracy: 0.5701 - val_top_3_accuracy: 0.7765\n",
            "\n",
            "Epoch 00003: saving model to /content/drive/MyDrive/Colab Notebooks/Flictionary/logs/log_cnn_2/model.03-1.56.hdf5\n",
            "Epoch 4/20\n",
            "1000/1000 [==============================] - 339s 339ms/step - loss: 1.4346 - categorical_crossentropy: 1.4346 - categorical_accuracy: 0.6009 - top_3_accuracy: 0.7992 - val_loss: 1.3709 - val_categorical_crossentropy: 1.3709 - val_categorical_accuracy: 0.6207 - val_top_3_accuracy: 0.8084\n",
            "\n",
            "Epoch 00004: saving model to /content/drive/MyDrive/Colab Notebooks/Flictionary/logs/log_cnn_2/model.04-1.37.hdf5\n",
            "Epoch 5/20\n",
            "1000/1000 [==============================] - 338s 338ms/step - loss: 1.2891 - categorical_crossentropy: 1.2891 - categorical_accuracy: 0.6401 - top_3_accuracy: 0.8260 - val_loss: 1.2319 - val_categorical_crossentropy: 1.2319 - val_categorical_accuracy: 0.6566 - val_top_3_accuracy: 0.8352\n",
            "\n",
            "Epoch 00005: saving model to /content/drive/MyDrive/Colab Notebooks/Flictionary/logs/log_cnn_2/model.05-1.23.hdf5\n",
            "Epoch 6/20\n",
            "1000/1000 [==============================] - 334s 335ms/step - loss: 1.1503 - categorical_crossentropy: 1.1503 - categorical_accuracy: 0.6780 - top_3_accuracy: 0.8511 - val_loss: 1.1503 - val_categorical_crossentropy: 1.1503 - val_categorical_accuracy: 0.6833 - val_top_3_accuracy: 0.8513\n",
            "\n",
            "Epoch 00006: saving model to /content/drive/MyDrive/Colab Notebooks/Flictionary/logs/log_cnn_2/model.06-1.15.hdf5\n",
            "Epoch 7/20\n",
            "1000/1000 [==============================] - 337s 338ms/step - loss: 1.0695 - categorical_crossentropy: 1.0695 - categorical_accuracy: 0.7001 - top_3_accuracy: 0.8641 - val_loss: 1.0723 - val_categorical_crossentropy: 1.0723 - val_categorical_accuracy: 0.7005 - val_top_3_accuracy: 0.8623\n",
            "\n",
            "Epoch 00007: saving model to /content/drive/MyDrive/Colab Notebooks/Flictionary/logs/log_cnn_2/model.07-1.07.hdf5\n",
            "Epoch 8/20\n",
            "1000/1000 [==============================] - 337s 337ms/step - loss: 1.0249 - categorical_crossentropy: 1.0249 - categorical_accuracy: 0.7122 - top_3_accuracy: 0.8715 - val_loss: 1.0092 - val_categorical_crossentropy: 1.0092 - val_categorical_accuracy: 0.7223 - val_top_3_accuracy: 0.8737\n",
            "\n",
            "Epoch 00008: saving model to /content/drive/MyDrive/Colab Notebooks/Flictionary/logs/log_cnn_2/model.08-1.01.hdf5\n",
            "Epoch 9/20\n",
            "1000/1000 [==============================] - 335s 335ms/step - loss: 0.9371 - categorical_crossentropy: 0.9371 - categorical_accuracy: 0.7353 - top_3_accuracy: 0.8855 - val_loss: 0.9713 - val_categorical_crossentropy: 0.9713 - val_categorical_accuracy: 0.7316 - val_top_3_accuracy: 0.8819\n",
            "\n",
            "Epoch 00009: saving model to /content/drive/MyDrive/Colab Notebooks/Flictionary/logs/log_cnn_2/model.09-0.97.hdf5\n",
            "Epoch 10/20\n",
            "1000/1000 [==============================] - 335s 335ms/step - loss: 0.8954 - categorical_crossentropy: 0.8954 - categorical_accuracy: 0.7457 - top_3_accuracy: 0.8919 - val_loss: 0.9343 - val_categorical_crossentropy: 0.9343 - val_categorical_accuracy: 0.7416 - val_top_3_accuracy: 0.8858\n",
            "\n",
            "Epoch 00010: saving model to /content/drive/MyDrive/Colab Notebooks/Flictionary/logs/log_cnn_2/model.10-0.93.hdf5\n",
            "Epoch 11/20\n",
            "1000/1000 [==============================] - 337s 337ms/step - loss: 0.8862 - categorical_crossentropy: 0.8862 - categorical_accuracy: 0.7489 - top_3_accuracy: 0.8931 - val_loss: 0.9094 - val_categorical_crossentropy: 0.9094 - val_categorical_accuracy: 0.7475 - val_top_3_accuracy: 0.8884\n",
            "\n",
            "Epoch 00011: saving model to /content/drive/MyDrive/Colab Notebooks/Flictionary/logs/log_cnn_2/model.11-0.91.hdf5\n",
            "Epoch 12/20\n",
            "1000/1000 [==============================] - 336s 336ms/step - loss: 0.8049 - categorical_crossentropy: 0.8049 - categorical_accuracy: 0.7705 - top_3_accuracy: 0.9056 - val_loss: 0.9033 - val_categorical_crossentropy: 0.9033 - val_categorical_accuracy: 0.7508 - val_top_3_accuracy: 0.8912\n",
            "\n",
            "Epoch 00012: saving model to /content/drive/MyDrive/Colab Notebooks/Flictionary/logs/log_cnn_2/model.12-0.90.hdf5\n",
            "Epoch 13/20\n",
            "1000/1000 [==============================] - 335s 335ms/step - loss: 0.8023 - categorical_crossentropy: 0.8023 - categorical_accuracy: 0.7714 - top_3_accuracy: 0.9062 - val_loss: 0.8748 - val_categorical_crossentropy: 0.8748 - val_categorical_accuracy: 0.7576 - val_top_3_accuracy: 0.8961\n",
            "\n",
            "Epoch 00013: saving model to /content/drive/MyDrive/Colab Notebooks/Flictionary/logs/log_cnn_2/model.13-0.87.hdf5\n",
            "Epoch 14/20\n",
            "1000/1000 [==============================] - 336s 336ms/step - loss: 0.7878 - categorical_crossentropy: 0.7878 - categorical_accuracy: 0.7754 - top_3_accuracy: 0.9085 - val_loss: 0.8663 - val_categorical_crossentropy: 0.8663 - val_categorical_accuracy: 0.7607 - val_top_3_accuracy: 0.8971\n",
            "\n",
            "Epoch 00014: saving model to /content/drive/MyDrive/Colab Notebooks/Flictionary/logs/log_cnn_2/model.14-0.87.hdf5\n",
            "Epoch 15/20\n",
            "1000/1000 [==============================] - 336s 336ms/step - loss: 0.7166 - categorical_crossentropy: 0.7166 - categorical_accuracy: 0.7940 - top_3_accuracy: 0.9185 - val_loss: 0.8722 - val_categorical_crossentropy: 0.8722 - val_categorical_accuracy: 0.7620 - val_top_3_accuracy: 0.8947\n",
            "\n",
            "Epoch 00015: saving model to /content/drive/MyDrive/Colab Notebooks/Flictionary/logs/log_cnn_2/model.15-0.87.hdf5\n",
            "Epoch 16/20\n",
            "1000/1000 [==============================] - 338s 338ms/step - loss: 0.7363 - categorical_crossentropy: 0.7363 - categorical_accuracy: 0.7886 - top_3_accuracy: 0.9159 - val_loss: 0.8503 - val_categorical_crossentropy: 0.8503 - val_categorical_accuracy: 0.7642 - val_top_3_accuracy: 0.9008\n",
            "\n",
            "Epoch 00016: saving model to /content/drive/MyDrive/Colab Notebooks/Flictionary/logs/log_cnn_2/model.16-0.85.hdf5\n",
            "Epoch 17/20\n",
            "1000/1000 [==============================] - 335s 336ms/step - loss: 0.7062 - categorical_crossentropy: 0.7062 - categorical_accuracy: 0.7968 - top_3_accuracy: 0.9199 - val_loss: 0.8467 - val_categorical_crossentropy: 0.8467 - val_categorical_accuracy: 0.7656 - val_top_3_accuracy: 0.9003\n",
            "\n",
            "Epoch 00017: saving model to /content/drive/MyDrive/Colab Notebooks/Flictionary/logs/log_cnn_2/model.17-0.85.hdf5\n",
            "Epoch 18/20\n",
            "1000/1000 [==============================] - 334s 334ms/step - loss: 0.6590 - categorical_crossentropy: 0.6590 - categorical_accuracy: 0.8093 - top_3_accuracy: 0.9266 - val_loss: 0.8442 - val_categorical_crossentropy: 0.8442 - val_categorical_accuracy: 0.7676 - val_top_3_accuracy: 0.9000\n",
            "\n",
            "Epoch 00018: saving model to /content/drive/MyDrive/Colab Notebooks/Flictionary/logs/log_cnn_2/model.18-0.84.hdf5\n",
            "Epoch 19/20\n",
            "1000/1000 [==============================] - 334s 334ms/step - loss: 0.6743 - categorical_crossentropy: 0.6743 - categorical_accuracy: 0.8047 - top_3_accuracy: 0.9246 - val_loss: 0.8422 - val_categorical_crossentropy: 0.8422 - val_categorical_accuracy: 0.7685 - val_top_3_accuracy: 0.9002\n",
            "\n",
            "Epoch 00019: saving model to /content/drive/MyDrive/Colab Notebooks/Flictionary/logs/log_cnn_2/model.19-0.84.hdf5\n",
            "Epoch 20/20\n",
            "1000/1000 [==============================] - 337s 337ms/step - loss: 0.6250 - categorical_crossentropy: 0.6250 - categorical_accuracy: 0.8195 - top_3_accuracy: 0.9315 - val_loss: 0.8490 - val_categorical_crossentropy: 0.8490 - val_categorical_accuracy: 0.7684 - val_top_3_accuracy: 0.9001\n",
            "\n",
            "Epoch 00020: saving model to /content/drive/MyDrive/Colab Notebooks/Flictionary/logs/log_cnn_2/model.20-0.85.hdf5\n"
          ]
        }
      ],
      "metadata": {
        "trusted": true,
        "_uuid": "b702dbec4f03127909f3c0fab9d48b86c265c74f",
        "colab": {
          "base_uri": "https://localhost:8080/"
        },
        "id": "ZbVQNebeDUxu",
        "outputId": "be228108-5075-4289-fc48-62334aa51958"
      }
    },
    {
      "cell_type": "code",
      "execution_count": 18,
      "source": [
        "def gen_graph(history, title):\n",
        "    plt.plot(history.history['categorical_accuracy'])\n",
        "    plt.plot(history.history['val_categorical_accuracy'])\n",
        "    plt.plot(history.history['top_3_accuracy'])\n",
        "    plt.plot(history.history['val_top_3_accuracy'])\n",
        "    plt.title('Accuracy ' + title)\n",
        "    plt.ylabel('Accuracy')\n",
        "    plt.xlabel('Epoch')\n",
        "    plt.legend(['train', 'validation', 'Test top 3', 'Validation top 3'], loc='upper left')\n",
        "    plt.show()\n",
        "    plt.plot(history.history['categorical_crossentropy'])\n",
        "    plt.plot(history.history['val_categorical_crossentropy'])\n",
        "    plt.title('Loss ' + title)\n",
        "    plt.ylabel('MLogLoss')\n",
        "    plt.xlabel('Epoch')\n",
        "    plt.legend(['train', 'validation'], loc='upper left')\n",
        "    plt.show()"
      ],
      "outputs": [],
      "metadata": {
        "trusted": true,
        "_uuid": "97e830678323a599deb8fb4b22fd1d986e893aaa",
        "id": "BSerwqv2DUxu"
      }
    },
    {
      "cell_type": "code",
      "execution_count": null,
      "source": [
        "#plot\n",
        "gen_graph(history, \"Simple net lul\")"
      ],
      "outputs": [
        {
          "output_type": "display_data",
          "data": {
            "text/plain": [
              "<Figure size 432x288 with 1 Axes>"
            ],
            "image/png": "[encoded data removed]"
          },
          "metadata": {
            "needs_background": "light"
          }
        },
        {
          "output_type": "display_data",
          "data": {
            "text/plain": [
              "<Figure size 432x288 with 1 Axes>"
            ],
            "image/png": "[encoded data removed]"
          },
          "metadata": {
            "needs_background": "light"
          }
        }
      ],
      "metadata": {
        "trusted": true,
        "_uuid": "a6404ecead97faa36c8cf7f6cfacefb5b5f3d920",
        "colab": {
          "base_uri": "https://localhost:8080/",
          "height": 573
        },
        "id": "QYgwBhRHDUxu",
        "outputId": "2faa6c9e-fff7-4ef8-8d6c-ee653004c6cd"
      }
    },
    {
      "cell_type": "code",
      "execution_count": 19,
      "source": [
        "pred_results = []\n",
        "chunksize = 10000\n",
        "reader = pd.read_csv(INPUT_DIR + 'test_simplified.csv', chunksize=chunksize)\n",
        "for chunk in tqdm(reader):\n",
        "    imgs = df_to_image_array(chunk)\n",
        "    pred = model.predict(imgs, verbose=1)\n",
        "    top_3 =  np.argsort(-pred)[:, 0:3]  \n",
        "    pred_results.append(top_3)\n",
        "print(\"Finished test predictions...\")\n"
      ],
      "outputs": [
        {
          "output_type": "stream",
          "name": "stderr",
          "text": [
            "\r0it [00:00, ?it/s]"
          ]
        },
        {
          "output_type": "stream",
          "name": "stdout",
          "text": [
            "313/313 [==============================] - 2s 5ms/step\n"
          ]
        },
        {
          "output_type": "stream",
          "name": "stderr",
          "text": [
            "\r1it [00:09,  9.22s/it]"
          ]
        },
        {
          "output_type": "stream",
          "name": "stdout",
          "text": [
            "313/313 [==============================] - 1s 4ms/step\n"
          ]
        },
        {
          "output_type": "stream",
          "name": "stderr",
          "text": [
            "\r2it [00:16,  7.83s/it]"
          ]
        },
        {
          "output_type": "stream",
          "name": "stdout",
          "text": [
            "313/313 [==============================] - 1s 4ms/step\n"
          ]
        },
        {
          "output_type": "stream",
          "name": "stderr",
          "text": [
            "\r3it [00:21,  6.80s/it]"
          ]
        },
        {
          "output_type": "stream",
          "name": "stdout",
          "text": [
            "313/313 [==============================] - 1s 4ms/step\n"
          ]
        },
        {
          "output_type": "stream",
          "name": "stderr",
          "text": [
            "\r4it [00:28,  6.74s/it]"
          ]
        },
        {
          "output_type": "stream",
          "name": "stdout",
          "text": [
            "313/313 [==============================] - 1s 4ms/step\n"
          ]
        },
        {
          "output_type": "stream",
          "name": "stderr",
          "text": [
            "\r5it [00:35,  6.81s/it]"
          ]
        },
        {
          "output_type": "stream",
          "name": "stdout",
          "text": [
            "313/313 [==============================] - 1s 4ms/step\n"
          ]
        },
        {
          "output_type": "stream",
          "name": "stderr",
          "text": [
            "\r6it [00:42,  6.84s/it]"
          ]
        },
        {
          "output_type": "stream",
          "name": "stdout",
          "text": [
            "313/313 [==============================] - 1s 4ms/step\n"
          ]
        },
        {
          "output_type": "stream",
          "name": "stderr",
          "text": [
            "\r7it [00:47,  6.40s/it]"
          ]
        },
        {
          "output_type": "stream",
          "name": "stdout",
          "text": [
            "313/313 [==============================] - 1s 4ms/step\n"
          ]
        },
        {
          "output_type": "stream",
          "name": "stderr",
          "text": [
            "\r8it [00:54,  6.55s/it]"
          ]
        },
        {
          "output_type": "stream",
          "name": "stdout",
          "text": [
            "313/313 [==============================] - 1s 4ms/step\n"
          ]
        },
        {
          "output_type": "stream",
          "name": "stderr",
          "text": [
            "\r9it [01:00,  6.26s/it]"
          ]
        },
        {
          "output_type": "stream",
          "name": "stdout",
          "text": [
            "313/313 [==============================] - 1s 4ms/step\n"
          ]
        },
        {
          "output_type": "stream",
          "name": "stderr",
          "text": [
            "\r10it [01:05,  6.05s/it]"
          ]
        },
        {
          "output_type": "stream",
          "name": "stdout",
          "text": [
            "313/313 [==============================] - 1s 4ms/step\n"
          ]
        },
        {
          "output_type": "stream",
          "name": "stderr",
          "text": [
            "\r11it [01:11,  5.89s/it]"
          ]
        },
        {
          "output_type": "stream",
          "name": "stdout",
          "text": [
            "69/69 [==============================] - 0s 5ms/step\n"
          ]
        },
        {
          "output_type": "stream",
          "name": "stderr",
          "text": [
            "12it [01:12,  6.06s/it]"
          ]
        },
        {
          "output_type": "stream",
          "name": "stdout",
          "text": [
            "Finished test predictions...\n"
          ]
        },
        {
          "output_type": "stream",
          "name": "stderr",
          "text": [
            "\n"
          ]
        }
      ],
      "metadata": {
        "trusted": true,
        "_uuid": "d36a3540618ccba3308a8d33fb948db012b88dc5",
        "colab": {
          "base_uri": "https://localhost:8080/"
        },
        "id": "eFVBcBl0DUxv",
        "outputId": "1ae26bb1-20bc-4e94-fca5-bfcd462df6b6"
      }
    },
    {
      "cell_type": "code",
      "execution_count": 20,
      "source": [
        "#prepare data for saving\n",
        "reverse_dict = {v: k for k, v in class_dict.items()}\n",
        "pred_results = np.concatenate(pred_results)\n",
        "print(\"Finished data prep...\")\n"
      ],
      "outputs": [
        {
          "output_type": "stream",
          "name": "stdout",
          "text": [
            "Finished data prep...\n"
          ]
        }
      ],
      "metadata": {
        "trusted": true,
        "_uuid": "85acaa27c8c28458f7c132279ea4a3e11596b178",
        "colab": {
          "base_uri": "https://localhost:8080/"
        },
        "id": "YC0GxI-HDUxv",
        "outputId": "e9355536-ca75-474c-c33c-225b75120999"
      }
    },
    {
      "cell_type": "code",
      "execution_count": 21,
      "source": [
        "preds_df = pd.DataFrame({'first': pred_results[:,0], 'second': pred_results[:,1], 'third': pred_results[:,2]})\n",
        "preds_df = preds_df.replace(reverse_dict)\n",
        "\n",
        "preds_df['words'] = preds_df['first'] + \" \" + preds_df['second'] + \" \" + preds_df['third']\n",
        "\n",
        "sub = pd.read_csv(INPUT_DIR + 'sample_submission.csv', index_col=['key_id'])\n",
        "sub['word'] = preds_df.words.values\n",
        "sub.to_csv('1class_per_label_proto.csv')\n",
        "sub.head()"
      ],
      "outputs": [
        {
          "output_type": "execute_result",
          "data": {
            "text/plain": [
              "                                  word\n",
              "key_id                                \n",
              "9000003627287624  crocodile tiger swan\n",
              "9000010688666847  bat rhinoceros tiger\n",
              "9000023642890129  camel bat rhinoceros\n",
              "9000038588854897  monkey raccoon horse\n",
              "9000052667981386         pig zebra cat"
            ],
            "text/html": [
              "<div>\n",
              "<style scoped>\n",
              "    .dataframe tbody tr th:only-of-type {\n",
              "        vertical-align: middle;\n",
              "    }\n",
              "\n",
              "    .dataframe tbody tr th {\n",
              "        vertical-align: top;\n",
              "    }\n",
              "\n",
              "    .dataframe thead th {\n",
              "        text-align: right;\n",
              "    }\n",
              "</style>\n",
              "<table border=\"1\" class=\"dataframe\">\n",
              "  <thead>\n",
              "    <tr style=\"text-align: right;\">\n",
              "      <th></th>\n",
              "      <th>word</th>\n",
              "    </tr>\n",
              "    <tr>\n",
              "      <th>key_id</th>\n",
              "      <th></th>\n",
              "    </tr>\n",
              "  </thead>\n",
              "  <tbody>\n",
              "    <tr>\n",
              "      <th>9000003627287624</th>\n",
              "      <td>crocodile tiger swan</td>\n",
              "    </tr>\n",
              "    <tr>\n",
              "      <th>9000010688666847</th>\n",
              "      <td>bat rhinoceros tiger</td>\n",
              "    </tr>\n",
              "    <tr>\n",
              "      <th>9000023642890129</th>\n",
              "      <td>camel bat rhinoceros</td>\n",
              "    </tr>\n",
              "    <tr>\n",
              "      <th>9000038588854897</th>\n",
              "      <td>monkey raccoon horse</td>\n",
              "    </tr>\n",
              "    <tr>\n",
              "      <th>9000052667981386</th>\n",
              "      <td>pig zebra cat</td>\n",
              "    </tr>\n",
              "  </tbody>\n",
              "</table>\n",
              "</div>"
            ]
          },
          "metadata": {},
          "execution_count": 21
        }
      ],
      "metadata": {
        "trusted": true,
        "_uuid": "e962bffec419cf26be76577c4185fef0532b0cd6",
        "colab": {
          "base_uri": "https://localhost:8080/",
          "height": 235
        },
        "id": "NFchFimaDUxv",
        "outputId": "2575ce13-8907-458b-ece5-75c00d119a7e"
      }
    },
    {
      "cell_type": "code",
      "execution_count": 22,
      "source": [
        "endTime = time.time()\n",
        "print(endTime - startTime)"
      ],
      "outputs": [
        {
          "output_type": "stream",
          "name": "stdout",
          "text": [
            "8143.678502559662\n"
          ]
        }
      ],
      "metadata": {
        "trusted": true,
        "_uuid": "97f621ecfec4e794b4b4c44c6e72415a33de4a1a",
        "colab": {
          "base_uri": "https://localhost:8080/"
        },
        "id": "hLr9nKqGDUxv",
        "outputId": "cbbc006b-d9ce-4583-9f99-3c569c893b8e"
      }
    },
    {
      "cell_type": "code",
      "execution_count": null,
      "source": [],
      "outputs": [],
      "metadata": {
        "id": "y7d8k6JkseMG"
      }
    }
  ]
}