{
 "cells": [
  {
   "cell_type": "code",
   "execution_count": 2,
   "source": [
    "import numpy as np \n",
    "import pandas as pd \n",
    "import warnings\n",
    "warnings.filterwarnings('ignore') # to suppress some matplotlib deprecation warnings\n",
    "import os\n",
    "import ast\n",
    "import math\n",
    "\n",
    "from simplification.cutil import simplify_coords\n",
    "\n",
    "import matplotlib.pyplot as plt\n",
    "import matplotlib.style as style\n",
    "import seaborn as sns\n",
    "%matplotlib inline\n",
    "%config InlineBackend.figure_format = 'retina'\n",
    "\n",
    "from sklearn.utils import shuffle\n",
    "\n",
    "sns.set(style=\"darkgrid\")\n"
   ],
   "outputs": [],
   "metadata": {}
  },
  {
   "cell_type": "code",
   "execution_count": 8,
   "source": [
    "tr_raw_panda = pd.read_csv('../input/kaggle/train_raw/panda.csv')\n",
    "tr_raw_panda.head()"
   ],
   "outputs": [
    {
     "output_type": "execute_result",
     "data": {
      "text/plain": [
       "  countrycode                                            drawing  \\\n",
       "0          US  [[[461, 450, 441, 431, 418, 401, 384, 368, 353...   \n",
       "1          BR  [[[620, 615, 609, 604, 599, 592, 585, 578, 572...   \n",
       "2          BR  [[[781, 759, 735, 707, 679, 646, 609, 571, 535...   \n",
       "3          US  [[[417, 397, 384, 369, 348, 324, 301, 278, 255...   \n",
       "4          US  [[[640, 634, 629, 624, 619, 612, 604, 595, 590...   \n",
       "\n",
       "             key_id  recognized                   timestamp   word  \n",
       "0  5453565080371200        True  2017-03-13 16:53:48.790980  panda  \n",
       "1  5965556941324288       False  2017-03-09 16:19:44.633780  panda  \n",
       "2  6307234680143872        True  2017-01-26 00:21:17.363700  panda  \n",
       "3  4625715938983936        True  2017-03-23 17:55:31.427700  panda  \n",
       "4  5116330174840832        True  2017-01-26 16:13:48.454190  panda  "
      ],
      "text/html": [
       "<div>\n",
       "<style scoped>\n",
       "    .dataframe tbody tr th:only-of-type {\n",
       "        vertical-align: middle;\n",
       "    }\n",
       "\n",
       "    .dataframe tbody tr th {\n",
       "        vertical-align: top;\n",
       "    }\n",
       "\n",
       "    .dataframe thead th {\n",
       "        text-align: right;\n",
       "    }\n",
       "</style>\n",
       "<table border=\"1\" class=\"dataframe\">\n",
       "  <thead>\n",
       "    <tr style=\"text-align: right;\">\n",
       "      <th></th>\n",
       "      <th>countrycode</th>\n",
       "      <th>drawing</th>\n",
       "      <th>key_id</th>\n",
       "      <th>recognized</th>\n",
       "      <th>timestamp</th>\n",
       "      <th>word</th>\n",
       "    </tr>\n",
       "  </thead>\n",
       "  <tbody>\n",
       "    <tr>\n",
       "      <th>0</th>\n",
       "      <td>US</td>\n",
       "      <td>[[[461, 450, 441, 431, 418, 401, 384, 368, 353...</td>\n",
       "      <td>5453565080371200</td>\n",
       "      <td>True</td>\n",
       "      <td>2017-03-13 16:53:48.790980</td>\n",
       "      <td>panda</td>\n",
       "    </tr>\n",
       "    <tr>\n",
       "      <th>1</th>\n",
       "      <td>BR</td>\n",
       "      <td>[[[620, 615, 609, 604, 599, 592, 585, 578, 572...</td>\n",
       "      <td>5965556941324288</td>\n",
       "      <td>False</td>\n",
       "      <td>2017-03-09 16:19:44.633780</td>\n",
       "      <td>panda</td>\n",
       "    </tr>\n",
       "    <tr>\n",
       "      <th>2</th>\n",
       "      <td>BR</td>\n",
       "      <td>[[[781, 759, 735, 707, 679, 646, 609, 571, 535...</td>\n",
       "      <td>6307234680143872</td>\n",
       "      <td>True</td>\n",
       "      <td>2017-01-26 00:21:17.363700</td>\n",
       "      <td>panda</td>\n",
       "    </tr>\n",
       "    <tr>\n",
       "      <th>3</th>\n",
       "      <td>US</td>\n",
       "      <td>[[[417, 397, 384, 369, 348, 324, 301, 278, 255...</td>\n",
       "      <td>4625715938983936</td>\n",
       "      <td>True</td>\n",
       "      <td>2017-03-23 17:55:31.427700</td>\n",
       "      <td>panda</td>\n",
       "    </tr>\n",
       "    <tr>\n",
       "      <th>4</th>\n",
       "      <td>US</td>\n",
       "      <td>[[[640, 634, 629, 624, 619, 612, 604, 595, 590...</td>\n",
       "      <td>5116330174840832</td>\n",
       "      <td>True</td>\n",
       "      <td>2017-01-26 16:13:48.454190</td>\n",
       "      <td>panda</td>\n",
       "    </tr>\n",
       "  </tbody>\n",
       "</table>\n",
       "</div>"
      ]
     },
     "metadata": {},
     "execution_count": 8
    }
   ],
   "metadata": {}
  },
  {
   "cell_type": "code",
   "execution_count": null,
   "source": [
    "tr_raw_panda.drawing[0]"
   ],
   "outputs": [
    {
     "output_type": "execute_result",
     "data": {
      "text/plain": [
       "'[[[183, 178, 174, 169, 162, 156, 149, 142, 135, 130, 125, 120, 116, 112, 106, 101, 96, 91, 84, 79, 74, 69, 63, 57, 51, 46, 52, 57, 62, 67, 72, 76, 80, 85, 92, 97, 103, 109, 114, 118, 123, 129, 133, 128, 123, 115, 110, 102, 97, 91, 83, 75, 67, 60, 52, 46, 41, 36, 27, 20, 16, 15, 15, 15, 15, 15, 17, 23, 28, 33, 38, 44, 50, 58, 63, 69, 75, 82, 91, 97, 102, 107, 113, 119, 124, 130, 136, 143, 151, 160, 165, 170, 177, 182, 187, 193, 202, 207, 215, 221, 226, 232, 239, 245, 253, 259, 265, 271, 272, 272, 272, 271, 268, 264, 259, 252, 244, 232, 223, 214, 205, 198, 192, 187, 182, 181], [142, 147, 152, 157, 164, 170, 177, 183, 188, 192, 197, 203, 208, 213, 220, 225, 230, 234, 235, 233, 232, 232, 232, 232, 232, 232, 225, 221, 218, 213, 209, 204, 197, 190, 181, 174, 165, 158, 151, 146, 140, 132, 126, 124, 124, 125, 128, 132, 135, 139, 142, 147, 151, 153, 157, 159, 160, 160, 161, 161, 155, 145, 136, 129, 123, 118, 112, 110, 108, 105, 102, 99, 97, 93, 91, 89, 86, 84, 83, 82, 81, 80, 79, 79, 79, 79, 79, 79, 79, 79, 79, 79, 79, 78, 78, 78, 78, 78, 78, 78, 78, 77, 76, 75, 75, 75, 75, 76, 86, 99, 104, 111, 118, 123, 124, 124, 125, 127, 128, 129, 129, 129, 128, 126, 123, 122], [0, 20, 34, 50, 67, 84, 106, 124, 134, 150, 168, 185, 202, 217, 252, 301, 371, 417, 885, 953, 985, 1001, 1018, 1034, 1051, 1067, 1184, 1200, 1218, 1234, 1251, 1267, 1285, 1302, 1318, 1334, 1352, 1367, 1384, 1401, 1418, 1452, 1488, 1835, 1850, 1885, 1918, 2019, 2036, 2051, 2068, 2085, 2101, 2119, 2134, 2152, 2167, 2184, 2217, 2252, 2318, 2351, 2367, 2384, 2401, 2418, 2454, 2549, 2567, 2584, 2600, 2617, 2634, 2667, 2703, 2734, 2767, 2802, 2834, 2869, 2902, 2935, 2967, 3002, 3034, 3067, 3100, 3134, 3167, 3202, 3219, 3236, 3268, 3300, 3334, 3367, 3403, 3419, 3453, 3486, 3517, 3570, 3901, 3918, 3933, 3950, 3967, 4000, 4083, 4117, 4155, 4235, 4268, 4318, 4335, 4351, 4366, 4385, 4401, 4418, 4435, 4454, 4471, 4485, 4517, 4617]], [[224, 224, 224, 224, 224, 225, 227, 230, 237, 244, 250, 255, 255], [76, 81, 91, 96, 105, 110, 116, 121, 130, 135, 137, 137, 137], [5091, 5118, 5155, 5169, 5200, 5218, 5235, 5253, 5285, 5318, 5368, 5455, 5470]], [[135, 133, 132, 130, 126, 123, 117, 111, 106, 101, 97, 91, 86, 81, 73, 64, 59, 54, 58, 61, 65, 70, 75, 81, 87, 93, 98, 103, 108, 109], [74, 69, 62, 55, 47, 42, 34, 27, 22, 16, 11, 4, 1, 1, 1, 2, 4, 6, 13, 19, 24, 32, 39, 45, 52, 58, 63, 68, 71, 72], [6066, 6204, 6233, 6267, 6303, 6318, 6353, 6384, 6417, 6469, 6504, 6552, 6987, 7118, 7150, 7183, 7200, 7250, 7451, 7466, 7483, 7500, 7516, 7533, 7550, 7567, 7584, 7600, 7634, 7683]]]'"
      ]
     },
     "metadata": {},
     "execution_count": 5
    }
   ],
   "metadata": {}
  },
  {
   "cell_type": "code",
   "execution_count": null,
   "source": [
    "len(tr_raw_panda.drawing[0])"
   ],
   "outputs": [
    {
     "output_type": "execute_result",
     "data": {
      "text/plain": [
       "5567"
      ]
     },
     "metadata": {},
     "execution_count": 49
    }
   ],
   "metadata": {}
  },
  {
   "cell_type": "code",
   "execution_count": null,
   "source": [
    "tr_raw_panda.drawing[1]"
   ],
   "outputs": [
    {
     "output_type": "execute_result",
     "data": {
      "text/plain": [
       "'[[[785, 787, 796, 812, 815, 820, 827, 834, 852, 861, 880, 885, 896, 901, 914, 921, 926, 931, 938, 943, 951, 956, 963, 970, 984, 1011, 1043, 1061, 1079, 1087, 1092, 1098, 1115, 1120, 1127, 1136, 1151, 1163, 1173, 1184, 1195, 1201, 1212, 1228, 1237, 1250, 1256, 1262, 1270, 1272], [499, 493, 481, 467, 462, 459, 454, 450, 442, 439, 433, 432, 429, 428, 426, 426, 426, 426, 426, 426, 426, 426, 426, 426, 426, 430, 437, 440, 446, 448, 448, 448, 448, 448, 449, 451, 453, 456, 456, 458, 460, 460, 460, 460, 460, 460, 460, 460, 460, 460], [0, 68, 86, 110, 117, 135, 162, 185, 232, 246, 278, 290, 320, 348, 364, 371, 386, 389, 408, 414, 443, 479, 511, 540, 556, 588, 614, 619, 638, 653, 806, 823, 847, 856, 863, 867, 887, 907, 918, 939, 969, 972, 1012, 1016, 1019, 1038, 1043, 1051, 1082, 1310]], [[939, 941, 945, 945, 946, 947, 950, 950, 952, 954, 954, 955, 959, 974, 978, 982, 988, 994, 1004, 1022, 1030, 1041, 1061, 1079, 1089, 1094, 1099, 1103, 1107, 1107, 1108, 1108, 1106, 1103, 1098, 1087, 1082, 1075, 1070, 1060, 1058, 1057, 1055, 1052, 1048, 1048], [519, 576, 600, 605, 613, 618, 631, 637, 649, 656, 667, 673, 688, 724, 731, 736, 738, 739, 739, 742, 742, 738, 724, 711, 702, 696, 690, 684, 670, 664, 656, 651, 643, 637, 630, 622, 619, 613, 610, 599, 593, 586, 580, 572, 566, 565], [2584, 2608, 2618, 2633, 2640, 2650, 2672, 2683, 2713, 2719, 2735, 2739, 2759, 2804, 2821, 2838, 2862, 2887, 2909, 2994, 3052, 3072, 3094, 3101, 3124, 3152, 3163, 3182, 3204, 3225, 3257, 3267, 3292, 3318, 3343, 3375, 3392, 3424, 3435, 3477, 3503, 3519, 3540, 3574, 3623, 3687]], [[837, 856, 862, 869, 876, 880, 880, 875, 870, 861, 844, 843], [486, 473, 473, 473, 474, 481, 486, 488, 488, 488, 488, 488], [4618, 4622, 4650, 4707, 4739, 4791, 4831, 4909, 4953, 4981, 5057, 5148]], [[967, 975, 981, 986, 991, 996, 1001, 1006, 1011, 1016, 1011, 1002, 997, 991, 986, 979, 973, 968, 968], [482, 477, 476, 475, 473, 473, 473, 474, 474, 483, 483, 483, 483, 483, 482, 481, 480, 479, 479], [5684, 5755, 5798, 5826, 5835, 5859, 5935, 5981, 6023, 6345, 6363, 6450, 6477, 6504, 6549, 6605, 6648, 6689, 6775]], [[1070, 1076, 1081, 1117, 1122, 1122, 1116, 1109, 1103, 1098, 1093, 1087, 1082, 1077, 1070, 1064, 1059, 1052, 1049], [482, 481, 481, 487, 489, 496, 498, 499, 499, 498, 497, 496, 495, 494, 494, 492, 492, 491, 490], [7389, 7489, 7557, 7936, 8051, 8209, 8254, 8347, 8408, 8445, 8471, 8500, 8536, 8580, 8641, 8672, 8685, 8708, 8844]], [[1256, 1261, 1267, 1272, 1277, 1282, 1290, 1296, 1301, 1309, 1317, 1323, 1327, 1327, 1325, 1321, 1316, 1309, 1294, 1286, 1273, 1268, 1263, 1255, 1248, 1242, 1235, 1230, 1219, 1211, 1205, 1200, 1192, 1187, 1181, 1176, 1198, 1206, 1213, 1218, 1224, 1229, 1254, 1259, 1264, 1269, 1284, 1290, 1301, 1314, 1325, 1343, 1349, 1354, 1368, 1380, 1403, 1411, 1414, 1415, 1420, 1423, 1426, 1430, 1431, 1431, 1431, 1430, 1430, 1426, 1421, 1418, 1413, 1407, 1399, 1394, 1385, 1378, 1363, 1351, 1346, 1341, 1336, 1330, 1311, 1297, 1292, 1279, 1267, 1261, 1248, 1239, 1233, 1224, 1218, 1213, 1202, 1072, 1072], [465, 465, 465, 465, 465, 464, 460, 459, 456, 450, 445, 443, 438, 431, 422, 412, 406, 403, 398, 396, 392, 388, 386, 384, 381, 381, 380, 380, 377, 375, 373, 372, 369, 369, 369, 366, 354, 354, 354, 355, 356, 357, 360, 360, 360, 361, 363, 364, 365, 368, 370, 371, 372, 372, 377, 379, 390, 396, 402, 407, 422, 430, 435, 447, 452, 461, 471, 483, 490, 503, 517, 524, 532, 537, 543, 546, 553, 560, 569, 578, 582, 583, 586, 589, 597, 602, 606, 611, 615, 617, 617, 617, 617, 617, 617, 617, 617, 626, 626], [9780, 9828, 9890, 9924, 9964, 9997, 10026, 10040, 10075, 10104, 10115, 10137, 10192, 10243, 10272, 10300, 10326, 10358, 10405, 10427, 10477, 10491, 10517, 10539, 10560, 10573, 10592, 10600, 10621, 10643, 10652, 10679, 10710, 10724, 10739, 10775, 11065, 11092, 11116, 11126, 11137, 11160, 11184, 11207, 11213, 11238, 11299, 11422, 11451, 11459, 11474, 11495, 11504, 11563, 11637, 11658, 11703, 11728, 11762, 11768, 11805, 11823, 11843, 11885, 11907, 11940, 11976, 12008, 12020, 12064, 12101, 12147, 12157, 12179, 12212, 12223, 12243, 12275, 12288, 12308, 12317, 12324, 12338, 12357, 12368, 12389, 12402, 12422, 12443, 12472, 12485, 12509, 12530, 12564, 12574, 12591, 12636, 12931, 12942]], [[958, 963, 966, 971, 979, 1000, 1020, 1027, 1033, 1037, 1045, 1057, 1066, 1071, 1079, 1092, 1097, 1102, 1107, 1108, 1111, 1112, 1113, 1116, 1116, 1116, 1112, 1106, 1098, 1069, 1069], [417, 410, 405, 397, 387, 363, 348, 341, 336, 330, 324, 315, 310, 308, 308, 310, 312, 314, 324, 329, 342, 351, 357, 370, 381, 390, 397, 401, 408, 456, 456], [13755, 13836, 13857, 13883, 13910, 13959, 13973, 13995, 14018, 14038, 14059, 14076, 14094, 14119, 14169, 14199, 14220, 14234, 14273, 14295, 14303, 14322, 14328, 14341, 14363, 14395, 14430, 14459, 14475, 14847, 14856]], [[777, 783, 785, 791, 797, 804, 963, 968, 973, 973], [497, 500, 507, 511, 513, 517, 546, 547, 547, 548], [15817, 15941, 15998, 16062, 16124, 16132, 16473, 16484, 16514, 16680]], [[1563, 1578, 1599, 1639, 1673, 1685, 1690, 1696, 1696], [332, 324, 315, 299, 283, 280, 278, 276, 276], [17782, 17788, 17799, 17812, 17833, 17838, 17844, 17864, 18217]], [[1644, 1761, 1772, 1776, 1776], [471, 507, 518, 528, 528], [18228, 18236, 18257, 18280, 18301]], [[1685, 1716, 1732, 1744, 1751, 1753], [645, 655, 661, 667, 674, 675], [18523, 18540, 18557, 18574, 18597, 18639]]]'"
      ]
     },
     "metadata": {},
     "execution_count": 12
    }
   ],
   "metadata": {}
  },
  {
   "cell_type": "code",
   "execution_count": 16,
   "source": [
    "tr_simp_panda = pd.read_csv('../input/kaggle/train_simplified/ant.csv')\n",
    "tr_simp_panda.head()"
   ],
   "outputs": [
    {
     "output_type": "execute_result",
     "data": {
      "text/plain": [
       "  countrycode                                            drawing  \\\n",
       "0          US  [[[27, 17, 16, 21, 34, 50, 49, 34, 23, 17], [4...   \n",
       "1          US  [[[27, 0, 7, 40, 47, 20], [0, 41, 74, 73, 41, ...   \n",
       "2          US  [[[34, 18, 14, 4, 1, 2, 10, 18, 46, 69, 83, 89...   \n",
       "3          US  [[[59, 33, 16, 10, 61, 71, 69], [33, 36, 46, 5...   \n",
       "4          US  [[[17, 16, 19], [140, 167, 177]], [[81, 82, 87...   \n",
       "\n",
       "             key_id  recognized                   timestamp word  \n",
       "0  5421013154136064        True  2017-03-27 00:14:57.310330  ant  \n",
       "1  4836123148812288        True  2017-03-06 20:00:22.521560  ant  \n",
       "2  5720952853757952        True  2017-01-23 19:53:28.354530  ant  \n",
       "3  6345979559149568        True  2017-03-14 14:52:27.521410  ant  \n",
       "4  4704383923126272        True  2017-01-25 21:48:31.256400  ant  "
      ],
      "text/html": [
       "<div>\n",
       "<style scoped>\n",
       "    .dataframe tbody tr th:only-of-type {\n",
       "        vertical-align: middle;\n",
       "    }\n",
       "\n",
       "    .dataframe tbody tr th {\n",
       "        vertical-align: top;\n",
       "    }\n",
       "\n",
       "    .dataframe thead th {\n",
       "        text-align: right;\n",
       "    }\n",
       "</style>\n",
       "<table border=\"1\" class=\"dataframe\">\n",
       "  <thead>\n",
       "    <tr style=\"text-align: right;\">\n",
       "      <th></th>\n",
       "      <th>countrycode</th>\n",
       "      <th>drawing</th>\n",
       "      <th>key_id</th>\n",
       "      <th>recognized</th>\n",
       "      <th>timestamp</th>\n",
       "      <th>word</th>\n",
       "    </tr>\n",
       "  </thead>\n",
       "  <tbody>\n",
       "    <tr>\n",
       "      <th>0</th>\n",
       "      <td>US</td>\n",
       "      <td>[[[27, 17, 16, 21, 34, 50, 49, 34, 23, 17], [4...</td>\n",
       "      <td>5421013154136064</td>\n",
       "      <td>True</td>\n",
       "      <td>2017-03-27 00:14:57.310330</td>\n",
       "      <td>ant</td>\n",
       "    </tr>\n",
       "    <tr>\n",
       "      <th>1</th>\n",
       "      <td>US</td>\n",
       "      <td>[[[27, 0, 7, 40, 47, 20], [0, 41, 74, 73, 41, ...</td>\n",
       "      <td>4836123148812288</td>\n",
       "      <td>True</td>\n",
       "      <td>2017-03-06 20:00:22.521560</td>\n",
       "      <td>ant</td>\n",
       "    </tr>\n",
       "    <tr>\n",
       "      <th>2</th>\n",
       "      <td>US</td>\n",
       "      <td>[[[34, 18, 14, 4, 1, 2, 10, 18, 46, 69, 83, 89...</td>\n",
       "      <td>5720952853757952</td>\n",
       "      <td>True</td>\n",
       "      <td>2017-01-23 19:53:28.354530</td>\n",
       "      <td>ant</td>\n",
       "    </tr>\n",
       "    <tr>\n",
       "      <th>3</th>\n",
       "      <td>US</td>\n",
       "      <td>[[[59, 33, 16, 10, 61, 71, 69], [33, 36, 46, 5...</td>\n",
       "      <td>6345979559149568</td>\n",
       "      <td>True</td>\n",
       "      <td>2017-03-14 14:52:27.521410</td>\n",
       "      <td>ant</td>\n",
       "    </tr>\n",
       "    <tr>\n",
       "      <th>4</th>\n",
       "      <td>US</td>\n",
       "      <td>[[[17, 16, 19], [140, 167, 177]], [[81, 82, 87...</td>\n",
       "      <td>4704383923126272</td>\n",
       "      <td>True</td>\n",
       "      <td>2017-01-25 21:48:31.256400</td>\n",
       "      <td>ant</td>\n",
       "    </tr>\n",
       "  </tbody>\n",
       "</table>\n",
       "</div>"
      ]
     },
     "metadata": {},
     "execution_count": 16
    }
   ],
   "metadata": {}
  },
  {
   "cell_type": "code",
   "execution_count": 17,
   "source": [
    "tr_simp_turtle = pd.read_csv('../input/kaggle/train_simplified/sea turtle.csv')\n",
    "tr_simp_turtle.head()"
   ],
   "outputs": [
    {
     "output_type": "execute_result",
     "data": {
      "text/plain": [
       "  countrycode                                            drawing  \\\n",
       "0          BR  [[[165, 123, 107, 87, 78, 74, 75, 91, 115, 155...   \n",
       "1          US  [[[91, 110, 130, 147, 184, 203, 228, 249, 246,...   \n",
       "2          PH  [[[32, 31, 35, 56, 117, 175, 182, 194, 196, 18...   \n",
       "3          AU  [[[176, 171, 154, 128, 106, 67, 51, 26, 21, 20...   \n",
       "4          CA  [[[101, 93, 68, 44, 37, 32, 33, 44, 82, 139, 1...   \n",
       "\n",
       "             key_id  recognized                   timestamp        word  \n",
       "0  6355133241753600        True  2017-03-22 22:54:54.811920  sea turtle  \n",
       "1  5752895599280128        True  2017-01-26 20:39:26.894950  sea turtle  \n",
       "2  5370008991432704        True  2017-03-10 09:35:48.968480  sea turtle  \n",
       "3  6135351108173824        True  2017-03-29 12:49:48.229370  sea turtle  \n",
       "4  5027717747572736        True  2017-03-07 11:57:37.051620  sea turtle  "
      ],
      "text/html": [
       "<div>\n",
       "<style scoped>\n",
       "    .dataframe tbody tr th:only-of-type {\n",
       "        vertical-align: middle;\n",
       "    }\n",
       "\n",
       "    .dataframe tbody tr th {\n",
       "        vertical-align: top;\n",
       "    }\n",
       "\n",
       "    .dataframe thead th {\n",
       "        text-align: right;\n",
       "    }\n",
       "</style>\n",
       "<table border=\"1\" class=\"dataframe\">\n",
       "  <thead>\n",
       "    <tr style=\"text-align: right;\">\n",
       "      <th></th>\n",
       "      <th>countrycode</th>\n",
       "      <th>drawing</th>\n",
       "      <th>key_id</th>\n",
       "      <th>recognized</th>\n",
       "      <th>timestamp</th>\n",
       "      <th>word</th>\n",
       "    </tr>\n",
       "  </thead>\n",
       "  <tbody>\n",
       "    <tr>\n",
       "      <th>0</th>\n",
       "      <td>BR</td>\n",
       "      <td>[[[165, 123, 107, 87, 78, 74, 75, 91, 115, 155...</td>\n",
       "      <td>6355133241753600</td>\n",
       "      <td>True</td>\n",
       "      <td>2017-03-22 22:54:54.811920</td>\n",
       "      <td>sea turtle</td>\n",
       "    </tr>\n",
       "    <tr>\n",
       "      <th>1</th>\n",
       "      <td>US</td>\n",
       "      <td>[[[91, 110, 130, 147, 184, 203, 228, 249, 246,...</td>\n",
       "      <td>5752895599280128</td>\n",
       "      <td>True</td>\n",
       "      <td>2017-01-26 20:39:26.894950</td>\n",
       "      <td>sea turtle</td>\n",
       "    </tr>\n",
       "    <tr>\n",
       "      <th>2</th>\n",
       "      <td>PH</td>\n",
       "      <td>[[[32, 31, 35, 56, 117, 175, 182, 194, 196, 18...</td>\n",
       "      <td>5370008991432704</td>\n",
       "      <td>True</td>\n",
       "      <td>2017-03-10 09:35:48.968480</td>\n",
       "      <td>sea turtle</td>\n",
       "    </tr>\n",
       "    <tr>\n",
       "      <th>3</th>\n",
       "      <td>AU</td>\n",
       "      <td>[[[176, 171, 154, 128, 106, 67, 51, 26, 21, 20...</td>\n",
       "      <td>6135351108173824</td>\n",
       "      <td>True</td>\n",
       "      <td>2017-03-29 12:49:48.229370</td>\n",
       "      <td>sea turtle</td>\n",
       "    </tr>\n",
       "    <tr>\n",
       "      <th>4</th>\n",
       "      <td>CA</td>\n",
       "      <td>[[[101, 93, 68, 44, 37, 32, 33, 44, 82, 139, 1...</td>\n",
       "      <td>5027717747572736</td>\n",
       "      <td>True</td>\n",
       "      <td>2017-03-07 11:57:37.051620</td>\n",
       "      <td>sea turtle</td>\n",
       "    </tr>\n",
       "  </tbody>\n",
       "</table>\n",
       "</div>"
      ]
     },
     "metadata": {},
     "execution_count": 17
    }
   ],
   "metadata": {}
  },
  {
   "cell_type": "code",
   "execution_count": 18,
   "source": [
    "tr_simp_turtle['word'] = tr_simp_turtle['word'].replace(' ', '_', regex=True)\n",
    "tr_simp_turtle.head()"
   ],
   "outputs": [
    {
     "output_type": "execute_result",
     "data": {
      "text/plain": [
       "  countrycode                                            drawing  \\\n",
       "0          BR  [[[165, 123, 107, 87, 78, 74, 75, 91, 115, 155...   \n",
       "1          US  [[[91, 110, 130, 147, 184, 203, 228, 249, 246,...   \n",
       "2          PH  [[[32, 31, 35, 56, 117, 175, 182, 194, 196, 18...   \n",
       "3          AU  [[[176, 171, 154, 128, 106, 67, 51, 26, 21, 20...   \n",
       "4          CA  [[[101, 93, 68, 44, 37, 32, 33, 44, 82, 139, 1...   \n",
       "\n",
       "             key_id  recognized                   timestamp        word  \n",
       "0  6355133241753600        True  2017-03-22 22:54:54.811920  sea_turtle  \n",
       "1  5752895599280128        True  2017-01-26 20:39:26.894950  sea_turtle  \n",
       "2  5370008991432704        True  2017-03-10 09:35:48.968480  sea_turtle  \n",
       "3  6135351108173824        True  2017-03-29 12:49:48.229370  sea_turtle  \n",
       "4  5027717747572736        True  2017-03-07 11:57:37.051620  sea_turtle  "
      ],
      "text/html": [
       "<div>\n",
       "<style scoped>\n",
       "    .dataframe tbody tr th:only-of-type {\n",
       "        vertical-align: middle;\n",
       "    }\n",
       "\n",
       "    .dataframe tbody tr th {\n",
       "        vertical-align: top;\n",
       "    }\n",
       "\n",
       "    .dataframe thead th {\n",
       "        text-align: right;\n",
       "    }\n",
       "</style>\n",
       "<table border=\"1\" class=\"dataframe\">\n",
       "  <thead>\n",
       "    <tr style=\"text-align: right;\">\n",
       "      <th></th>\n",
       "      <th>countrycode</th>\n",
       "      <th>drawing</th>\n",
       "      <th>key_id</th>\n",
       "      <th>recognized</th>\n",
       "      <th>timestamp</th>\n",
       "      <th>word</th>\n",
       "    </tr>\n",
       "  </thead>\n",
       "  <tbody>\n",
       "    <tr>\n",
       "      <th>0</th>\n",
       "      <td>BR</td>\n",
       "      <td>[[[165, 123, 107, 87, 78, 74, 75, 91, 115, 155...</td>\n",
       "      <td>6355133241753600</td>\n",
       "      <td>True</td>\n",
       "      <td>2017-03-22 22:54:54.811920</td>\n",
       "      <td>sea_turtle</td>\n",
       "    </tr>\n",
       "    <tr>\n",
       "      <th>1</th>\n",
       "      <td>US</td>\n",
       "      <td>[[[91, 110, 130, 147, 184, 203, 228, 249, 246,...</td>\n",
       "      <td>5752895599280128</td>\n",
       "      <td>True</td>\n",
       "      <td>2017-01-26 20:39:26.894950</td>\n",
       "      <td>sea_turtle</td>\n",
       "    </tr>\n",
       "    <tr>\n",
       "      <th>2</th>\n",
       "      <td>PH</td>\n",
       "      <td>[[[32, 31, 35, 56, 117, 175, 182, 194, 196, 18...</td>\n",
       "      <td>5370008991432704</td>\n",
       "      <td>True</td>\n",
       "      <td>2017-03-10 09:35:48.968480</td>\n",
       "      <td>sea_turtle</td>\n",
       "    </tr>\n",
       "    <tr>\n",
       "      <th>3</th>\n",
       "      <td>AU</td>\n",
       "      <td>[[[176, 171, 154, 128, 106, 67, 51, 26, 21, 20...</td>\n",
       "      <td>6135351108173824</td>\n",
       "      <td>True</td>\n",
       "      <td>2017-03-29 12:49:48.229370</td>\n",
       "      <td>sea_turtle</td>\n",
       "    </tr>\n",
       "    <tr>\n",
       "      <th>4</th>\n",
       "      <td>CA</td>\n",
       "      <td>[[[101, 93, 68, 44, 37, 32, 33, 44, 82, 139, 1...</td>\n",
       "      <td>5027717747572736</td>\n",
       "      <td>True</td>\n",
       "      <td>2017-03-07 11:57:37.051620</td>\n",
       "      <td>sea_turtle</td>\n",
       "    </tr>\n",
       "  </tbody>\n",
       "</table>\n",
       "</div>"
      ]
     },
     "metadata": {},
     "execution_count": 18
    }
   ],
   "metadata": {}
  },
  {
   "cell_type": "code",
   "execution_count": 19,
   "source": [
    "tr_simp_turtle.drawing[0]"
   ],
   "outputs": [
    {
     "output_type": "execute_result",
     "data": {
      "text/plain": [
       "'[[[165, 123, 107, 87, 78, 74, 75, 91, 115, 155, 203, 215, 238, 241, 231, 207, 154, 117], [4, 3, 8, 26, 46, 66, 81, 95, 104, 108, 108, 104, 76, 40, 24, 12, 0, 3]], [[81, 23, 18, 7, 0, 13, 36, 63, 72], [55, 52, 53, 64, 87, 93, 92, 81, 71]], [[91, 73, 69, 75, 84, 105], [89, 104, 119, 121, 120, 90]], [[189, 205, 229, 236, 237, 228, 212], [101, 114, 123, 116, 108, 103, 102]], [[241, 255], [52, 45]]]'"
      ]
     },
     "metadata": {},
     "execution_count": 19
    }
   ],
   "metadata": {}
  },
  {
   "cell_type": "code",
   "execution_count": 20,
   "source": [
    "len(tr_simp_turtle.drawing[0])"
   ],
   "outputs": [
    {
     "output_type": "execute_result",
     "data": {
      "text/plain": [
       "397"
      ]
     },
     "metadata": {},
     "execution_count": 20
    }
   ],
   "metadata": {}
  },
  {
   "cell_type": "code",
   "execution_count": 22,
   "source": [
    "df = pd.read_csv('../input/kaggle/sample_submission.csv')\n",
    "df.head()"
   ],
   "outputs": [
    {
     "output_type": "execute_result",
     "data": {
      "text/plain": [
       "             key_id                             word\n",
       "0  9000003627287624  The_Eiffel_Tower airplane donut\n",
       "1  9000010688666847  The_Eiffel_Tower airplane donut\n",
       "2  9000023642890129  The_Eiffel_Tower airplane donut\n",
       "3  9000038588854897  The_Eiffel_Tower airplane donut\n",
       "4  9000052667981386  The_Eiffel_Tower airplane donut"
      ],
      "text/html": [
       "<div>\n",
       "<style scoped>\n",
       "    .dataframe tbody tr th:only-of-type {\n",
       "        vertical-align: middle;\n",
       "    }\n",
       "\n",
       "    .dataframe tbody tr th {\n",
       "        vertical-align: top;\n",
       "    }\n",
       "\n",
       "    .dataframe thead th {\n",
       "        text-align: right;\n",
       "    }\n",
       "</style>\n",
       "<table border=\"1\" class=\"dataframe\">\n",
       "  <thead>\n",
       "    <tr style=\"text-align: right;\">\n",
       "      <th></th>\n",
       "      <th>key_id</th>\n",
       "      <th>word</th>\n",
       "    </tr>\n",
       "  </thead>\n",
       "  <tbody>\n",
       "    <tr>\n",
       "      <th>0</th>\n",
       "      <td>9000003627287624</td>\n",
       "      <td>The_Eiffel_Tower airplane donut</td>\n",
       "    </tr>\n",
       "    <tr>\n",
       "      <th>1</th>\n",
       "      <td>9000010688666847</td>\n",
       "      <td>The_Eiffel_Tower airplane donut</td>\n",
       "    </tr>\n",
       "    <tr>\n",
       "      <th>2</th>\n",
       "      <td>9000023642890129</td>\n",
       "      <td>The_Eiffel_Tower airplane donut</td>\n",
       "    </tr>\n",
       "    <tr>\n",
       "      <th>3</th>\n",
       "      <td>9000038588854897</td>\n",
       "      <td>The_Eiffel_Tower airplane donut</td>\n",
       "    </tr>\n",
       "    <tr>\n",
       "      <th>4</th>\n",
       "      <td>9000052667981386</td>\n",
       "      <td>The_Eiffel_Tower airplane donut</td>\n",
       "    </tr>\n",
       "  </tbody>\n",
       "</table>\n",
       "</div>"
      ]
     },
     "metadata": {},
     "execution_count": 22
    }
   ],
   "metadata": {}
  },
  {
   "cell_type": "code",
   "execution_count": 23,
   "source": [
    "df.shape"
   ],
   "outputs": [
    {
     "output_type": "execute_result",
     "data": {
      "text/plain": [
       "(112199, 2)"
      ]
     },
     "metadata": {},
     "execution_count": 23
    }
   ],
   "metadata": {}
  },
  {
   "cell_type": "code",
   "execution_count": 24,
   "source": [
    "df2 = pd.read_csv('../input/kaggle/test_raw.csv')\n",
    "df2.head()"
   ],
   "outputs": [
    {
     "output_type": "execute_result",
     "data": {
      "text/plain": [
       "             key_id countrycode  \\\n",
       "0  9000003627287624          DE   \n",
       "1  9000010688666847          UA   \n",
       "2  9000023642890129          BG   \n",
       "3  9000038588854897          US   \n",
       "4  9000052667981386          AR   \n",
       "\n",
       "                                             drawing  \n",
       "0  [[[537.8900146484375, 538.9500122070312, 538.9...  \n",
       "1  [[[883, 878, 873, 868, 862, 857, 852, 846, 840...  \n",
       "2  [[[225, 228, 229, 232, 232, 233, 235, 235, 238...  \n",
       "3  [[[453, 458, 465, 467, 471, 474, 477, 479, 483...  \n",
       "4  [[[793, 788, 783, 778, 772, 768, 765, 761, 759...  "
      ],
      "text/html": [
       "<div>\n",
       "<style scoped>\n",
       "    .dataframe tbody tr th:only-of-type {\n",
       "        vertical-align: middle;\n",
       "    }\n",
       "\n",
       "    .dataframe tbody tr th {\n",
       "        vertical-align: top;\n",
       "    }\n",
       "\n",
       "    .dataframe thead th {\n",
       "        text-align: right;\n",
       "    }\n",
       "</style>\n",
       "<table border=\"1\" class=\"dataframe\">\n",
       "  <thead>\n",
       "    <tr style=\"text-align: right;\">\n",
       "      <th></th>\n",
       "      <th>key_id</th>\n",
       "      <th>countrycode</th>\n",
       "      <th>drawing</th>\n",
       "    </tr>\n",
       "  </thead>\n",
       "  <tbody>\n",
       "    <tr>\n",
       "      <th>0</th>\n",
       "      <td>9000003627287624</td>\n",
       "      <td>DE</td>\n",
       "      <td>[[[537.8900146484375, 538.9500122070312, 538.9...</td>\n",
       "    </tr>\n",
       "    <tr>\n",
       "      <th>1</th>\n",
       "      <td>9000010688666847</td>\n",
       "      <td>UA</td>\n",
       "      <td>[[[883, 878, 873, 868, 862, 857, 852, 846, 840...</td>\n",
       "    </tr>\n",
       "    <tr>\n",
       "      <th>2</th>\n",
       "      <td>9000023642890129</td>\n",
       "      <td>BG</td>\n",
       "      <td>[[[225, 228, 229, 232, 232, 233, 235, 235, 238...</td>\n",
       "    </tr>\n",
       "    <tr>\n",
       "      <th>3</th>\n",
       "      <td>9000038588854897</td>\n",
       "      <td>US</td>\n",
       "      <td>[[[453, 458, 465, 467, 471, 474, 477, 479, 483...</td>\n",
       "    </tr>\n",
       "    <tr>\n",
       "      <th>4</th>\n",
       "      <td>9000052667981386</td>\n",
       "      <td>AR</td>\n",
       "      <td>[[[793, 788, 783, 778, 772, 768, 765, 761, 759...</td>\n",
       "    </tr>\n",
       "  </tbody>\n",
       "</table>\n",
       "</div>"
      ]
     },
     "metadata": {},
     "execution_count": 24
    }
   ],
   "metadata": {}
  },
  {
   "cell_type": "code",
   "execution_count": 25,
   "source": [
    "df2.shape"
   ],
   "outputs": [
    {
     "output_type": "execute_result",
     "data": {
      "text/plain": [
       "(112199, 3)"
      ]
     },
     "metadata": {},
     "execution_count": 25
    }
   ],
   "metadata": {}
  },
  {
   "cell_type": "code",
   "execution_count": 26,
   "source": [
    "df3 = pd.read_csv('../input/kaggle/test_simplified.csv')\n",
    "df3.head()"
   ],
   "outputs": [
    {
     "output_type": "execute_result",
     "data": {
      "text/plain": [
       "             key_id countrycode  \\\n",
       "0  9000003627287624          DE   \n",
       "1  9000010688666847          UA   \n",
       "2  9000023642890129          BG   \n",
       "3  9000038588854897          US   \n",
       "4  9000052667981386          AR   \n",
       "\n",
       "                                             drawing  \n",
       "0  [[[17, 18, 20, 25, 137, 174, 242, 249, 251, 25...  \n",
       "1  [[[174, 145, 106, 38, 11, 4, 4, 15, 29, 78, 16...  \n",
       "2  [[[0, 12, 14, 17, 16, 24, 55, 57, 60, 79, 82, ...  \n",
       "3  [[[0, 9, 23, 40, 54, 60, 81, 105, 123, 167, 20...  \n",
       "4  [[[87, 82, 71, 63, 66, 92, 96, 95], [220, 218,...  "
      ],
      "text/html": [
       "<div>\n",
       "<style scoped>\n",
       "    .dataframe tbody tr th:only-of-type {\n",
       "        vertical-align: middle;\n",
       "    }\n",
       "\n",
       "    .dataframe tbody tr th {\n",
       "        vertical-align: top;\n",
       "    }\n",
       "\n",
       "    .dataframe thead th {\n",
       "        text-align: right;\n",
       "    }\n",
       "</style>\n",
       "<table border=\"1\" class=\"dataframe\">\n",
       "  <thead>\n",
       "    <tr style=\"text-align: right;\">\n",
       "      <th></th>\n",
       "      <th>key_id</th>\n",
       "      <th>countrycode</th>\n",
       "      <th>drawing</th>\n",
       "    </tr>\n",
       "  </thead>\n",
       "  <tbody>\n",
       "    <tr>\n",
       "      <th>0</th>\n",
       "      <td>9000003627287624</td>\n",
       "      <td>DE</td>\n",
       "      <td>[[[17, 18, 20, 25, 137, 174, 242, 249, 251, 25...</td>\n",
       "    </tr>\n",
       "    <tr>\n",
       "      <th>1</th>\n",
       "      <td>9000010688666847</td>\n",
       "      <td>UA</td>\n",
       "      <td>[[[174, 145, 106, 38, 11, 4, 4, 15, 29, 78, 16...</td>\n",
       "    </tr>\n",
       "    <tr>\n",
       "      <th>2</th>\n",
       "      <td>9000023642890129</td>\n",
       "      <td>BG</td>\n",
       "      <td>[[[0, 12, 14, 17, 16, 24, 55, 57, 60, 79, 82, ...</td>\n",
       "    </tr>\n",
       "    <tr>\n",
       "      <th>3</th>\n",
       "      <td>9000038588854897</td>\n",
       "      <td>US</td>\n",
       "      <td>[[[0, 9, 23, 40, 54, 60, 81, 105, 123, 167, 20...</td>\n",
       "    </tr>\n",
       "    <tr>\n",
       "      <th>4</th>\n",
       "      <td>9000052667981386</td>\n",
       "      <td>AR</td>\n",
       "      <td>[[[87, 82, 71, 63, 66, 92, 96, 95], [220, 218,...</td>\n",
       "    </tr>\n",
       "  </tbody>\n",
       "</table>\n",
       "</div>"
      ]
     },
     "metadata": {},
     "execution_count": 26
    }
   ],
   "metadata": {}
  },
  {
   "cell_type": "code",
   "execution_count": 27,
   "source": [
    "df3.shape"
   ],
   "outputs": [
    {
     "output_type": "execute_result",
     "data": {
      "text/plain": [
       "(112199, 3)"
      ]
     },
     "metadata": {},
     "execution_count": 27
    }
   ],
   "metadata": {}
  },
  {
   "cell_type": "code",
   "execution_count": 28,
   "source": [
    "df_total = pd.merge(df, df2, on='key_id')\n",
    "df_total.head()"
   ],
   "outputs": [
    {
     "output_type": "execute_result",
     "data": {
      "text/plain": [
       "             key_id                             word countrycode  \\\n",
       "0  9000003627287624  The_Eiffel_Tower airplane donut          DE   \n",
       "1  9000010688666847  The_Eiffel_Tower airplane donut          UA   \n",
       "2  9000023642890129  The_Eiffel_Tower airplane donut          BG   \n",
       "3  9000038588854897  The_Eiffel_Tower airplane donut          US   \n",
       "4  9000052667981386  The_Eiffel_Tower airplane donut          AR   \n",
       "\n",
       "                                             drawing  \n",
       "0  [[[537.8900146484375, 538.9500122070312, 538.9...  \n",
       "1  [[[883, 878, 873, 868, 862, 857, 852, 846, 840...  \n",
       "2  [[[225, 228, 229, 232, 232, 233, 235, 235, 238...  \n",
       "3  [[[453, 458, 465, 467, 471, 474, 477, 479, 483...  \n",
       "4  [[[793, 788, 783, 778, 772, 768, 765, 761, 759...  "
      ],
      "text/html": [
       "<div>\n",
       "<style scoped>\n",
       "    .dataframe tbody tr th:only-of-type {\n",
       "        vertical-align: middle;\n",
       "    }\n",
       "\n",
       "    .dataframe tbody tr th {\n",
       "        vertical-align: top;\n",
       "    }\n",
       "\n",
       "    .dataframe thead th {\n",
       "        text-align: right;\n",
       "    }\n",
       "</style>\n",
       "<table border=\"1\" class=\"dataframe\">\n",
       "  <thead>\n",
       "    <tr style=\"text-align: right;\">\n",
       "      <th></th>\n",
       "      <th>key_id</th>\n",
       "      <th>word</th>\n",
       "      <th>countrycode</th>\n",
       "      <th>drawing</th>\n",
       "    </tr>\n",
       "  </thead>\n",
       "  <tbody>\n",
       "    <tr>\n",
       "      <th>0</th>\n",
       "      <td>9000003627287624</td>\n",
       "      <td>The_Eiffel_Tower airplane donut</td>\n",
       "      <td>DE</td>\n",
       "      <td>[[[537.8900146484375, 538.9500122070312, 538.9...</td>\n",
       "    </tr>\n",
       "    <tr>\n",
       "      <th>1</th>\n",
       "      <td>9000010688666847</td>\n",
       "      <td>The_Eiffel_Tower airplane donut</td>\n",
       "      <td>UA</td>\n",
       "      <td>[[[883, 878, 873, 868, 862, 857, 852, 846, 840...</td>\n",
       "    </tr>\n",
       "    <tr>\n",
       "      <th>2</th>\n",
       "      <td>9000023642890129</td>\n",
       "      <td>The_Eiffel_Tower airplane donut</td>\n",
       "      <td>BG</td>\n",
       "      <td>[[[225, 228, 229, 232, 232, 233, 235, 235, 238...</td>\n",
       "    </tr>\n",
       "    <tr>\n",
       "      <th>3</th>\n",
       "      <td>9000038588854897</td>\n",
       "      <td>The_Eiffel_Tower airplane donut</td>\n",
       "      <td>US</td>\n",
       "      <td>[[[453, 458, 465, 467, 471, 474, 477, 479, 483...</td>\n",
       "    </tr>\n",
       "    <tr>\n",
       "      <th>4</th>\n",
       "      <td>9000052667981386</td>\n",
       "      <td>The_Eiffel_Tower airplane donut</td>\n",
       "      <td>AR</td>\n",
       "      <td>[[[793, 788, 783, 778, 772, 768, 765, 761, 759...</td>\n",
       "    </tr>\n",
       "  </tbody>\n",
       "</table>\n",
       "</div>"
      ]
     },
     "metadata": {},
     "execution_count": 28
    }
   ],
   "metadata": {}
  },
  {
   "cell_type": "code",
   "execution_count": 29,
   "source": [
    "len(df_total)"
   ],
   "outputs": [
    {
     "output_type": "execute_result",
     "data": {
      "text/plain": [
       "112199"
      ]
     },
     "metadata": {},
     "execution_count": 29
    }
   ],
   "metadata": {}
  },
  {
   "cell_type": "code",
   "execution_count": 30,
   "source": [
    "df_merge = pd.merge(df_total, df3, on=['key_id', 'countrycode'])\n",
    "df_merge.head()"
   ],
   "outputs": [
    {
     "output_type": "execute_result",
     "data": {
      "text/plain": [
       "             key_id                             word countrycode  \\\n",
       "0  9000003627287624  The_Eiffel_Tower airplane donut          DE   \n",
       "1  9000010688666847  The_Eiffel_Tower airplane donut          UA   \n",
       "2  9000023642890129  The_Eiffel_Tower airplane donut          BG   \n",
       "3  9000038588854897  The_Eiffel_Tower airplane donut          US   \n",
       "4  9000052667981386  The_Eiffel_Tower airplane donut          AR   \n",
       "\n",
       "                                           drawing_x  \\\n",
       "0  [[[537.8900146484375, 538.9500122070312, 538.9...   \n",
       "1  [[[883, 878, 873, 868, 862, 857, 852, 846, 840...   \n",
       "2  [[[225, 228, 229, 232, 232, 233, 235, 235, 238...   \n",
       "3  [[[453, 458, 465, 467, 471, 474, 477, 479, 483...   \n",
       "4  [[[793, 788, 783, 778, 772, 768, 765, 761, 759...   \n",
       "\n",
       "                                           drawing_y  \n",
       "0  [[[17, 18, 20, 25, 137, 174, 242, 249, 251, 25...  \n",
       "1  [[[174, 145, 106, 38, 11, 4, 4, 15, 29, 78, 16...  \n",
       "2  [[[0, 12, 14, 17, 16, 24, 55, 57, 60, 79, 82, ...  \n",
       "3  [[[0, 9, 23, 40, 54, 60, 81, 105, 123, 167, 20...  \n",
       "4  [[[87, 82, 71, 63, 66, 92, 96, 95], [220, 218,...  "
      ],
      "text/html": [
       "<div>\n",
       "<style scoped>\n",
       "    .dataframe tbody tr th:only-of-type {\n",
       "        vertical-align: middle;\n",
       "    }\n",
       "\n",
       "    .dataframe tbody tr th {\n",
       "        vertical-align: top;\n",
       "    }\n",
       "\n",
       "    .dataframe thead th {\n",
       "        text-align: right;\n",
       "    }\n",
       "</style>\n",
       "<table border=\"1\" class=\"dataframe\">\n",
       "  <thead>\n",
       "    <tr style=\"text-align: right;\">\n",
       "      <th></th>\n",
       "      <th>key_id</th>\n",
       "      <th>word</th>\n",
       "      <th>countrycode</th>\n",
       "      <th>drawing_x</th>\n",
       "      <th>drawing_y</th>\n",
       "    </tr>\n",
       "  </thead>\n",
       "  <tbody>\n",
       "    <tr>\n",
       "      <th>0</th>\n",
       "      <td>9000003627287624</td>\n",
       "      <td>The_Eiffel_Tower airplane donut</td>\n",
       "      <td>DE</td>\n",
       "      <td>[[[537.8900146484375, 538.9500122070312, 538.9...</td>\n",
       "      <td>[[[17, 18, 20, 25, 137, 174, 242, 249, 251, 25...</td>\n",
       "    </tr>\n",
       "    <tr>\n",
       "      <th>1</th>\n",
       "      <td>9000010688666847</td>\n",
       "      <td>The_Eiffel_Tower airplane donut</td>\n",
       "      <td>UA</td>\n",
       "      <td>[[[883, 878, 873, 868, 862, 857, 852, 846, 840...</td>\n",
       "      <td>[[[174, 145, 106, 38, 11, 4, 4, 15, 29, 78, 16...</td>\n",
       "    </tr>\n",
       "    <tr>\n",
       "      <th>2</th>\n",
       "      <td>9000023642890129</td>\n",
       "      <td>The_Eiffel_Tower airplane donut</td>\n",
       "      <td>BG</td>\n",
       "      <td>[[[225, 228, 229, 232, 232, 233, 235, 235, 238...</td>\n",
       "      <td>[[[0, 12, 14, 17, 16, 24, 55, 57, 60, 79, 82, ...</td>\n",
       "    </tr>\n",
       "    <tr>\n",
       "      <th>3</th>\n",
       "      <td>9000038588854897</td>\n",
       "      <td>The_Eiffel_Tower airplane donut</td>\n",
       "      <td>US</td>\n",
       "      <td>[[[453, 458, 465, 467, 471, 474, 477, 479, 483...</td>\n",
       "      <td>[[[0, 9, 23, 40, 54, 60, 81, 105, 123, 167, 20...</td>\n",
       "    </tr>\n",
       "    <tr>\n",
       "      <th>4</th>\n",
       "      <td>9000052667981386</td>\n",
       "      <td>The_Eiffel_Tower airplane donut</td>\n",
       "      <td>AR</td>\n",
       "      <td>[[[793, 788, 783, 778, 772, 768, 765, 761, 759...</td>\n",
       "      <td>[[[87, 82, 71, 63, 66, 92, 96, 95], [220, 218,...</td>\n",
       "    </tr>\n",
       "  </tbody>\n",
       "</table>\n",
       "</div>"
      ]
     },
     "metadata": {},
     "execution_count": 30
    }
   ],
   "metadata": {}
  },
  {
   "cell_type": "code",
   "execution_count": 31,
   "source": [
    "df_merge.columns = ['key_id', 'word', 'countrycode', 'drawing_raw', 'drawing_simplified']\n",
    "df_merge.head()"
   ],
   "outputs": [
    {
     "output_type": "execute_result",
     "data": {
      "text/plain": [
       "             key_id                             word countrycode  \\\n",
       "0  9000003627287624  The_Eiffel_Tower airplane donut          DE   \n",
       "1  9000010688666847  The_Eiffel_Tower airplane donut          UA   \n",
       "2  9000023642890129  The_Eiffel_Tower airplane donut          BG   \n",
       "3  9000038588854897  The_Eiffel_Tower airplane donut          US   \n",
       "4  9000052667981386  The_Eiffel_Tower airplane donut          AR   \n",
       "\n",
       "                                         drawing_raw  \\\n",
       "0  [[[537.8900146484375, 538.9500122070312, 538.9...   \n",
       "1  [[[883, 878, 873, 868, 862, 857, 852, 846, 840...   \n",
       "2  [[[225, 228, 229, 232, 232, 233, 235, 235, 238...   \n",
       "3  [[[453, 458, 465, 467, 471, 474, 477, 479, 483...   \n",
       "4  [[[793, 788, 783, 778, 772, 768, 765, 761, 759...   \n",
       "\n",
       "                                  drawing_simplified  \n",
       "0  [[[17, 18, 20, 25, 137, 174, 242, 249, 251, 25...  \n",
       "1  [[[174, 145, 106, 38, 11, 4, 4, 15, 29, 78, 16...  \n",
       "2  [[[0, 12, 14, 17, 16, 24, 55, 57, 60, 79, 82, ...  \n",
       "3  [[[0, 9, 23, 40, 54, 60, 81, 105, 123, 167, 20...  \n",
       "4  [[[87, 82, 71, 63, 66, 92, 96, 95], [220, 218,...  "
      ],
      "text/html": [
       "<div>\n",
       "<style scoped>\n",
       "    .dataframe tbody tr th:only-of-type {\n",
       "        vertical-align: middle;\n",
       "    }\n",
       "\n",
       "    .dataframe tbody tr th {\n",
       "        vertical-align: top;\n",
       "    }\n",
       "\n",
       "    .dataframe thead th {\n",
       "        text-align: right;\n",
       "    }\n",
       "</style>\n",
       "<table border=\"1\" class=\"dataframe\">\n",
       "  <thead>\n",
       "    <tr style=\"text-align: right;\">\n",
       "      <th></th>\n",
       "      <th>key_id</th>\n",
       "      <th>word</th>\n",
       "      <th>countrycode</th>\n",
       "      <th>drawing_raw</th>\n",
       "      <th>drawing_simplified</th>\n",
       "    </tr>\n",
       "  </thead>\n",
       "  <tbody>\n",
       "    <tr>\n",
       "      <th>0</th>\n",
       "      <td>9000003627287624</td>\n",
       "      <td>The_Eiffel_Tower airplane donut</td>\n",
       "      <td>DE</td>\n",
       "      <td>[[[537.8900146484375, 538.9500122070312, 538.9...</td>\n",
       "      <td>[[[17, 18, 20, 25, 137, 174, 242, 249, 251, 25...</td>\n",
       "    </tr>\n",
       "    <tr>\n",
       "      <th>1</th>\n",
       "      <td>9000010688666847</td>\n",
       "      <td>The_Eiffel_Tower airplane donut</td>\n",
       "      <td>UA</td>\n",
       "      <td>[[[883, 878, 873, 868, 862, 857, 852, 846, 840...</td>\n",
       "      <td>[[[174, 145, 106, 38, 11, 4, 4, 15, 29, 78, 16...</td>\n",
       "    </tr>\n",
       "    <tr>\n",
       "      <th>2</th>\n",
       "      <td>9000023642890129</td>\n",
       "      <td>The_Eiffel_Tower airplane donut</td>\n",
       "      <td>BG</td>\n",
       "      <td>[[[225, 228, 229, 232, 232, 233, 235, 235, 238...</td>\n",
       "      <td>[[[0, 12, 14, 17, 16, 24, 55, 57, 60, 79, 82, ...</td>\n",
       "    </tr>\n",
       "    <tr>\n",
       "      <th>3</th>\n",
       "      <td>9000038588854897</td>\n",
       "      <td>The_Eiffel_Tower airplane donut</td>\n",
       "      <td>US</td>\n",
       "      <td>[[[453, 458, 465, 467, 471, 474, 477, 479, 483...</td>\n",
       "      <td>[[[0, 9, 23, 40, 54, 60, 81, 105, 123, 167, 20...</td>\n",
       "    </tr>\n",
       "    <tr>\n",
       "      <th>4</th>\n",
       "      <td>9000052667981386</td>\n",
       "      <td>The_Eiffel_Tower airplane donut</td>\n",
       "      <td>AR</td>\n",
       "      <td>[[[793, 788, 783, 778, 772, 768, 765, 761, 759...</td>\n",
       "      <td>[[[87, 82, 71, 63, 66, 92, 96, 95], [220, 218,...</td>\n",
       "    </tr>\n",
       "  </tbody>\n",
       "</table>\n",
       "</div>"
      ]
     },
     "metadata": {},
     "execution_count": 31
    }
   ],
   "metadata": {}
  },
  {
   "cell_type": "code",
   "execution_count": 37,
   "source": [
    "df_merge.to_csv('../data/df_merge.csv')"
   ],
   "outputs": [],
   "metadata": {}
  },
  {
   "cell_type": "code",
   "execution_count": 41,
   "source": [
    "test_raw = pd.read_csv('../input/kaggle/test_raw.csv', index_col='key_id')\n",
    "first_ten_ids = test_raw.iloc[:10].index\n",
    "raw_images = [ast.literal_eval(lst) for lst in test_raw.loc[first_ten_ids, 'drawing'].values]"
   ],
   "outputs": [],
   "metadata": {}
  },
  {
   "cell_type": "code",
   "execution_count": 42,
   "source": [
    "test_raw.head()"
   ],
   "outputs": [
    {
     "output_type": "execute_result",
     "data": {
      "text/plain": [
       "                 countrycode  \\\n",
       "key_id                         \n",
       "9000003627287624          DE   \n",
       "9000010688666847          UA   \n",
       "9000023642890129          BG   \n",
       "9000038588854897          US   \n",
       "9000052667981386          AR   \n",
       "\n",
       "                                                            drawing  \n",
       "key_id                                                               \n",
       "9000003627287624  [[[537.8900146484375, 538.9500122070312, 538.9...  \n",
       "9000010688666847  [[[883, 878, 873, 868, 862, 857, 852, 846, 840...  \n",
       "9000023642890129  [[[225, 228, 229, 232, 232, 233, 235, 235, 238...  \n",
       "9000038588854897  [[[453, 458, 465, 467, 471, 474, 477, 479, 483...  \n",
       "9000052667981386  [[[793, 788, 783, 778, 772, 768, 765, 761, 759...  "
      ],
      "text/html": [
       "<div>\n",
       "<style scoped>\n",
       "    .dataframe tbody tr th:only-of-type {\n",
       "        vertical-align: middle;\n",
       "    }\n",
       "\n",
       "    .dataframe tbody tr th {\n",
       "        vertical-align: top;\n",
       "    }\n",
       "\n",
       "    .dataframe thead th {\n",
       "        text-align: right;\n",
       "    }\n",
       "</style>\n",
       "<table border=\"1\" class=\"dataframe\">\n",
       "  <thead>\n",
       "    <tr style=\"text-align: right;\">\n",
       "      <th></th>\n",
       "      <th>countrycode</th>\n",
       "      <th>drawing</th>\n",
       "    </tr>\n",
       "    <tr>\n",
       "      <th>key_id</th>\n",
       "      <th></th>\n",
       "      <th></th>\n",
       "    </tr>\n",
       "  </thead>\n",
       "  <tbody>\n",
       "    <tr>\n",
       "      <th>9000003627287624</th>\n",
       "      <td>DE</td>\n",
       "      <td>[[[537.8900146484375, 538.9500122070312, 538.9...</td>\n",
       "    </tr>\n",
       "    <tr>\n",
       "      <th>9000010688666847</th>\n",
       "      <td>UA</td>\n",
       "      <td>[[[883, 878, 873, 868, 862, 857, 852, 846, 840...</td>\n",
       "    </tr>\n",
       "    <tr>\n",
       "      <th>9000023642890129</th>\n",
       "      <td>BG</td>\n",
       "      <td>[[[225, 228, 229, 232, 232, 233, 235, 235, 238...</td>\n",
       "    </tr>\n",
       "    <tr>\n",
       "      <th>9000038588854897</th>\n",
       "      <td>US</td>\n",
       "      <td>[[[453, 458, 465, 467, 471, 474, 477, 479, 483...</td>\n",
       "    </tr>\n",
       "    <tr>\n",
       "      <th>9000052667981386</th>\n",
       "      <td>AR</td>\n",
       "      <td>[[[793, 788, 783, 778, 772, 768, 765, 761, 759...</td>\n",
       "    </tr>\n",
       "  </tbody>\n",
       "</table>\n",
       "</div>"
      ]
     },
     "metadata": {},
     "execution_count": 42
    }
   ],
   "metadata": {}
  },
  {
   "cell_type": "code",
   "execution_count": 43,
   "source": [
    "def resample(x, y, spacing=1.0):\n",
    "    output = []\n",
    "    n = len(x)\n",
    "    px = x[0]\n",
    "    py = y[0]\n",
    "    cumlen = 0\n",
    "    pcumlen = 0\n",
    "    offset = 0\n",
    "    for i in range(1, n):\n",
    "        cx = x[i]\n",
    "        cy = y[i]\n",
    "        dx = cx - px\n",
    "        dy = cy - py\n",
    "        curlen = math.sqrt(dx*dx + dy*dy)\n",
    "        cumlen += curlen\n",
    "        while offset < cumlen:\n",
    "            t = (offset - pcumlen) / curlen\n",
    "            invt = 1 - t\n",
    "            tx = px * invt + cx * t\n",
    "            ty = py * invt + cy * t\n",
    "            output.append((tx, ty))\n",
    "            offset += spacing\n",
    "        pcumlen = cumlen\n",
    "        px = cx\n",
    "        py = cy\n",
    "    output.append((x[-1], y[-1]))\n",
    "    return output\n",
    "  \n",
    "def normalize_resample_simplify(strokes, epsilon=1.0, resample_spacing=1.0):\n",
    "    if len(strokes) == 0:\n",
    "        raise ValueError('empty image')\n",
    "\n",
    "    # find min and max\n",
    "    amin = None\n",
    "    amax = None\n",
    "    for x, y, _ in strokes:\n",
    "        cur_min = [np.min(x), np.min(y)]\n",
    "        cur_max = [np.max(x), np.max(y)]\n",
    "        amin = cur_min if amin is None else np.min([amin, cur_min], axis=0)\n",
    "        amax = cur_max if amax is None else np.max([amax, cur_max], axis=0)\n",
    "\n",
    "    # drop any drawings that are linear along one axis\n",
    "    arange = np.array(amax) - np.array(amin)\n",
    "    if np.min(arange) == 0:\n",
    "        raise ValueError('bad range of values')\n",
    "\n",
    "    arange = np.max(arange)\n",
    "    output = []\n",
    "    for x, y, _ in strokes:\n",
    "        xy = np.array([x, y], dtype=float).T\n",
    "        xy -= amin\n",
    "        xy *= 255.\n",
    "        xy /= arange\n",
    "        resampled = resample(xy[:, 0], xy[:, 1], resample_spacing)\n",
    "        simplified = simplify_coords(resampled, epsilon)\n",
    "        xy = np.around(simplified).astype(np.uint8)\n",
    "        output.append(xy.T.tolist())\n",
    "\n",
    "    return output"
   ],
   "outputs": [],
   "metadata": {}
  },
  {
   "cell_type": "code",
   "execution_count": 44,
   "source": [
    "simplified_drawings = []\n",
    "for drawing in raw_images:\n",
    "    simplified_drawing = normalize_resample_simplify(drawing)\n",
    "    simplified_drawings.append(simplified_drawing)"
   ],
   "outputs": [],
   "metadata": {}
  },
  {
   "cell_type": "code",
   "execution_count": 45,
   "source": [
    "for index, raw_drawing in enumerate(raw_images, 0):\n",
    "    \n",
    "    plt.figure(figsize=(6,3))\n",
    "    \n",
    "    for x,y,t in raw_drawing:\n",
    "        plt.subplot(1,2,1)\n",
    "        plt.plot(x, y, marker='.')\n",
    "        plt.axis('off')\n",
    "\n",
    "    plt.gca().invert_yaxis()\n",
    "    plt.axis('equal')\n",
    "\n",
    "    for x,y in simplified_drawings[index]:\n",
    "        plt.subplot(1,2,2)\n",
    "        plt.plot(x, y, marker='.')\n",
    "        plt.axis('off')\n",
    "\n",
    "    plt.gca().invert_yaxis()\n",
    "    plt.axis('equal')\n",
    "    plt.show()  "
   ],
   "outputs": [
    {
     "output_type": "display_data",
     "data": {
      "text/plain": [
       "<Figure size 432x216 with 2 Axes>"
      ],
      "image/png": "[encoded data removed]"
     },
     "metadata": {
      "image/png": {
       "width": 349,
       "height": 177
      }
     }
    },
    {
     "output_type": "display_data",
     "data": {
      "text/plain": [
       "<Figure size 432x216 with 2 Axes>"
      ],
      "image/png": "[encoded data removed]"
     },
     "metadata": {
      "image/png": {
       "width": 349,
       "height": 177
      }
     }
    },
    {
     "output_type": "display_data",
     "data": {
      "text/plain": [
       "<Figure size 432x216 with 2 Axes>"
      ],
      "image/png": "[encoded data removed]"
     },
     "metadata": {
      "image/png": {
       "width": 349,
       "height": 177
      }
     }
    },
    {
     "output_type": "display_data",
     "data": {
      "text/plain": [
       "<Figure size 432x216 with 2 Axes>"
      ],
      "image/png": "[encoded data removed]"
     },
     "metadata": {
      "image/png": {
       "width": 349,
       "height": 177
      }
     }
    },
    {
     "output_type": "display_data",
     "data": {
      "text/plain": [
       "<Figure size 432x216 with 2 Axes>"
      ],
      "image/png": "[encoded data removed]"
     },
     "metadata": {
      "image/png": {
       "width": 349,
       "height": 177
      }
     }
    },
    {
     "output_type": "display_data",
     "data": {
      "text/plain": [
       "<Figure size 432x216 with 2 Axes>"
      ],
      "image/png": "[encoded data removed]"
     },
     "metadata": {
      "image/png": {
       "width": 349,
       "height": 177
      }
     }
    },
    {
     "output_type": "display_data",
     "data": {
      "text/plain": [
       "<Figure size 432x216 with 2 Axes>"
      ],
      "image/png": "[encoded data removed]"
     },
     "metadata": {
      "image/png": {
       "width": 349,
       "height": 177
      }
     }
    },
    {
     "output_type": "display_data",
     "data": {
      "text/plain": [
       "<Figure size 432x216 with 2 Axes>"
      ],
      "image/png": "[encoded data removed]"
     },
     "metadata": {
      "image/png": {
       "width": 349,
       "height": 177
      }
     }
    },
    {
     "output_type": "display_data",
     "data": {
      "text/plain": [
       "<Figure size 432x216 with 2 Axes>"
      ],
      "image/png": "[encoded data removed]"
     },
     "metadata": {
      "image/png": {
       "width": 349,
       "height": 177
      }
     }
    },
    {
     "output_type": "display_data",
     "data": {
      "text/plain": [
       "<Figure size 432x216 with 2 Axes>"
      ],
      "image/png": "[encoded data removed]"
     },
     "metadata": {
      "image/png": {
       "width": 349,
       "height": 177
      }
     }
    }
   ],
   "metadata": {}
  },
  {
   "cell_type": "code",
   "execution_count": 46,
   "source": [
    "train_sample = pd.DataFrame()\n",
    "files_directory = os.listdir(\"../input/kaggle/train_simplified\")\n",
    "for file in files_directory:\n",
    "    train_sample = train_sample.append(pd.read_csv('../input/kaggle/train_simplified/' + file, index_col='key_id', nrows=10))\n",
    "# Shuffle data\n",
    "train_sample = shuffle(train_sample, random_state=123)\n",
    "\n",
    "train = pd.DataFrame()\n",
    "for file in files_directory[:185]:\n",
    "    train = train.append(pd.read_csv('../input/kaggle/train_simplified/' + file, index_col='key_id', usecols=[1, 2, 3, 5]))\n",
    "# Shuffle data\n",
    "train = shuffle(train, random_state=123)"
   ],
   "outputs": [],
   "metadata": {}
  },
  {
   "cell_type": "code",
   "execution_count": 1,
   "source": [
    "print('Train number of rows: ', train.shape[0])\n",
    "print('Train number of columns: ', train_sample.shape[1])\n",
    "print('Train set features: %s' % train_sample.columns.values)\n",
    "print('Train number of label categories: %s' % len(files_directory))"
   ],
   "outputs": [
    {
     "output_type": "error",
     "ename": "NameError",
     "evalue": "name 'train' is not defined",
     "traceback": [
      "\u001b[0;31m---------------------------------------------------------------------------\u001b[0m",
      "\u001b[0;31mNameError\u001b[0m                                 Traceback (most recent call last)",
      "\u001b[0;32m<ipython-input-1-2fea61165002>\u001b[0m in \u001b[0;36m<module>\u001b[0;34m\u001b[0m\n\u001b[0;32m----> 1\u001b[0;31m \u001b[0mprint\u001b[0m\u001b[0;34m(\u001b[0m\u001b[0;34m'Train number of rows: '\u001b[0m\u001b[0;34m,\u001b[0m \u001b[0mtrain\u001b[0m\u001b[0;34m.\u001b[0m\u001b[0mshape\u001b[0m\u001b[0;34m[\u001b[0m\u001b[0;36m0\u001b[0m\u001b[0;34m]\u001b[0m\u001b[0;34m)\u001b[0m\u001b[0;34m\u001b[0m\u001b[0;34m\u001b[0m\u001b[0m\n\u001b[0m\u001b[1;32m      2\u001b[0m \u001b[0mprint\u001b[0m\u001b[0;34m(\u001b[0m\u001b[0;34m'Train number of columns: '\u001b[0m\u001b[0;34m,\u001b[0m \u001b[0mtrain_sample\u001b[0m\u001b[0;34m.\u001b[0m\u001b[0mshape\u001b[0m\u001b[0;34m[\u001b[0m\u001b[0;36m1\u001b[0m\u001b[0;34m]\u001b[0m\u001b[0;34m)\u001b[0m\u001b[0;34m\u001b[0m\u001b[0;34m\u001b[0m\u001b[0m\n\u001b[1;32m      3\u001b[0m \u001b[0mprint\u001b[0m\u001b[0;34m(\u001b[0m\u001b[0;34m'Train set features: %s'\u001b[0m \u001b[0;34m%\u001b[0m \u001b[0mtrain_sample\u001b[0m\u001b[0;34m.\u001b[0m\u001b[0mcolumns\u001b[0m\u001b[0;34m.\u001b[0m\u001b[0mvalues\u001b[0m\u001b[0;34m)\u001b[0m\u001b[0;34m\u001b[0m\u001b[0;34m\u001b[0m\u001b[0m\n\u001b[1;32m      4\u001b[0m \u001b[0mprint\u001b[0m\u001b[0;34m(\u001b[0m\u001b[0;34m'Train number of label categories: %s'\u001b[0m \u001b[0;34m%\u001b[0m \u001b[0mlen\u001b[0m\u001b[0;34m(\u001b[0m\u001b[0mfiles_directory\u001b[0m\u001b[0;34m)\u001b[0m\u001b[0;34m)\u001b[0m\u001b[0;34m\u001b[0m\u001b[0;34m\u001b[0m\u001b[0m\n",
      "\u001b[0;31mNameError\u001b[0m: name 'train' is not defined"
     ]
    }
   ],
   "metadata": {}
  },
  {
   "cell_type": "code",
   "execution_count": null,
   "source": [
    "train_sample.head()\n"
   ],
   "outputs": [],
   "metadata": {}
  },
  {
   "cell_type": "code",
   "execution_count": null,
   "source": [
    "count_gp = train.groupby(['word']).size().reset_index(name='count').sort_values('count', ascending=False)\n",
    "top_10 = count_gp[:10]\n",
    "bottom_10 = count_gp[count_gp.shape[0]-10:count_gp.shape[0]]"
   ],
   "outputs": [],
   "metadata": {}
  },
  {
   "cell_type": "code",
   "execution_count": null,
   "source": [
    "ax_t10 = sns.barplot(x=\"word\", y=\"count\", data=top_10, palette=\"coolwarm\")\n",
    "ax_t10.set_xticklabels(ax_t10.get_xticklabels(), rotation=40, ha=\"right\")\n",
    "plt.show()"
   ],
   "outputs": [],
   "metadata": {}
  },
  {
   "cell_type": "code",
   "execution_count": null,
   "source": [
    "ax_b10 = sns.barplot(x=\"word\", y=\"count\", data=bottom_10, palette=\"BrBG\")\n",
    "ax_b10.set_xticklabels(ax_b10.get_xticklabels(), rotation=40, ha=\"right\")\n",
    "plt.tight_layout()\n",
    "plt.show()"
   ],
   "outputs": [],
   "metadata": {}
  },
  {
   "cell_type": "code",
   "execution_count": null,
   "source": [
    "count_gp\n"
   ],
   "outputs": [],
   "metadata": {}
  },
  {
   "cell_type": "code",
   "execution_count": null,
   "source": [
    "sns.countplot(x=\"recognized\", data=train)\n",
    "plt.show()\n"
   ],
   "outputs": [],
   "metadata": {}
  },
  {
   "cell_type": "code",
   "execution_count": null,
   "source": [
    "rec_gp = train.groupby(['word', 'recognized']).size().reset_index(name='count')\n",
    "rec_true = rec_gp[(rec_gp['recognized'] == True)].rename(index=str, columns={\"recognized\": \"recognized_true\", \"count\": \"count_true\"})\n",
    "rec_false = rec_gp[(rec_gp['recognized'] == False)].rename(index=str, columns={\"recognized\": \"recognized_false\", \"count\": \"count_false\"})\n",
    "rec_gp = rec_true.set_index('word').join(rec_false.set_index('word'), on='word')\n",
    "rec_gp"
   ],
   "outputs": [],
   "metadata": {}
  },
  {
   "cell_type": "code",
   "execution_count": null,
   "source": [
    "words = train['word'].tolist()\n",
    "drawings = [ast.literal_eval(pts) for pts in train[:9]['drawing'].values]\n",
    "\n",
    "plt.figure(figsize=(10, 10))\n",
    "for i, drawing in enumerate(drawings):\n",
    "    plt.subplot(330 + (i+1))\n",
    "    for x,y in drawing:\n",
    "        plt.plot(x, y, marker='.')\n",
    "        plt.tight_layout()\n",
    "        plt.title(words[i]);\n",
    "        plt.axis('off')"
   ],
   "outputs": [],
   "metadata": {}
  }
 ],
 "metadata": {
  "orig_nbformat": 4,
  "language_info": {
   "name": "python",
   "version": "3.7.10",
   "mimetype": "text/x-python",
   "codemirror_mode": {
    "name": "ipython",
    "version": 3
   },
   "pygments_lexer": "ipython3",
   "nbconvert_exporter": "python",
   "file_extension": ".py"
  },
  "kernelspec": {
   "name": "python3",
   "display_name": "Python 3.7.10 64-bit ('dl-env': conda)"
  },
  "interpreter": {
   "hash": "2aac1d2b359798efc30b59d804167ffd538e3092f84ffa86abb6645ab952d97e"
  }
 },
 "nbformat": 4,
 "nbformat_minor": 2
}