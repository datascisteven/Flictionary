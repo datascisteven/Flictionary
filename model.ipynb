{
  "nbformat": 4,
  "nbformat_minor": 2,
  "metadata": {
    "colab": {
      "name": "Copy of Copy of Sketcher.ipynb",
      "provenance": []
    },
    "kernelspec": {
      "name": "python3",
      "display_name": "Python 3.7.10 64-bit ('dl-env': conda)"
    },
    "accelerator": "GPU",
    "language_info": {
      "name": "python",
      "version": "3.7.10",
      "mimetype": "text/x-python",
      "codemirror_mode": {
        "name": "ipython",
        "version": 3
      },
      "pygments_lexer": "ipython3",
      "nbconvert_exporter": "python",
      "file_extension": ".py"
    },
    "interpreter": {
      "hash": "2aac1d2b359798efc30b59d804167ffd538e3092f84ffa86abb6645ab952d97e"
    }
  },
  "cells": [
    {
      "cell_type": "markdown",
      "source": [
        "# Importing Packages"
      ],
      "metadata": {
        "id": "uEdnbBVXAI-X"
      }
    },
    {
      "cell_type": "code",
      "execution_count": 4,
      "source": [
        "import os\n",
        "import glob\n",
        "import numpy as np\n",
        "from tensorflow.keras import layers\n",
        "from tensorflow import keras \n",
        "import tensorflow as tf\n",
        "import matplotlib.pyplot as plt\n",
        "from random import randint\n",
        "%matplotlib inline "
      ],
      "outputs": [],
      "metadata": {
        "id": "J2FYrPgOKh6t"
      }
    },
    {
      "cell_type": "markdown",
      "source": [
        "# Get the Class names "
      ],
      "metadata": {
        "id": "6H3ATAdp_URp"
      }
    },
    {
      "cell_type": "code",
      "execution_count": 5,
      "source": [
        "f = open(\"mini_classes.txt\",\"r\")\n",
        "# And for reading use\n",
        "classes = f.readlines()\n",
        "f.close()"
      ],
      "outputs": [],
      "metadata": {
        "id": "eP-OxOx5sy0b"
      }
    },
    {
      "cell_type": "code",
      "execution_count": 6,
      "source": [
        "classes = [c.replace('\\n','').replace(' ','_') for c in classes]\n",
        "classes"
      ],
      "outputs": [
        {
          "output_type": "execute_result",
          "data": {
            "text/plain": [
              "['ant',\n",
              " 'bat',\n",
              " 'bee',\n",
              " 'butterfly',\n",
              " 'camel',\n",
              " 'cat',\n",
              " 'cow',\n",
              " 'crab',\n",
              " 'crocodile',\n",
              " 'dog',\n",
              " 'dolphin',\n",
              " 'dragon',\n",
              " 'duck',\n",
              " 'elephant',\n",
              " 'fish',\n",
              " 'flamingo',\n",
              " 'frog',\n",
              " 'giraffe',\n",
              " 'hedgehog',\n",
              " 'horse',\n",
              " 'kangaroo',\n",
              " 'lion',\n",
              " 'lobster',\n",
              " 'monkey',\n",
              " 'mosquito',\n",
              " 'mouse',\n",
              " 'octopus',\n",
              " 'owl',\n",
              " 'panda',\n",
              " 'parrot',\n",
              " 'penguin',\n",
              " 'rabbit',\n",
              " 'raccoon',\n",
              " 'rhinoceros',\n",
              " 'scorpion',\n",
              " 'sea_turtle',\n",
              " 'shark',\n",
              " 'sheep',\n",
              " 'snail',\n",
              " 'snake',\n",
              " 'spider',\n",
              " 'squirrel',\n",
              " 'swan',\n",
              " 'tiger',\n",
              " 'whale',\n",
              " 'zebra']"
            ]
          },
          "metadata": {},
          "execution_count": 6
        }
      ],
      "metadata": {}
    },
    {
      "cell_type": "markdown",
      "source": [
        "# Load the Data "
      ],
      "metadata": {
        "id": "6o30ipBPAQ5Y"
      }
    },
    {
      "cell_type": "markdown",
      "source": [
        "Each class contains different number samples of arrays stored as .npy format. Since we have some memory limitations we only load 5000 images per class.  "
      ],
      "metadata": {
        "id": "UBq3GXEKAYuO"
      }
    },
    {
      "cell_type": "code",
      "execution_count": 7,
      "source": [
        "root = 'animals/numpy_bitmap'"
      ],
      "outputs": [],
      "metadata": {}
    },
    {
      "cell_type": "code",
      "execution_count": 8,
      "source": [
        "def load_data(root, vfold_ratio=0.2, max_items_per_class= 4000):\n",
        "    all_files = glob.glob(os.path.join(root, '*.npy'))\n",
        "\n",
        "    #initialize variables \n",
        "    x = np.empty([0, 784])\n",
        "    y = np.empty([0])\n",
        "    class_names = []\n",
        "\n",
        "    #load each data file \n",
        "    for idx, file in enumerate(all_files):\n",
        "        data = np.load(file)\n",
        "        data = data[0: max_items_per_class, :]\n",
        "        labels = np.full(data.shape[0], idx)\n",
        "\n",
        "        x = np.concatenate((x, data), axis=0)\n",
        "        y = np.append(y, labels)\n",
        "\n",
        "        class_name, ext = os.path.splitext(os.path.basename(file))\n",
        "        class_names.append(class_name)\n",
        "\n",
        "    data = None\n",
        "    labels = None\n",
        "    \n",
        "    #randomize the dataset \n",
        "    permutation = np.random.permutation(y.shape[0])\n",
        "    x = x[permutation, :]\n",
        "    y = y[permutation]\n",
        "\n",
        "    #separate into training and testing \n",
        "    vfold_size = int(x.shape[0]/100*(vfold_ratio*100))\n",
        "\n",
        "    X_test = x[0:vfold_size, :]\n",
        "    y_test = y[0:vfold_size]\n",
        "\n",
        "    X_train = x[vfold_size:x.shape[0], :]\n",
        "    y_train = y[vfold_size:y.shape[0]]\n",
        "    return X_train, y_train, X_test, y_test, class_names"
      ],
      "outputs": [],
      "metadata": {
        "id": "6HEIgQNHYQnl"
      }
    },
    {
      "cell_type": "code",
      "execution_count": 9,
      "source": [
        "X_train, y_train, X_test, y_test, class_names = load_data(root)\n",
        "num_classes = len(class_names)\n",
        "image_size = 28"
      ],
      "outputs": [],
      "metadata": {
        "id": "K6uUjN-WL2Y9"
      }
    },
    {
      "cell_type": "code",
      "execution_count": 10,
      "source": [
        "X_train"
      ],
      "outputs": [
        {
          "output_type": "execute_result",
          "data": {
            "text/plain": [
              "array([[0., 0., 0., ..., 0., 0., 0.],\n",
              "       [0., 0., 0., ..., 0., 0., 0.],\n",
              "       [0., 0., 0., ..., 0., 0., 0.],\n",
              "       ...,\n",
              "       [0., 0., 0., ..., 0., 0., 0.],\n",
              "       [0., 0., 0., ..., 0., 0., 0.],\n",
              "       [0., 0., 0., ..., 0., 0., 0.]])"
            ]
          },
          "metadata": {},
          "execution_count": 10
        }
      ],
      "metadata": {}
    },
    {
      "cell_type": "code",
      "execution_count": 19,
      "source": [
        "class_names"
      ],
      "outputs": [
        {
          "output_type": "execute_result",
          "data": {
            "text/plain": [
              "['penguin',\n",
              " 'mouse',\n",
              " 'squirrel',\n",
              " 'cat',\n",
              " 'frog',\n",
              " 'crab',\n",
              " 'giraffe',\n",
              " 'monkey',\n",
              " 'bat',\n",
              " 'scorpion',\n",
              " 'fish',\n",
              " 'snail',\n",
              " 'crocodile',\n",
              " 'hedgehog',\n",
              " 'snake',\n",
              " 'rabbit',\n",
              " 'whale',\n",
              " 'parrot',\n",
              " 'duck',\n",
              " 'dog',\n",
              " 'horse',\n",
              " 'rhinoceros',\n",
              " 'spider',\n",
              " 'lion',\n",
              " 'sea_turtle',\n",
              " 'dolphin',\n",
              " 'elephant',\n",
              " 'octopus',\n",
              " 'zebra',\n",
              " 'camel',\n",
              " 'swan',\n",
              " 'flamingo',\n",
              " 'lobster',\n",
              " 'bird',\n",
              " 'shark',\n",
              " 'cow',\n",
              " 'kangaroo',\n",
              " 'tiger',\n",
              " 'dragon',\n",
              " 'sheep',\n",
              " 'mosquito',\n",
              " 'ant',\n",
              " 'panda',\n",
              " 'raccoon',\n",
              " 'butterfly',\n",
              " 'bee',\n",
              " 'owl']"
            ]
          },
          "metadata": {},
          "execution_count": 19
        }
      ],
      "metadata": {}
    },
    {
      "cell_type": "code",
      "execution_count": 9,
      "source": [
        "print(len(X_train))"
      ],
      "outputs": [
        {
          "output_type": "stream",
          "name": "stdout",
          "text": [
            "150400\n"
          ]
        }
      ],
      "metadata": {
        "id": "VhGEDS0SMgLK",
        "colab": {
          "base_uri": "https://localhost:8080/",
          "height": 34
        },
        "outputId": "dee69abc-1ae5-4d32-be7e-74ab81a3d535"
      }
    },
    {
      "cell_type": "markdown",
      "source": [
        "Show some random data "
      ],
      "metadata": {
        "id": "rNZmQvBWBBHE"
      }
    },
    {
      "cell_type": "code",
      "execution_count": 14,
      "source": [
        "idx = randint(0, len(x_train))\n",
        "plt.imshow(x_train[idx].reshape(28,28)) \n",
        "print(class_names[int(y_train[idx].item())])"
      ],
      "outputs": [
        {
          "output_type": "stream",
          "name": "stdout",
          "text": [
            "cat\n"
          ]
        },
        {
          "output_type": "display_data",
          "data": {
            "text/plain": [
              "<Figure size 432x288 with 1 Axes>"
            ],
            "image/png": "[encoded data removed]"
          },
          "metadata": {
            "needs_background": "light"
          }
        }
      ],
      "metadata": {
        "id": "KfpDaHRkyMQC",
        "colab": {
          "base_uri": "https://localhost:8080/",
          "height": 282
        },
        "outputId": "0f070893-98d5-42fa-b77d-f0a1d57210f7"
      }
    },
    {
      "cell_type": "markdown",
      "source": [
        "# Preprocess the Data "
      ],
      "metadata": {
        "id": "n8InHz5NBFrV"
      }
    },
    {
      "cell_type": "code",
      "execution_count": 3,
      "source": [
        "# Reshape and normalize\n",
        "X_train = X_train.reshape(X_train.shape[0], image_size, image_size, 1).astype('float32')\n",
        "X_test = X_test.reshape(X_test.shape[0], image_size, image_size, 1).astype('float32')\n",
        "\n",
        "X_train /= 255.0\n",
        "X_test /= 255.0\n",
        "\n",
        "# Convert class vectors to class matrices\n",
        "y_train = keras.utils.to_categorical(y_train, num_classes)\n",
        "y_test = keras.utils.to_categorical(y_test, num_classes)"
      ],
      "outputs": [
        {
          "output_type": "error",
          "ename": "NameError",
          "evalue": "name 'X_train' is not defined",
          "traceback": [
            "\u001b[0;31m---------------------------------------------------------------------------\u001b[0m",
            "\u001b[0;31mNameError\u001b[0m                                 Traceback (most recent call last)",
            "\u001b[0;32m<ipython-input-3-437032a57d83>\u001b[0m in \u001b[0;36m<module>\u001b[0;34m\u001b[0m\n\u001b[1;32m      1\u001b[0m \u001b[0;31m# Reshape and normalize\u001b[0m\u001b[0;34m\u001b[0m\u001b[0;34m\u001b[0m\u001b[0;34m\u001b[0m\u001b[0m\n\u001b[0;32m----> 2\u001b[0;31m \u001b[0mX_train\u001b[0m \u001b[0;34m=\u001b[0m \u001b[0mX_train\u001b[0m\u001b[0;34m.\u001b[0m\u001b[0mreshape\u001b[0m\u001b[0;34m(\u001b[0m\u001b[0mX_train\u001b[0m\u001b[0;34m.\u001b[0m\u001b[0mshape\u001b[0m\u001b[0;34m[\u001b[0m\u001b[0;36m0\u001b[0m\u001b[0;34m]\u001b[0m\u001b[0;34m,\u001b[0m \u001b[0mimage_size\u001b[0m\u001b[0;34m,\u001b[0m \u001b[0mimage_size\u001b[0m\u001b[0;34m,\u001b[0m \u001b[0;36m1\u001b[0m\u001b[0;34m)\u001b[0m\u001b[0;34m.\u001b[0m\u001b[0mastype\u001b[0m\u001b[0;34m(\u001b[0m\u001b[0;34m'float32'\u001b[0m\u001b[0;34m)\u001b[0m\u001b[0;34m\u001b[0m\u001b[0;34m\u001b[0m\u001b[0m\n\u001b[0m\u001b[1;32m      3\u001b[0m \u001b[0mX_test\u001b[0m \u001b[0;34m=\u001b[0m \u001b[0mX_test\u001b[0m\u001b[0;34m.\u001b[0m\u001b[0mreshape\u001b[0m\u001b[0;34m(\u001b[0m\u001b[0mX_test\u001b[0m\u001b[0;34m.\u001b[0m\u001b[0mshape\u001b[0m\u001b[0;34m[\u001b[0m\u001b[0;36m0\u001b[0m\u001b[0;34m]\u001b[0m\u001b[0;34m,\u001b[0m \u001b[0mimage_size\u001b[0m\u001b[0;34m,\u001b[0m \u001b[0mimage_size\u001b[0m\u001b[0;34m,\u001b[0m \u001b[0;36m1\u001b[0m\u001b[0;34m)\u001b[0m\u001b[0;34m.\u001b[0m\u001b[0mastype\u001b[0m\u001b[0;34m(\u001b[0m\u001b[0;34m'float32'\u001b[0m\u001b[0;34m)\u001b[0m\u001b[0;34m\u001b[0m\u001b[0;34m\u001b[0m\u001b[0m\n\u001b[1;32m      4\u001b[0m \u001b[0;34m\u001b[0m\u001b[0m\n\u001b[1;32m      5\u001b[0m \u001b[0mX_train\u001b[0m \u001b[0;34m/=\u001b[0m \u001b[0;36m255.0\u001b[0m\u001b[0;34m\u001b[0m\u001b[0;34m\u001b[0m\u001b[0m\n",
            "\u001b[0;31mNameError\u001b[0m: name 'X_train' is not defined"
          ]
        }
      ],
      "metadata": {
        "id": "p2GHUq7D2r9e"
      }
    },
    {
      "cell_type": "markdown",
      "source": [
        "# The Model "
      ],
      "metadata": {
        "id": "rL6XAb4hBMSc"
      }
    },
    {
      "cell_type": "code",
      "execution_count": 16,
      "source": [
        "# Define model\n",
        "model = tf.keras.Sequential()\n",
        "model.add(layers.Convolution2D(16, (3, 3),\n",
        "                        padding='same',\n",
        "                        input_shape=x_train.shape[1:], activation='relu'))\n",
        "model.add(layers.MaxPooling2D(pool_size=(2, 2)))\n",
        "model.add(layers.Convolution2D(32, (3, 3), padding='same', activation= 'relu'))\n",
        "model.add(layers.MaxPooling2D(pool_size=(2, 2)))\n",
        "model.add(layers.Convolution2D(64, (3, 3), padding='same', activation= 'relu'))\n",
        "model.add(layers.MaxPooling2D(pool_size =(2,2)))\n",
        "model.add(layers.Flatten())\n",
        "model.add(layers.Dense(128, activation='relu'))\n",
        "model.add(layers.Dense(100, activation='softmax')) \n",
        "# Train model\n",
        "adam = tf.optimizers.Adam()\n",
        "model.compile(loss='categorical_crossentropy',\n",
        "              optimizer=adam,\n",
        "              metrics=['top_k_categorical_accuracy'])\n",
        "print(model.summary())"
      ],
      "outputs": [
        {
          "output_type": "stream",
          "name": "stdout",
          "text": [
            "Model: \"sequential\"\n",
            "_________________________________________________________________\n",
            "Layer (type)                 Output Shape              Param #   \n",
            "=================================================================\n",
            "conv2d (Conv2D)              (None, 28, 28, 16)        160       \n",
            "_________________________________________________________________\n",
            "max_pooling2d (MaxPooling2D) (None, 14, 14, 16)        0         \n",
            "_________________________________________________________________\n",
            "conv2d_1 (Conv2D)            (None, 14, 14, 32)        4640      \n",
            "_________________________________________________________________\n",
            "max_pooling2d_1 (MaxPooling2 (None, 7, 7, 32)          0         \n",
            "_________________________________________________________________\n",
            "conv2d_2 (Conv2D)            (None, 7, 7, 64)          18496     \n",
            "_________________________________________________________________\n",
            "max_pooling2d_2 (MaxPooling2 (None, 3, 3, 64)          0         \n",
            "_________________________________________________________________\n",
            "flatten (Flatten)            (None, 576)               0         \n",
            "_________________________________________________________________\n",
            "dense (Dense)                (None, 128)               73856     \n",
            "_________________________________________________________________\n",
            "dense_1 (Dense)              (None, 100)               12900     \n",
            "=================================================================\n",
            "Total params: 110,052\n",
            "Trainable params: 110,052\n",
            "Non-trainable params: 0\n",
            "_________________________________________________________________\n",
            "None\n"
          ]
        }
      ],
      "metadata": {
        "id": "uYUVV2wf2z8H",
        "colab": {
          "base_uri": "https://localhost:8080/",
          "height": 469
        },
        "outputId": "521cf96e-3039-411e-d14e-5aaca559b518"
      }
    },
    {
      "cell_type": "markdown",
      "source": [
        "# Training "
      ],
      "metadata": {
        "id": "_YRSRkOyBP1P"
      }
    },
    {
      "cell_type": "code",
      "execution_count": 2,
      "source": [
        "model.fit(X_train, y_train, validation_split=0.1, batch_size = 256, verbose=2, epochs=5)"
      ],
      "outputs": [
        {
          "output_type": "error",
          "ename": "NameError",
          "evalue": "name 'model' is not defined",
          "traceback": [
            "\u001b[0;31m---------------------------------------------------------------------------\u001b[0m",
            "\u001b[0;31mNameError\u001b[0m                                 Traceback (most recent call last)",
            "\u001b[0;32m<ipython-input-2-ea260a2728e0>\u001b[0m in \u001b[0;36m<module>\u001b[0;34m\u001b[0m\n\u001b[0;32m----> 1\u001b[0;31m \u001b[0mmodel\u001b[0m\u001b[0;34m.\u001b[0m\u001b[0mfit\u001b[0m\u001b[0;34m(\u001b[0m\u001b[0mX_train\u001b[0m\u001b[0;34m,\u001b[0m \u001b[0my_train\u001b[0m\u001b[0;34m,\u001b[0m \u001b[0mvalidation_split\u001b[0m\u001b[0;34m=\u001b[0m\u001b[0;36m0.1\u001b[0m\u001b[0;34m,\u001b[0m \u001b[0mbatch_size\u001b[0m \u001b[0;34m=\u001b[0m \u001b[0;36m256\u001b[0m\u001b[0;34m,\u001b[0m \u001b[0mverbose\u001b[0m\u001b[0;34m=\u001b[0m\u001b[0;36m2\u001b[0m\u001b[0;34m,\u001b[0m \u001b[0mepochs\u001b[0m\u001b[0;34m=\u001b[0m\u001b[0;36m5\u001b[0m\u001b[0;34m)\u001b[0m\u001b[0;34m\u001b[0m\u001b[0;34m\u001b[0m\u001b[0m\n\u001b[0m",
            "\u001b[0;31mNameError\u001b[0m: name 'model' is not defined"
          ]
        }
      ],
      "metadata": {
        "id": "7OMEJ7kF3lsP",
        "colab": {
          "base_uri": "https://localhost:8080/",
          "height": 225
        },
        "outputId": "4d9a46ad-2ed1-4b4f-c1ec-687997025034"
      }
    },
    {
      "cell_type": "markdown",
      "source": [
        "# Testing "
      ],
      "metadata": {
        "id": "d2KztY7qEn9_"
      }
    },
    {
      "cell_type": "code",
      "execution_count": 16,
      "source": [
        "score = model.evaluate(x_test, y_test, verbose=0)\n",
        "print('Test accuarcy: {:0.2f}%'.format(score[1] * 100))"
      ],
      "outputs": [
        {
          "output_type": "stream",
          "name": "stdout",
          "text": [
            "Test accuarcy: 92.28%\n"
          ]
        }
      ],
      "metadata": {
        "id": "ssaZczS7DxeA",
        "colab": {
          "base_uri": "https://localhost:8080/",
          "height": 34
        },
        "outputId": "63f7726d-205e-4cf7-9540-0c3d379e54e4"
      }
    },
    {
      "cell_type": "markdown",
      "source": [
        "# Inference "
      ],
      "metadata": {
        "id": "9xBM_w0VBbNr"
      }
    },
    {
      "cell_type": "code",
      "execution_count": 17,
      "source": [
        " \n",
        "idx = randint(0, len(x_test))\n",
        "img = x_test[idx]\n",
        "plt.imshow(img.squeeze()) \n",
        "pred = model.predict(np.expand_dims(img, axis=0))[0]\n",
        "ind = (-pred).argsort()[:5]\n",
        "latex = [class_names[x] for x in ind]\n",
        "print(latex)"
      ],
      "outputs": [
        {
          "output_type": "stream",
          "name": "stdout",
          "text": [
            "['book', 'drums', 'envelope', 'radio', 'bread']\n"
          ]
        },
        {
          "output_type": "display_data",
          "data": {
            "text/plain": [
              "<Figure size 432x288 with 1 Axes>"
            ],
            "image/png": "[encoded data removed]"
          },
          "metadata": {
            "needs_background": "light"
          }
        }
      ],
      "metadata": {
        "id": "nH3JfoiYHdpk",
        "colab": {
          "base_uri": "https://localhost:8080/",
          "height": 282
        },
        "outputId": "ca2ed216-7069-4caf-b72a-784a11da8553"
      }
    },
    {
      "cell_type": "markdown",
      "source": [
        "# Store the classes "
      ],
      "metadata": {
        "id": "YPp5D82YBhM-"
      }
    },
    {
      "cell_type": "code",
      "execution_count": 18,
      "source": [
        "with open('class_names.txt', 'w') as file_handler:\n",
        "    for item in class_names:\n",
        "        file_handler.write(\"{}\\n\".format(item))"
      ],
      "outputs": [],
      "metadata": {
        "id": "NoFI1msFYpCN"
      }
    },
    {
      "cell_type": "markdown",
      "source": [
        "# Save and Convert "
      ],
      "metadata": {
        "id": "-oBl0ZKVB00d"
      }
    },
    {
      "cell_type": "code",
      "execution_count": null,
      "source": [
        "model.save('keras.h5')"
      ],
      "outputs": [],
      "metadata": {
        "id": "XVICB3TbZGb2"
      }
    },
    {
      "cell_type": "code",
      "execution_count": null,
      "source": [
        "!mkdir model\n",
        "!tensorflowjs_converter --input_format keras keras.h5 model/"
      ],
      "outputs": [
        {
          "output_type": "stream",
          "name": "stdout",
          "text": [
            "mkdir: cannot create directory ‘model’: File exists\n",
            "/usr/local/lib/python3.6/dist-packages/h5py/__init__.py:36: FutureWarning: Conversion of the second argument of issubdtype from `float` to `np.floating` is deprecated. In future, it will be treated as `np.float64 == np.dtype(float).type`.\n",
            "  from ._conv import register_converters as _register_converters\n",
            "Using TensorFlow backend.\n"
          ]
        }
      ],
      "metadata": {
        "id": "bTWWlGdWZOvs",
        "colab": {
          "base_uri": "https://localhost:8080/",
          "height": 133
        },
        "outputId": "98724960-128d-4ecc-cdb0-460f7c06536e"
      }
    },
    {
      "cell_type": "markdown",
      "source": [
        "# Zip and Download "
      ],
      "metadata": {
        "id": "JKYxE2MEB6LV"
      }
    },
    {
      "cell_type": "code",
      "execution_count": null,
      "source": [
        "!cp class_names.txt model/class_names.txt"
      ],
      "outputs": [],
      "metadata": {
        "id": "865-t79uaB63"
      }
    },
    {
      "cell_type": "code",
      "execution_count": null,
      "source": [
        "!zip -r model.zip model "
      ],
      "outputs": [
        {
          "output_type": "stream",
          "name": "stdout",
          "text": [
            "  adding: model/ (stored 0%)\r\n",
            "  adding: model/group5-shard1of1 (deflated 7%)\r\n",
            "  adding: model/model.json (deflated 82%)\r\n",
            "  adding: model/group2-shard1of1 (deflated 7%)\r\n",
            "  adding: model/group3-shard1of1 (deflated 7%)\r\n",
            "  adding: model/class_names.txt (deflated 41%)\r\n",
            "  adding: model/group1-shard1of1 (stored 0%)\n",
            "  adding: model/group4-shard1of1 (deflated 7%)\n"
          ]
        }
      ],
      "metadata": {
        "id": "GLC-MzW8ZXTa",
        "colab": {
          "base_uri": "https://localhost:8080/",
          "height": 209
        },
        "outputId": "402d4e6c-da44-4815-fe0a-34a90e886e0d"
      }
    },
    {
      "cell_type": "code",
      "execution_count": 47,
      "source": [
        "text = np.load('pictures/npz/ant.full.npz', allow_pickle=True, encoding='latin1')\n",
        "text"
      ],
      "outputs": [
        {
          "output_type": "execute_result",
          "data": {
            "text/plain": [
              "<numpy.lib.npyio.NpzFile at 0x7faf28130890>"
            ]
          },
          "metadata": {},
          "execution_count": 47
        }
      ],
      "metadata": {}
    },
    {
      "cell_type": "code",
      "execution_count": 48,
      "source": [
        "text.files"
      ],
      "outputs": [
        {
          "output_type": "execute_result",
          "data": {
            "text/plain": [
              "['test', 'train', 'valid']"
            ]
          },
          "metadata": {},
          "execution_count": 48
        }
      ],
      "metadata": {}
    },
    {
      "cell_type": "code",
      "execution_count": 49,
      "source": [
        "text['train']"
      ],
      "outputs": [
        {
          "output_type": "execute_result",
          "data": {
            "text/plain": [
              "array([array([[  -1,   48,    0],\n",
              "              [  22,   32,    0],\n",
              "              [  12,    8,    0],\n",
              "              [  15,    5,    0],\n",
              "              [  11,    0,    0],\n",
              "              [  13,   -5,    0],\n",
              "              [  12,  -20,    0],\n",
              "              [   1,  -41,    0],\n",
              "              [  -7,  -23,    0],\n",
              "              [  -7,   -9,    0],\n",
              "              [ -19,   -9,    0],\n",
              "              [ -36,   -1,    0],\n",
              "              [  -7,    5,    0],\n",
              "              [  -5,   13,    0],\n",
              "              [   1,   19,    0],\n",
              "              [   9,   10,    1],\n",
              "              [ 118,  -99,    0],\n",
              "              [ -16,    2,    0],\n",
              "              [  -6,    4,    0],\n",
              "              [ -19,   35,    0],\n",
              "              [  -6,   29,    0],\n",
              "              [   0,   18,    0],\n",
              "              [   4,   14,    0],\n",
              "              [  19,   24,    0],\n",
              "              [  25,   17,    0],\n",
              "              [  13,    5,    0],\n",
              "              [  39,    0,    0],\n",
              "              [  12,  -22,    0],\n",
              "              [   3,  -16,    0],\n",
              "              [  -1,  -48,    0],\n",
              "              [ -15,  -37,    0],\n",
              "              [ -17,  -13,    0],\n",
              "              [ -11,   -4,    0],\n",
              "              [ -32,   -3,    0],\n",
              "              [  -8,    4,    0],\n",
              "              [  -6,   10,    0],\n",
              "              [   0,   10,    0],\n",
              "              [  10,   10,    1],\n",
              "              [ 109,  -70,    0],\n",
              "              [ -16,    3,    0],\n",
              "              [ -12,   12,    0],\n",
              "              [ -10,   37,    0],\n",
              "              [   0,   35,    0],\n",
              "              [   3,   14,    0],\n",
              "              [  22,   36,    0],\n",
              "              [  19,   19,    0],\n",
              "              [  10,    5,    0],\n",
              "              [  11,    4,    0],\n",
              "              [  32,    1,    0],\n",
              "              [  12,   -7,    0],\n",
              "              [  22,  -23,    0],\n",
              "              [  16,  -28,    0],\n",
              "              [   4,  -50,    0],\n",
              "              [  -2,  -17,    0],\n",
              "              [ -25,  -35,    0],\n",
              "              [ -24,  -18,    0],\n",
              "              [ -21,   -4,    0],\n",
              "              [ -21,    1,    0],\n",
              "              [ -22,   14,    0],\n",
              "              [ -17,   16,    0],\n",
              "              [  -7,   12,    0],\n",
              "              [  -1,    8,    1],\n",
              "              [-133,   40,    0],\n",
              "              [ -16,  -95,    0],\n",
              "              [   4,   -1,    1],\n",
              "              [ 127,   34,    0],\n",
              "              [ -16,  -46,    0],\n",
              "              [  -2,  -20,    0],\n",
              "              [   3,   -7,    1],\n",
              "              [ 120,   49,    0],\n",
              "              [ -11,  -24,    0],\n",
              "              [ -14,  -59,    1],\n",
              "              [-187,  260,    0],\n",
              "              [   0,   18,    0],\n",
              "              [   6,   24,    0],\n",
              "              [  36,   96,    1],\n",
              "              [  90, -136,    0],\n",
              "              [   0,   21,    0],\n",
              "              [   6,   16,    0],\n",
              "              [  37,   67,    0],\n",
              "              [   9,   26,    1],\n",
              "              [  36, -178,    0],\n",
              "              [   8,    8,    0],\n",
              "              [  27,   53,    0],\n",
              "              [  17,   51,    1]], dtype=int16),\n",
              "       array([[  -9,   -4,    0],\n",
              "              [ -17,    3,    0],\n",
              "              [ -12,    8,    0],\n",
              "              [ -12,   16,    0],\n",
              "              [ -11,   44,    0],\n",
              "              [   1,   26,    0],\n",
              "              [   6,   16,    0],\n",
              "              [  12,   11,    0],\n",
              "              [  14,    3,    0],\n",
              "              [  22,   -1,    0],\n",
              "              [  20,  -12,    0],\n",
              "              [  15,  -13,    0],\n",
              "              [  17,  -30,    0],\n",
              "              [   3,  -31,    0],\n",
              "              [  -4,  -10,    0],\n",
              "              [ -20,  -15,    0],\n",
              "              [ -18,   -8,    1],\n",
              "              [ 141,    8,    0],\n",
              "              [ -52,   20,    0],\n",
              "              [ -16,   16,    0],\n",
              "              [ -11,   18,    0],\n",
              "              [  -4,   15,    0],\n",
              "              [   2,   24,    0],\n",
              "              [  27,   10,    0],\n",
              "              [  16,    0,    0],\n",
              "              [  14,   -6,    0],\n",
              "              [  12,  -11,    0],\n",
              "              [   8,  -30,    0],\n",
              "              [   0,  -15,    0],\n",
              "              [  -6,  -14,    0],\n",
              "              [ -26,  -23,    1],\n",
              "              [ 127,   -2,    0],\n",
              "              [ -32,    8,    0],\n",
              "              [ -32,   30,    0],\n",
              "              [  -7,   22,    0],\n",
              "              [   0,   12,    0],\n",
              "              [   6,    9,    0],\n",
              "              [  13,    7,    0],\n",
              "              [  25,    7,    0],\n",
              "              [  20,    0,    0],\n",
              "              [   7,   -4,    0],\n",
              "              [   1,  -26,    0],\n",
              "              [ -11,  -67,    0],\n",
              "              [  -9,  -12,    0],\n",
              "              [  -7,    0,    1],\n",
              "              [ 108,   12,    0],\n",
              "              [ -19,    3,    0],\n",
              "              [ -19,    8,    0],\n",
              "              [ -15,   16,    0],\n",
              "              [  -9,   11,    0],\n",
              "              [  -6,   15,    0],\n",
              "              [  -3,   11,    0],\n",
              "              [   1,   18,    0],\n",
              "              [  22,   26,    0],\n",
              "              [  15,    7,    0],\n",
              "              [  15,    2,    0],\n",
              "              [  31,   -7,    0],\n",
              "              [  10,  -13,    0],\n",
              "              [   7,  -30,    0],\n",
              "              [   0,  -21,    0],\n",
              "              [ -19,  -40,    0],\n",
              "              [ -13,  -15,    1],\n",
              "              [-375,   21,    0],\n",
              "              [  -6,  -36,    0],\n",
              "              [ -25,  -86,    1],\n",
              "              [ 117,   98,    0],\n",
              "              [  60, -120,    1]], dtype=int16),\n",
              "       array([[ -11,    1,    0],\n",
              "              [  -6,   -5,    0],\n",
              "              [   1,  -17,    0],\n",
              "              [  12,  -10,    0],\n",
              "              [  19,   -6,    0],\n",
              "              [  32,    0,    0],\n",
              "              [  12,    5,    0],\n",
              "              [   6,    9,    0],\n",
              "              [   1,   19,    0],\n",
              "              [ -14,   12,    0],\n",
              "              [ -19,    1,    0],\n",
              "              [ -11,   -2,    0],\n",
              "              [ -21,  -16,    1],\n",
              "              [  93,   14,    0],\n",
              "              [ -19,   -9,    0],\n",
              "              [  -6,  -14,    0],\n",
              "              [   1,  -12,    0],\n",
              "              [  14,  -10,    0],\n",
              "              [  21,    0,    0],\n",
              "              [  13,    6,    0],\n",
              "              [   3,   21,    0],\n",
              "              [  -6,   11,    0],\n",
              "              [ -23,    3,    0],\n",
              "              [  -5,   -1,    0],\n",
              "              [  -5,   -6,    1],\n",
              "              [  36,    1,    0],\n",
              "              [   1,  -28,    0],\n",
              "              [   3,   -5,    0],\n",
              "              [  12,   -7,    0],\n",
              "              [  26,   -1,    0],\n",
              "              [  14,    7,    0],\n",
              "              [  10,   11,    0],\n",
              "              [   0,   16,    0],\n",
              "              [ -11,    7,    0],\n",
              "              [ -25,    1,    0],\n",
              "              [ -12,   -8,    1],\n",
              "              [  12,    9,    0],\n",
              "              [   0,   25,    0],\n",
              "              [ -19,   29,    1],\n",
              "              [  28,  -50,    0],\n",
              "              [   7,   14,    0],\n",
              "              [   4,   18,    0],\n",
              "              [   3,   32,    1],\n",
              "              [-175,  -95,    0],\n",
              "              [ -16,  -14,    0],\n",
              "              [ -11,  -16,    1]], dtype=int16), ...,\n",
              "       array([[ -18,    9,    0],\n",
              "              [ -17,   16,    0],\n",
              "              [  -9,   20,    0],\n",
              "              [  -2,   29,    0],\n",
              "              [  11,   23,    0],\n",
              "              [  15,    7,    0],\n",
              "              [  34,    1,    0],\n",
              "              [  13,   -3,    0],\n",
              "              [  26,  -18,    0],\n",
              "              [  19,  -27,    0],\n",
              "              [   1,  -13,    0],\n",
              "              [  -3,  -15,    0],\n",
              "              [  -7,  -16,    0],\n",
              "              [ -10,  -12,    0],\n",
              "              [ -21,   -9,    0],\n",
              "              [ -29,    0,    1],\n",
              "              [  78,   32,    0],\n",
              "              [  11,  -19,    0],\n",
              "              [   8,   -5,    0],\n",
              "              [  25,   -5,    0],\n",
              "              [  18,    2,    0],\n",
              "              [  40,   13,    0],\n",
              "              [  25,   19,    0],\n",
              "              [   6,   19,    0],\n",
              "              [  -2,   15,    0],\n",
              "              [ -18,   27,    0],\n",
              "              [ -16,   15,    0],\n",
              "              [ -39,   24,    0],\n",
              "              [ -15,    5,    0],\n",
              "              [ -33,   -7,    0],\n",
              "              [ -17,  -11,    0],\n",
              "              [  -9,  -11,    0],\n",
              "              [   0,  -14,    1],\n",
              "              [ 148,  -56,    0],\n",
              "              [  15,  -13,    0],\n",
              "              [  20,   -7,    0],\n",
              "              [  22,   -4,    0],\n",
              "              [  33,    0,    0],\n",
              "              [  28,   11,    0],\n",
              "              [  12,   18,    0],\n",
              "              [   4,   22,    0],\n",
              "              [  -2,   41,    0],\n",
              "              [  -9,   18,    0],\n",
              "              [  -4,    6,    0],\n",
              "              [ -22,   11,    0],\n",
              "              [ -26,    7,    0],\n",
              "              [ -30,   -5,    0],\n",
              "              [ -18,   -9,    0],\n",
              "              [ -11,  -12,    0],\n",
              "              [  -5,  -19,    1],\n",
              "              [-217,  -94,    0],\n",
              "              [  -9,   -7,    0],\n",
              "              [ -27,   -9,    1],\n",
              "              [  70,  -10,    0],\n",
              "              [  35,  -21,    1],\n",
              "              [ -22,   15,    0],\n",
              "              [ -10,   19,    1],\n",
              "              [ -36,   38,    0],\n",
              "              [   1,    4,    1],\n",
              "              [  36,   -5,    0],\n",
              "              [   6,   -8,    0],\n",
              "              [  -2,    4,    1],\n",
              "              [ -45,   40,    0],\n",
              "              [   7,   10,    0],\n",
              "              [  19,    9,    1],\n",
              "              [  62,   46,    0],\n",
              "              [ -16,   19,    0],\n",
              "              [  -6,   16,    1],\n",
              "              [  73,  -39,    0],\n",
              "              [   5,   25,    0],\n",
              "              [   6,    7,    1]], dtype=int16),\n",
              "       array([[  -9,   -2,    0],\n",
              "              [ -40,   12,    0],\n",
              "              [ -17,    2,    0],\n",
              "              [ -15,   19,    0],\n",
              "              [   0,   15,    0],\n",
              "              [  11,   24,    0],\n",
              "              [  10,    4,    0],\n",
              "              [  39,   -1,    0],\n",
              "              [  30,  -14,    0],\n",
              "              [  10,   -9,    0],\n",
              "              [   1,  -21,    0],\n",
              "              [  -7,  -14,    0],\n",
              "              [ -18,  -12,    1],\n",
              "              [ 112,   -7,    0],\n",
              "              [ -20,   -6,    0],\n",
              "              [ -22,    0,    0],\n",
              "              [ -29,    7,    0],\n",
              "              [ -18,   32,    0],\n",
              "              [   4,   11,    0],\n",
              "              [   9,   10,    0],\n",
              "              [  15,    4,    0],\n",
              "              [  19,   -2,    0],\n",
              "              [  39,  -22,    0],\n",
              "              [   6,  -11,    0],\n",
              "              [   0,  -11,    0],\n",
              "              [ -25,  -20,    1],\n",
              "              [  76,    3,    0],\n",
              "              [  -5,   -4,    0],\n",
              "              [ -40,   -4,    0],\n",
              "              [  -3,   37,    0],\n",
              "              [  17,   11,    0],\n",
              "              [  27,    0,    0],\n",
              "              [  15,  -14,    0],\n",
              "              [   2,   -6,    0],\n",
              "              [  -2,   -6,    0],\n",
              "              [ -14,  -13,    0],\n",
              "              [   2,   -5,    1],\n",
              "              [ -32,    0,    0],\n",
              "              [ -17,  -34,    1],\n",
              "              [  33,   19,    0],\n",
              "              [  -1,  -28,    0],\n",
              "              [   5,   -4,    1],\n",
              "              [  -7,   42,    0],\n",
              "              [   0,   -8,    0],\n",
              "              [   5,   -7,    1],\n",
              "              [-167,  102,    0],\n",
              "              [  13,   48,    1]], dtype=int16),\n",
              "       array([[-11,   6,   0],\n",
              "              [-15,  23,   0],\n",
              "              [  0,  16,   0],\n",
              "              [  9,  16,   0],\n",
              "              [  5,   5,   0],\n",
              "              [ 35,   3,   0],\n",
              "              [ 21,  -4,   0],\n",
              "              [ 11, -25,   0],\n",
              "              [ -3, -17,   0],\n",
              "              [ -7, -15,   0],\n",
              "              [ -5,  -4,   0],\n",
              "              [-36,  -7,   1],\n",
              "              [-15,   4,   0],\n",
              "              [-11,   3,   0],\n",
              "              [-28,  -4,   0],\n",
              "              [-23,   2,   0],\n",
              "              [-17,   6,   0],\n",
              "              [ -2,   5,   0],\n",
              "              [  1,  21,   0],\n",
              "              [  8,   9,   0],\n",
              "              [ 10,   5,   0],\n",
              "              [ 31,  -4,   0],\n",
              "              [ 11,  -3,   0],\n",
              "              [ 10,  -7,   1],\n",
              "              [-74, -22,   0],\n",
              "              [-15,  -4,   0],\n",
              "              [-22,   4,   0],\n",
              "              [ -5,   5,   0],\n",
              "              [ -2,  15,   0],\n",
              "              [  3,   5,   0],\n",
              "              [ 15,   5,   0],\n",
              "              [ 25,  -4,   0],\n",
              "              [  2,  -3,   1],\n",
              "              [ -5,   6,   0],\n",
              "              [ -4,  36,   0],\n",
              "              [  2,  19,   1],\n",
              "              [ 44, -48,   0],\n",
              "              [  2,  12,   0],\n",
              "              [ -3,  26,   1]], dtype=int16)], dtype=object)"
            ]
          },
          "metadata": {},
          "execution_count": 49
        }
      ],
      "metadata": {}
    },
    {
      "cell_type": "code",
      "execution_count": 46,
      "source": [
        "with np.load('pictures/npz/ant.full.npz', allow_pickle=True, encoding='latin1') as data:\n",
        "    train = data['train']\n",
        "    valid = data['valid']\n",
        "    test = data['test']"
      ],
      "outputs": [],
      "metadata": {}
    },
    {
      "cell_type": "code",
      "execution_count": 50,
      "source": [
        "len(train)"
      ],
      "outputs": [
        {
          "output_type": "execute_result",
          "data": {
            "text/plain": [
              "108187"
            ]
          },
          "metadata": {},
          "execution_count": 50
        }
      ],
      "metadata": {}
    },
    {
      "cell_type": "code",
      "execution_count": 51,
      "source": [
        "with np.load('pictures/npz/ant.npz', allow_pickle=True, encoding='latin1') as data:\n",
        "    train = data['train']\n",
        "    valid = data['valid']\n",
        "    test = data['test']"
      ],
      "outputs": [],
      "metadata": {}
    },
    {
      "cell_type": "code",
      "execution_count": 52,
      "source": [
        "len(train)"
      ],
      "outputs": [
        {
          "output_type": "execute_result",
          "data": {
            "text/plain": [
              "70000"
            ]
          },
          "metadata": {},
          "execution_count": 52
        }
      ],
      "metadata": {}
    },
    {
      "cell_type": "code",
      "execution_count": 11,
      "source": [
        "DATA_URL = 'https://storage.googleapis.com/tensorflow/tf-keras-datasets/mnist.npz'\n",
        "\n",
        "path = tf.keras.utils.get_file('mnist.npz', DATA_URL)\n",
        "with np.load(path) as data:\n",
        "  train_examples = data['x_train']\n",
        "  train_labels = data['y_train']\n",
        "  test_examples = data['x_test']\n",
        "  test_labels = data['y_test']\n"
      ],
      "outputs": [
        {
          "output_type": "stream",
          "name": "stdout",
          "text": [
            "Downloading data from https://storage.googleapis.com/tensorflow/tf-keras-datasets/mnist.npz\n",
            "11493376/11490434 [==============================] - 1s 0us/step\n"
          ]
        }
      ],
      "metadata": {}
    },
    {
      "cell_type": "code",
      "execution_count": 17,
      "source": [
        "x = np.load(path, mmap_mode='r')\n",
        "for k in x.files:\n",
        "    print(k)"
      ],
      "outputs": [
        {
          "output_type": "stream",
          "name": "stdout",
          "text": [
            "x_test\n",
            "x_train\n",
            "y_train\n",
            "y_test\n"
          ]
        }
      ],
      "metadata": {}
    },
    {
      "cell_type": "code",
      "execution_count": 21,
      "source": [
        "x.files"
      ],
      "outputs": [
        {
          "output_type": "execute_result",
          "data": {
            "text/plain": [
              "['x_test', 'x_train', 'y_train', 'y_test']"
            ]
          },
          "metadata": {},
          "execution_count": 21
        }
      ],
      "metadata": {}
    },
    {
      "cell_type": "code",
      "execution_count": 15,
      "source": [
        "data"
      ],
      "outputs": [
        {
          "output_type": "execute_result",
          "data": {
            "text/plain": [
              "<numpy.lib.npyio.NpzFile at 0x7fb07a59a510>"
            ]
          },
          "metadata": {},
          "execution_count": 15
        }
      ],
      "metadata": {}
    },
    {
      "cell_type": "code",
      "execution_count": 12,
      "source": [
        "DATA_URL"
      ],
      "outputs": [
        {
          "output_type": "execute_result",
          "data": {
            "text/plain": [
              "'https://storage.googleapis.com/tensorflow/tf-keras-datasets/mnist.npz'"
            ]
          },
          "metadata": {},
          "execution_count": 12
        }
      ],
      "metadata": {}
    },
    {
      "cell_type": "code",
      "execution_count": 14,
      "source": [
        "train_examples"
      ],
      "outputs": [
        {
          "output_type": "execute_result",
          "data": {
            "text/plain": [
              "array([[[0, 0, 0, ..., 0, 0, 0],\n",
              "        [0, 0, 0, ..., 0, 0, 0],\n",
              "        [0, 0, 0, ..., 0, 0, 0],\n",
              "        ...,\n",
              "        [0, 0, 0, ..., 0, 0, 0],\n",
              "        [0, 0, 0, ..., 0, 0, 0],\n",
              "        [0, 0, 0, ..., 0, 0, 0]],\n",
              "\n",
              "       [[0, 0, 0, ..., 0, 0, 0],\n",
              "        [0, 0, 0, ..., 0, 0, 0],\n",
              "        [0, 0, 0, ..., 0, 0, 0],\n",
              "        ...,\n",
              "        [0, 0, 0, ..., 0, 0, 0],\n",
              "        [0, 0, 0, ..., 0, 0, 0],\n",
              "        [0, 0, 0, ..., 0, 0, 0]],\n",
              "\n",
              "       [[0, 0, 0, ..., 0, 0, 0],\n",
              "        [0, 0, 0, ..., 0, 0, 0],\n",
              "        [0, 0, 0, ..., 0, 0, 0],\n",
              "        ...,\n",
              "        [0, 0, 0, ..., 0, 0, 0],\n",
              "        [0, 0, 0, ..., 0, 0, 0],\n",
              "        [0, 0, 0, ..., 0, 0, 0]],\n",
              "\n",
              "       ...,\n",
              "\n",
              "       [[0, 0, 0, ..., 0, 0, 0],\n",
              "        [0, 0, 0, ..., 0, 0, 0],\n",
              "        [0, 0, 0, ..., 0, 0, 0],\n",
              "        ...,\n",
              "        [0, 0, 0, ..., 0, 0, 0],\n",
              "        [0, 0, 0, ..., 0, 0, 0],\n",
              "        [0, 0, 0, ..., 0, 0, 0]],\n",
              "\n",
              "       [[0, 0, 0, ..., 0, 0, 0],\n",
              "        [0, 0, 0, ..., 0, 0, 0],\n",
              "        [0, 0, 0, ..., 0, 0, 0],\n",
              "        ...,\n",
              "        [0, 0, 0, ..., 0, 0, 0],\n",
              "        [0, 0, 0, ..., 0, 0, 0],\n",
              "        [0, 0, 0, ..., 0, 0, 0]],\n",
              "\n",
              "       [[0, 0, 0, ..., 0, 0, 0],\n",
              "        [0, 0, 0, ..., 0, 0, 0],\n",
              "        [0, 0, 0, ..., 0, 0, 0],\n",
              "        ...,\n",
              "        [0, 0, 0, ..., 0, 0, 0],\n",
              "        [0, 0, 0, ..., 0, 0, 0],\n",
              "        [0, 0, 0, ..., 0, 0, 0]]], dtype=uint8)"
            ]
          },
          "metadata": {},
          "execution_count": 14
        }
      ],
      "metadata": {}
    },
    {
      "cell_type": "code",
      "execution_count": 23,
      "source": [
        "len(train_examples)"
      ],
      "outputs": [
        {
          "output_type": "execute_result",
          "data": {
            "text/plain": [
              "60000"
            ]
          },
          "metadata": {},
          "execution_count": 23
        }
      ],
      "metadata": {}
    },
    {
      "cell_type": "code",
      "execution_count": 24,
      "source": [
        "train_examples[0]"
      ],
      "outputs": [
        {
          "output_type": "execute_result",
          "data": {
            "text/plain": [
              "array([[  0,   0,   0,   0,   0,   0,   0,   0,   0,   0,   0,   0,   0,\n",
              "          0,   0,   0,   0,   0,   0,   0,   0,   0,   0,   0,   0,   0,\n",
              "          0,   0],\n",
              "       [  0,   0,   0,   0,   0,   0,   0,   0,   0,   0,   0,   0,   0,\n",
              "          0,   0,   0,   0,   0,   0,   0,   0,   0,   0,   0,   0,   0,\n",
              "          0,   0],\n",
              "       [  0,   0,   0,   0,   0,   0,   0,   0,   0,   0,   0,   0,   0,\n",
              "          0,   0,   0,   0,   0,   0,   0,   0,   0,   0,   0,   0,   0,\n",
              "          0,   0],\n",
              "       [  0,   0,   0,   0,   0,   0,   0,   0,   0,   0,   0,   0,   0,\n",
              "          0,   0,   0,   0,   0,   0,   0,   0,   0,   0,   0,   0,   0,\n",
              "          0,   0],\n",
              "       [  0,   0,   0,   0,   0,   0,   0,   0,   0,   0,   0,   0,   0,\n",
              "          0,   0,   0,   0,   0,   0,   0,   0,   0,   0,   0,   0,   0,\n",
              "          0,   0],\n",
              "       [  0,   0,   0,   0,   0,   0,   0,   0,   0,   0,   0,   0,   3,\n",
              "         18,  18,  18, 126, 136, 175,  26, 166, 255, 247, 127,   0,   0,\n",
              "          0,   0],\n",
              "       [  0,   0,   0,   0,   0,   0,   0,   0,  30,  36,  94, 154, 170,\n",
              "        253, 253, 253, 253, 253, 225, 172, 253, 242, 195,  64,   0,   0,\n",
              "          0,   0],\n",
              "       [  0,   0,   0,   0,   0,   0,   0,  49, 238, 253, 253, 253, 253,\n",
              "        253, 253, 253, 253, 251,  93,  82,  82,  56,  39,   0,   0,   0,\n",
              "          0,   0],\n",
              "       [  0,   0,   0,   0,   0,   0,   0,  18, 219, 253, 253, 253, 253,\n",
              "        253, 198, 182, 247, 241,   0,   0,   0,   0,   0,   0,   0,   0,\n",
              "          0,   0],\n",
              "       [  0,   0,   0,   0,   0,   0,   0,   0,  80, 156, 107, 253, 253,\n",
              "        205,  11,   0,  43, 154,   0,   0,   0,   0,   0,   0,   0,   0,\n",
              "          0,   0],\n",
              "       [  0,   0,   0,   0,   0,   0,   0,   0,   0,  14,   1, 154, 253,\n",
              "         90,   0,   0,   0,   0,   0,   0,   0,   0,   0,   0,   0,   0,\n",
              "          0,   0],\n",
              "       [  0,   0,   0,   0,   0,   0,   0,   0,   0,   0,   0, 139, 253,\n",
              "        190,   2,   0,   0,   0,   0,   0,   0,   0,   0,   0,   0,   0,\n",
              "          0,   0],\n",
              "       [  0,   0,   0,   0,   0,   0,   0,   0,   0,   0,   0,  11, 190,\n",
              "        253,  70,   0,   0,   0,   0,   0,   0,   0,   0,   0,   0,   0,\n",
              "          0,   0],\n",
              "       [  0,   0,   0,   0,   0,   0,   0,   0,   0,   0,   0,   0,  35,\n",
              "        241, 225, 160, 108,   1,   0,   0,   0,   0,   0,   0,   0,   0,\n",
              "          0,   0],\n",
              "       [  0,   0,   0,   0,   0,   0,   0,   0,   0,   0,   0,   0,   0,\n",
              "         81, 240, 253, 253, 119,  25,   0,   0,   0,   0,   0,   0,   0,\n",
              "          0,   0],\n",
              "       [  0,   0,   0,   0,   0,   0,   0,   0,   0,   0,   0,   0,   0,\n",
              "          0,  45, 186, 253, 253, 150,  27,   0,   0,   0,   0,   0,   0,\n",
              "          0,   0],\n",
              "       [  0,   0,   0,   0,   0,   0,   0,   0,   0,   0,   0,   0,   0,\n",
              "          0,   0,  16,  93, 252, 253, 187,   0,   0,   0,   0,   0,   0,\n",
              "          0,   0],\n",
              "       [  0,   0,   0,   0,   0,   0,   0,   0,   0,   0,   0,   0,   0,\n",
              "          0,   0,   0,   0, 249, 253, 249,  64,   0,   0,   0,   0,   0,\n",
              "          0,   0],\n",
              "       [  0,   0,   0,   0,   0,   0,   0,   0,   0,   0,   0,   0,   0,\n",
              "          0,  46, 130, 183, 253, 253, 207,   2,   0,   0,   0,   0,   0,\n",
              "          0,   0],\n",
              "       [  0,   0,   0,   0,   0,   0,   0,   0,   0,   0,   0,   0,  39,\n",
              "        148, 229, 253, 253, 253, 250, 182,   0,   0,   0,   0,   0,   0,\n",
              "          0,   0],\n",
              "       [  0,   0,   0,   0,   0,   0,   0,   0,   0,   0,  24, 114, 221,\n",
              "        253, 253, 253, 253, 201,  78,   0,   0,   0,   0,   0,   0,   0,\n",
              "          0,   0],\n",
              "       [  0,   0,   0,   0,   0,   0,   0,   0,  23,  66, 213, 253, 253,\n",
              "        253, 253, 198,  81,   2,   0,   0,   0,   0,   0,   0,   0,   0,\n",
              "          0,   0],\n",
              "       [  0,   0,   0,   0,   0,   0,  18, 171, 219, 253, 253, 253, 253,\n",
              "        195,  80,   9,   0,   0,   0,   0,   0,   0,   0,   0,   0,   0,\n",
              "          0,   0],\n",
              "       [  0,   0,   0,   0,  55, 172, 226, 253, 253, 253, 253, 244, 133,\n",
              "         11,   0,   0,   0,   0,   0,   0,   0,   0,   0,   0,   0,   0,\n",
              "          0,   0],\n",
              "       [  0,   0,   0,   0, 136, 253, 253, 253, 212, 135, 132,  16,   0,\n",
              "          0,   0,   0,   0,   0,   0,   0,   0,   0,   0,   0,   0,   0,\n",
              "          0,   0],\n",
              "       [  0,   0,   0,   0,   0,   0,   0,   0,   0,   0,   0,   0,   0,\n",
              "          0,   0,   0,   0,   0,   0,   0,   0,   0,   0,   0,   0,   0,\n",
              "          0,   0],\n",
              "       [  0,   0,   0,   0,   0,   0,   0,   0,   0,   0,   0,   0,   0,\n",
              "          0,   0,   0,   0,   0,   0,   0,   0,   0,   0,   0,   0,   0,\n",
              "          0,   0],\n",
              "       [  0,   0,   0,   0,   0,   0,   0,   0,   0,   0,   0,   0,   0,\n",
              "          0,   0,   0,   0,   0,   0,   0,   0,   0,   0,   0,   0,   0,\n",
              "          0,   0]], dtype=uint8)"
            ]
          },
          "metadata": {},
          "execution_count": 24
        }
      ],
      "metadata": {}
    },
    {
      "cell_type": "code",
      "execution_count": 25,
      "source": [
        "train_examples[1]"
      ],
      "outputs": [
        {
          "output_type": "execute_result",
          "data": {
            "text/plain": [
              "array([[  0,   0,   0,   0,   0,   0,   0,   0,   0,   0,   0,   0,   0,\n",
              "          0,   0,   0,   0,   0,   0,   0,   0,   0,   0,   0,   0,   0,\n",
              "          0,   0],\n",
              "       [  0,   0,   0,   0,   0,   0,   0,   0,   0,   0,   0,   0,   0,\n",
              "          0,   0,   0,   0,   0,   0,   0,   0,   0,   0,   0,   0,   0,\n",
              "          0,   0],\n",
              "       [  0,   0,   0,   0,   0,   0,   0,   0,   0,   0,   0,   0,   0,\n",
              "          0,   0,   0,   0,   0,   0,   0,   0,   0,   0,   0,   0,   0,\n",
              "          0,   0],\n",
              "       [  0,   0,   0,   0,   0,   0,   0,   0,   0,   0,   0,   0,   0,\n",
              "          0,   0,   0,   0,   0,   0,   0,   0,   0,   0,   0,   0,   0,\n",
              "          0,   0],\n",
              "       [  0,   0,   0,   0,   0,   0,   0,   0,   0,   0,   0,   0,   0,\n",
              "          0,   0,  51, 159, 253, 159,  50,   0,   0,   0,   0,   0,   0,\n",
              "          0,   0],\n",
              "       [  0,   0,   0,   0,   0,   0,   0,   0,   0,   0,   0,   0,   0,\n",
              "          0,  48, 238, 252, 252, 252, 237,   0,   0,   0,   0,   0,   0,\n",
              "          0,   0],\n",
              "       [  0,   0,   0,   0,   0,   0,   0,   0,   0,   0,   0,   0,   0,\n",
              "         54, 227, 253, 252, 239, 233, 252,  57,   6,   0,   0,   0,   0,\n",
              "          0,   0],\n",
              "       [  0,   0,   0,   0,   0,   0,   0,   0,   0,   0,   0,  10,  60,\n",
              "        224, 252, 253, 252, 202,  84, 252, 253, 122,   0,   0,   0,   0,\n",
              "          0,   0],\n",
              "       [  0,   0,   0,   0,   0,   0,   0,   0,   0,   0,   0, 163, 252,\n",
              "        252, 252, 253, 252, 252,  96, 189, 253, 167,   0,   0,   0,   0,\n",
              "          0,   0],\n",
              "       [  0,   0,   0,   0,   0,   0,   0,   0,   0,   0,  51, 238, 253,\n",
              "        253, 190, 114, 253, 228,  47,  79, 255, 168,   0,   0,   0,   0,\n",
              "          0,   0],\n",
              "       [  0,   0,   0,   0,   0,   0,   0,   0,   0,  48, 238, 252, 252,\n",
              "        179,  12,  75, 121,  21,   0,   0, 253, 243,  50,   0,   0,   0,\n",
              "          0,   0],\n",
              "       [  0,   0,   0,   0,   0,   0,   0,   0,  38, 165, 253, 233, 208,\n",
              "         84,   0,   0,   0,   0,   0,   0, 253, 252, 165,   0,   0,   0,\n",
              "          0,   0],\n",
              "       [  0,   0,   0,   0,   0,   0,   0,   7, 178, 252, 240,  71,  19,\n",
              "         28,   0,   0,   0,   0,   0,   0, 253, 252, 195,   0,   0,   0,\n",
              "          0,   0],\n",
              "       [  0,   0,   0,   0,   0,   0,   0,  57, 252, 252,  63,   0,   0,\n",
              "          0,   0,   0,   0,   0,   0,   0, 253, 252, 195,   0,   0,   0,\n",
              "          0,   0],\n",
              "       [  0,   0,   0,   0,   0,   0,   0, 198, 253, 190,   0,   0,   0,\n",
              "          0,   0,   0,   0,   0,   0,   0, 255, 253, 196,   0,   0,   0,\n",
              "          0,   0],\n",
              "       [  0,   0,   0,   0,   0,   0,  76, 246, 252, 112,   0,   0,   0,\n",
              "          0,   0,   0,   0,   0,   0,   0, 253, 252, 148,   0,   0,   0,\n",
              "          0,   0],\n",
              "       [  0,   0,   0,   0,   0,   0,  85, 252, 230,  25,   0,   0,   0,\n",
              "          0,   0,   0,   0,   0,   7, 135, 253, 186,  12,   0,   0,   0,\n",
              "          0,   0],\n",
              "       [  0,   0,   0,   0,   0,   0,  85, 252, 223,   0,   0,   0,   0,\n",
              "          0,   0,   0,   0,   7, 131, 252, 225,  71,   0,   0,   0,   0,\n",
              "          0,   0],\n",
              "       [  0,   0,   0,   0,   0,   0,  85, 252, 145,   0,   0,   0,   0,\n",
              "          0,   0,   0,  48, 165, 252, 173,   0,   0,   0,   0,   0,   0,\n",
              "          0,   0],\n",
              "       [  0,   0,   0,   0,   0,   0,  86, 253, 225,   0,   0,   0,   0,\n",
              "          0,   0, 114, 238, 253, 162,   0,   0,   0,   0,   0,   0,   0,\n",
              "          0,   0],\n",
              "       [  0,   0,   0,   0,   0,   0,  85, 252, 249, 146,  48,  29,  85,\n",
              "        178, 225, 253, 223, 167,  56,   0,   0,   0,   0,   0,   0,   0,\n",
              "          0,   0],\n",
              "       [  0,   0,   0,   0,   0,   0,  85, 252, 252, 252, 229, 215, 252,\n",
              "        252, 252, 196, 130,   0,   0,   0,   0,   0,   0,   0,   0,   0,\n",
              "          0,   0],\n",
              "       [  0,   0,   0,   0,   0,   0,  28, 199, 252, 252, 253, 252, 252,\n",
              "        233, 145,   0,   0,   0,   0,   0,   0,   0,   0,   0,   0,   0,\n",
              "          0,   0],\n",
              "       [  0,   0,   0,   0,   0,   0,   0,  25, 128, 252, 253, 252, 141,\n",
              "         37,   0,   0,   0,   0,   0,   0,   0,   0,   0,   0,   0,   0,\n",
              "          0,   0],\n",
              "       [  0,   0,   0,   0,   0,   0,   0,   0,   0,   0,   0,   0,   0,\n",
              "          0,   0,   0,   0,   0,   0,   0,   0,   0,   0,   0,   0,   0,\n",
              "          0,   0],\n",
              "       [  0,   0,   0,   0,   0,   0,   0,   0,   0,   0,   0,   0,   0,\n",
              "          0,   0,   0,   0,   0,   0,   0,   0,   0,   0,   0,   0,   0,\n",
              "          0,   0],\n",
              "       [  0,   0,   0,   0,   0,   0,   0,   0,   0,   0,   0,   0,   0,\n",
              "          0,   0,   0,   0,   0,   0,   0,   0,   0,   0,   0,   0,   0,\n",
              "          0,   0],\n",
              "       [  0,   0,   0,   0,   0,   0,   0,   0,   0,   0,   0,   0,   0,\n",
              "          0,   0,   0,   0,   0,   0,   0,   0,   0,   0,   0,   0,   0,\n",
              "          0,   0]], dtype=uint8)"
            ]
          },
          "metadata": {},
          "execution_count": 25
        }
      ],
      "metadata": {}
    },
    {
      "cell_type": "code",
      "execution_count": 32,
      "source": [
        "len(train_examples[0])"
      ],
      "outputs": [
        {
          "output_type": "execute_result",
          "data": {
            "text/plain": [
              "28"
            ]
          },
          "metadata": {},
          "execution_count": 32
        }
      ],
      "metadata": {}
    },
    {
      "cell_type": "code",
      "execution_count": 33,
      "source": [
        "train_examples[0][0]"
      ],
      "outputs": [
        {
          "output_type": "execute_result",
          "data": {
            "text/plain": [
              "array([0, 0, 0, 0, 0, 0, 0, 0, 0, 0, 0, 0, 0, 0, 0, 0, 0, 0, 0, 0, 0, 0,\n",
              "       0, 0, 0, 0, 0, 0], dtype=uint8)"
            ]
          },
          "metadata": {},
          "execution_count": 33
        }
      ],
      "metadata": {}
    },
    {
      "cell_type": "code",
      "execution_count": 34,
      "source": [
        "len(train_examples[0][0])"
      ],
      "outputs": [
        {
          "output_type": "execute_result",
          "data": {
            "text/plain": [
              "28"
            ]
          },
          "metadata": {},
          "execution_count": 34
        }
      ],
      "metadata": {}
    },
    {
      "cell_type": "code",
      "execution_count": 31,
      "source": [
        "train_labels"
      ],
      "outputs": [
        {
          "output_type": "execute_result",
          "data": {
            "text/plain": [
              "array([5, 0, 4, ..., 5, 6, 8], dtype=uint8)"
            ]
          },
          "metadata": {},
          "execution_count": 31
        }
      ],
      "metadata": {}
    },
    {
      "cell_type": "code",
      "execution_count": 35,
      "source": [
        "train_labels[0]"
      ],
      "outputs": [
        {
          "output_type": "execute_result",
          "data": {
            "text/plain": [
              "5"
            ]
          },
          "metadata": {},
          "execution_count": 35
        }
      ],
      "metadata": {}
    },
    {
      "cell_type": "code",
      "execution_count": 36,
      "source": [
        "len(train_labels)"
      ],
      "outputs": [
        {
          "output_type": "execute_result",
          "data": {
            "text/plain": [
              "60000"
            ]
          },
          "metadata": {},
          "execution_count": 36
        }
      ],
      "metadata": {}
    },
    {
      "cell_type": "code",
      "execution_count": null,
      "source": [],
      "outputs": [],
      "metadata": {}
    }
  ]
}